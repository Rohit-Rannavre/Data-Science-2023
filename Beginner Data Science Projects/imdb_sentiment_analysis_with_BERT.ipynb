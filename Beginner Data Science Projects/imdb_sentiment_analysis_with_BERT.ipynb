{
  "nbformat": 4,
  "nbformat_minor": 0,
  "metadata": {
    "colab": {
      "provenance": [],
      "gpuType": "T4"
    },
    "kernelspec": {
      "name": "python3",
      "display_name": "Python 3"
    },
    "language_info": {
      "name": "python"
    },
    "accelerator": "GPU",
    "gpuClass": "standard"
  },
  "cells": [
    {
      "cell_type": "code",
      "source": [
        "# downloads\n",
        "!pip install -U tensorflow-text"
      ],
      "metadata": {
        "id": "oHKBvKgkNL_H"
      },
      "execution_count": null,
      "outputs": []
    },
    {
      "cell_type": "code",
      "execution_count": 2,
      "metadata": {
        "id": "LskoAw0yH8OR"
      },
      "outputs": [],
      "source": [
        "# imports\n",
        "import pandas as pd\n",
        "import tensorflow as tf\n",
        "import tensorflow_hub as hub\n",
        "import tensorflow_text\n",
        "from tensorflow.keras import Model, layers, optimizers, losses, metrics, callbacks, utils\n",
        "utils.set_random_seed(42)\n",
        "from sklearn.model_selection import train_test_split\n",
        "import matplotlib.pyplot as plt"
      ]
    },
    {
      "cell_type": "code",
      "source": [
        "# loading data; already cleaned\n",
        "df = pd.read_csv('https://raw.githubusercontent.com/Rohit-Rannavre/Data-Science-2023/main/Beginner%20Data%20Science%20Projects/imdb_dataset.csv')\n",
        "df.head()"
      ],
      "metadata": {
        "colab": {
          "base_uri": "https://localhost:8080/",
          "height": 206
        },
        "id": "XfRGmC3sIEFM",
        "outputId": "81b5569c-716f-40fc-fef5-43a275699e5c"
      },
      "execution_count": 3,
      "outputs": [
        {
          "output_type": "execute_result",
          "data": {
            "text/plain": [
              "                                                text  label\n",
              "0  i always wrote this series off as being a comp...      0\n",
              "1  st watched out of dir steve purcell typical ma...      0\n",
              "2  this movie was so poorly written and directed ...      0\n",
              "3  the most interesting thing about miryang secre...      1\n",
              "4  when i first read about berlin am meer i didn ...      0"
            ],
            "text/html": [
              "\n",
              "  <div id=\"df-e99721ea-9eb4-4cd6-b61d-4df024601174\">\n",
              "    <div class=\"colab-df-container\">\n",
              "      <div>\n",
              "<style scoped>\n",
              "    .dataframe tbody tr th:only-of-type {\n",
              "        vertical-align: middle;\n",
              "    }\n",
              "\n",
              "    .dataframe tbody tr th {\n",
              "        vertical-align: top;\n",
              "    }\n",
              "\n",
              "    .dataframe thead th {\n",
              "        text-align: right;\n",
              "    }\n",
              "</style>\n",
              "<table border=\"1\" class=\"dataframe\">\n",
              "  <thead>\n",
              "    <tr style=\"text-align: right;\">\n",
              "      <th></th>\n",
              "      <th>text</th>\n",
              "      <th>label</th>\n",
              "    </tr>\n",
              "  </thead>\n",
              "  <tbody>\n",
              "    <tr>\n",
              "      <th>0</th>\n",
              "      <td>i always wrote this series off as being a comp...</td>\n",
              "      <td>0</td>\n",
              "    </tr>\n",
              "    <tr>\n",
              "      <th>1</th>\n",
              "      <td>st watched out of dir steve purcell typical ma...</td>\n",
              "      <td>0</td>\n",
              "    </tr>\n",
              "    <tr>\n",
              "      <th>2</th>\n",
              "      <td>this movie was so poorly written and directed ...</td>\n",
              "      <td>0</td>\n",
              "    </tr>\n",
              "    <tr>\n",
              "      <th>3</th>\n",
              "      <td>the most interesting thing about miryang secre...</td>\n",
              "      <td>1</td>\n",
              "    </tr>\n",
              "    <tr>\n",
              "      <th>4</th>\n",
              "      <td>when i first read about berlin am meer i didn ...</td>\n",
              "      <td>0</td>\n",
              "    </tr>\n",
              "  </tbody>\n",
              "</table>\n",
              "</div>\n",
              "      <button class=\"colab-df-convert\" onclick=\"convertToInteractive('df-e99721ea-9eb4-4cd6-b61d-4df024601174')\"\n",
              "              title=\"Convert this dataframe to an interactive table.\"\n",
              "              style=\"display:none;\">\n",
              "        \n",
              "  <svg xmlns=\"http://www.w3.org/2000/svg\" height=\"24px\"viewBox=\"0 0 24 24\"\n",
              "       width=\"24px\">\n",
              "    <path d=\"M0 0h24v24H0V0z\" fill=\"none\"/>\n",
              "    <path d=\"M18.56 5.44l.94 2.06.94-2.06 2.06-.94-2.06-.94-.94-2.06-.94 2.06-2.06.94zm-11 1L8.5 8.5l.94-2.06 2.06-.94-2.06-.94L8.5 2.5l-.94 2.06-2.06.94zm10 10l.94 2.06.94-2.06 2.06-.94-2.06-.94-.94-2.06-.94 2.06-2.06.94z\"/><path d=\"M17.41 7.96l-1.37-1.37c-.4-.4-.92-.59-1.43-.59-.52 0-1.04.2-1.43.59L10.3 9.45l-7.72 7.72c-.78.78-.78 2.05 0 2.83L4 21.41c.39.39.9.59 1.41.59.51 0 1.02-.2 1.41-.59l7.78-7.78 2.81-2.81c.8-.78.8-2.07 0-2.86zM5.41 20L4 18.59l7.72-7.72 1.47 1.35L5.41 20z\"/>\n",
              "  </svg>\n",
              "      </button>\n",
              "      \n",
              "  <style>\n",
              "    .colab-df-container {\n",
              "      display:flex;\n",
              "      flex-wrap:wrap;\n",
              "      gap: 12px;\n",
              "    }\n",
              "\n",
              "    .colab-df-convert {\n",
              "      background-color: #E8F0FE;\n",
              "      border: none;\n",
              "      border-radius: 50%;\n",
              "      cursor: pointer;\n",
              "      display: none;\n",
              "      fill: #1967D2;\n",
              "      height: 32px;\n",
              "      padding: 0 0 0 0;\n",
              "      width: 32px;\n",
              "    }\n",
              "\n",
              "    .colab-df-convert:hover {\n",
              "      background-color: #E2EBFA;\n",
              "      box-shadow: 0px 1px 2px rgba(60, 64, 67, 0.3), 0px 1px 3px 1px rgba(60, 64, 67, 0.15);\n",
              "      fill: #174EA6;\n",
              "    }\n",
              "\n",
              "    [theme=dark] .colab-df-convert {\n",
              "      background-color: #3B4455;\n",
              "      fill: #D2E3FC;\n",
              "    }\n",
              "\n",
              "    [theme=dark] .colab-df-convert:hover {\n",
              "      background-color: #434B5C;\n",
              "      box-shadow: 0px 1px 3px 1px rgba(0, 0, 0, 0.15);\n",
              "      filter: drop-shadow(0px 1px 2px rgba(0, 0, 0, 0.3));\n",
              "      fill: #FFFFFF;\n",
              "    }\n",
              "  </style>\n",
              "\n",
              "      <script>\n",
              "        const buttonEl =\n",
              "          document.querySelector('#df-e99721ea-9eb4-4cd6-b61d-4df024601174 button.colab-df-convert');\n",
              "        buttonEl.style.display =\n",
              "          google.colab.kernel.accessAllowed ? 'block' : 'none';\n",
              "\n",
              "        async function convertToInteractive(key) {\n",
              "          const element = document.querySelector('#df-e99721ea-9eb4-4cd6-b61d-4df024601174');\n",
              "          const dataTable =\n",
              "            await google.colab.kernel.invokeFunction('convertToInteractive',\n",
              "                                                     [key], {});\n",
              "          if (!dataTable) return;\n",
              "\n",
              "          const docLinkHtml = 'Like what you see? Visit the ' +\n",
              "            '<a target=\"_blank\" href=https://colab.research.google.com/notebooks/data_table.ipynb>data table notebook</a>'\n",
              "            + ' to learn more about interactive tables.';\n",
              "          element.innerHTML = '';\n",
              "          dataTable['output_type'] = 'display_data';\n",
              "          await google.colab.output.renderOutput(dataTable, element);\n",
              "          const docLink = document.createElement('div');\n",
              "          docLink.innerHTML = docLinkHtml;\n",
              "          element.appendChild(docLink);\n",
              "        }\n",
              "      </script>\n",
              "    </div>\n",
              "  </div>\n",
              "  "
            ]
          },
          "metadata": {},
          "execution_count": 3
        }
      ]
    },
    {
      "cell_type": "code",
      "source": [
        "# getting info of dataset\n",
        "df.info()"
      ],
      "metadata": {
        "colab": {
          "base_uri": "https://localhost:8080/"
        },
        "id": "32Bc6sQ7IKf1",
        "outputId": "a3f8461e-02ca-4bda-9fe2-8a2b50a0687c"
      },
      "execution_count": 4,
      "outputs": [
        {
          "output_type": "stream",
          "name": "stdout",
          "text": [
            "<class 'pandas.core.frame.DataFrame'>\n",
            "RangeIndex: 5000 entries, 0 to 4999\n",
            "Data columns (total 2 columns):\n",
            " #   Column  Non-Null Count  Dtype \n",
            "---  ------  --------------  ----- \n",
            " 0   text    5000 non-null   object\n",
            " 1   label   5000 non-null   int64 \n",
            "dtypes: int64(1), object(1)\n",
            "memory usage: 78.2+ KB\n"
          ]
        }
      ]
    },
    {
      "cell_type": "code",
      "source": [
        "# creating X & y\n",
        "X = df['text']\n",
        "y = df['label']"
      ],
      "metadata": {
        "id": "aMUq84eXKEVo"
      },
      "execution_count": 5,
      "outputs": []
    },
    {
      "cell_type": "code",
      "source": [
        "# spitting data into training, testing sets\n",
        "X_train, X_test, y_train, y_test = train_test_split(X, y, test_size=0.2, stratify=y, random_state=18)"
      ],
      "metadata": {
        "id": "AOpRTODaTpOZ"
      },
      "execution_count": 6,
      "outputs": []
    },
    {
      "cell_type": "code",
      "source": [
        "# getting shape of training, testing sets\n",
        "print('Shape of X_train:', X_train.shape)\n",
        "print('Shape of X_test:', X_test.shape)\n",
        "print('Shape of y_train:', y_train.shape)\n",
        "print('Shape of y_test:', y_test.shape)"
      ],
      "metadata": {
        "colab": {
          "base_uri": "https://localhost:8080/"
        },
        "id": "aKIgqfhkUh9J",
        "outputId": "435b53e6-2919-4ff5-d794-abc367d8d7c1"
      },
      "execution_count": 7,
      "outputs": [
        {
          "output_type": "stream",
          "name": "stdout",
          "text": [
            "Shape of X_train: (4000,)\n",
            "Shape of X_test: (1000,)\n",
            "Shape of y_train: (4000,)\n",
            "Shape of y_test: (1000,)\n"
          ]
        }
      ]
    },
    {
      "cell_type": "code",
      "source": [
        "# model building\n",
        "inputs = layers.Input(shape=(), dtype=tf.string, name='input_layer')\n",
        "preprocesser = hub.KerasLayer(handle='https://tfhub.dev/tensorflow/bert_en_uncased_preprocess/3', name='preprocessor')\n",
        "encoder_inputs = preprocesser(inputs)\n",
        "encoder = hub.KerasLayer(handle='https://tfhub.dev/tensorflow/bert_en_uncased_L-12_H-768_A-12/4', name='encoder')\n",
        "encoder_outputs = encoder(encoder_inputs)\n",
        "hidden_1 = layers.Dense(units=32, name='hidden_1')(encoder_outputs['pooled_output'])\n",
        "dropout = layers.Dropout(rate=0.2)(hidden_1)\n",
        "hidden_2 = layers.Dense(units=16, name='hidden_2')(dropout)\n",
        "outputs = layers.Dense(units=1, activation='sigmoid', name='output_layer')(hidden_2)\n",
        "model = Model(inputs=inputs, outputs=outputs)"
      ],
      "metadata": {
        "id": "dJ1NdfaHLheV"
      },
      "execution_count": 8,
      "outputs": []
    },
    {
      "cell_type": "code",
      "source": [
        "# model summary\n",
        "model.summary()"
      ],
      "metadata": {
        "colab": {
          "base_uri": "https://localhost:8080/"
        },
        "id": "O4aUg6uyLvsc",
        "outputId": "c079d313-c0fd-4c51-b443-cbfdf2e0acdc"
      },
      "execution_count": 9,
      "outputs": [
        {
          "output_type": "stream",
          "name": "stdout",
          "text": [
            "Model: \"model\"\n",
            "__________________________________________________________________________________________________\n",
            " Layer (type)                   Output Shape         Param #     Connected to                     \n",
            "==================================================================================================\n",
            " input_layer (InputLayer)       [(None,)]            0           []                               \n",
            "                                                                                                  \n",
            " preprocessor (KerasLayer)      {'input_type_ids':   0           ['input_layer[0][0]']            \n",
            "                                (None, 128),                                                      \n",
            "                                 'input_mask': (Non                                               \n",
            "                                e, 128),                                                          \n",
            "                                 'input_word_ids':                                                \n",
            "                                (None, 128)}                                                      \n",
            "                                                                                                  \n",
            " encoder (KerasLayer)           {'sequence_output':  109482241   ['preprocessor[0][0]',           \n",
            "                                 (None, 128, 768),                'preprocessor[0][1]',           \n",
            "                                 'pooled_output': (               'preprocessor[0][2]']           \n",
            "                                None, 768),                                                       \n",
            "                                 'encoder_outputs':                                               \n",
            "                                 [(None, 128, 768),                                               \n",
            "                                 (None, 128, 768),                                                \n",
            "                                 (None, 128, 768),                                                \n",
            "                                 (None, 128, 768),                                                \n",
            "                                 (None, 128, 768),                                                \n",
            "                                 (None, 128, 768),                                                \n",
            "                                 (None, 128, 768),                                                \n",
            "                                 (None, 128, 768),                                                \n",
            "                                 (None, 128, 768),                                                \n",
            "                                 (None, 128, 768),                                                \n",
            "                                 (None, 128, 768),                                                \n",
            "                                 (None, 128, 768)],                                               \n",
            "                                 'default': (None,                                                \n",
            "                                768)}                                                             \n",
            "                                                                                                  \n",
            " hidden_1 (Dense)               (None, 32)           24608       ['encoder[0][13]']               \n",
            "                                                                                                  \n",
            " dropout (Dropout)              (None, 32)           0           ['hidden_1[0][0]']               \n",
            "                                                                                                  \n",
            " hidden_2 (Dense)               (None, 16)           528         ['dropout[0][0]']                \n",
            "                                                                                                  \n",
            " output_layer (Dense)           (None, 1)            17          ['hidden_2[0][0]']               \n",
            "                                                                                                  \n",
            "==================================================================================================\n",
            "Total params: 109,507,394\n",
            "Trainable params: 25,153\n",
            "Non-trainable params: 109,482,241\n",
            "__________________________________________________________________________________________________\n"
          ]
        }
      ]
    },
    {
      "cell_type": "code",
      "source": [
        "# model config\n",
        "model.compile(optimizer=optimizers.AdamW(), loss=losses.BinaryCrossentropy(), metrics=[metrics.BinaryAccuracy()])"
      ],
      "metadata": {
        "id": "S0-6a6BcR8cf"
      },
      "execution_count": 10,
      "outputs": []
    },
    {
      "cell_type": "code",
      "source": [
        "# model training\n",
        "history = model.fit(X_train, y_train, validation_data=(X_test, y_test), epochs=4, \n",
        "                    callbacks=callbacks.EarlyStopping(monitor='val_binary_accuracy', mode='max', patience=2))"
      ],
      "metadata": {
        "colab": {
          "base_uri": "https://localhost:8080/"
        },
        "id": "w9UYfED1TQsl",
        "outputId": "6e8ccd1c-068e-411e-8947-0424a9dc7532"
      },
      "execution_count": 11,
      "outputs": [
        {
          "output_type": "stream",
          "name": "stdout",
          "text": [
            "Epoch 1/4\n",
            "125/125 [==============================] - 70s 429ms/step - loss: 0.6604 - binary_accuracy: 0.6075 - val_loss: 0.5954 - val_binary_accuracy: 0.6880\n",
            "Epoch 2/4\n",
            "125/125 [==============================] - 64s 512ms/step - loss: 0.5926 - binary_accuracy: 0.6840 - val_loss: 0.5602 - val_binary_accuracy: 0.7230\n",
            "Epoch 3/4\n",
            "125/125 [==============================] - 64s 513ms/step - loss: 0.5797 - binary_accuracy: 0.6955 - val_loss: 0.5411 - val_binary_accuracy: 0.7400\n",
            "Epoch 4/4\n",
            "125/125 [==============================] - 54s 436ms/step - loss: 0.5312 - binary_accuracy: 0.7270 - val_loss: 0.5176 - val_binary_accuracy: 0.7550\n"
          ]
        }
      ]
    },
    {
      "cell_type": "code",
      "source": [
        "# model evaluation\n",
        "loss, accuracy = model.evaluate(X_test, y_test, verbose=0)\n",
        "print('Accuracy:', round(accuracy * 100, 2))"
      ],
      "metadata": {
        "colab": {
          "base_uri": "https://localhost:8080/"
        },
        "id": "h34fLhy-TWme",
        "outputId": "5bd19bcf-b336-4f32-c5eb-51bd9836e8d2"
      },
      "execution_count": 12,
      "outputs": [
        {
          "output_type": "stream",
          "name": "stdout",
          "text": [
            "Accuracy: 75.5\n"
          ]
        }
      ]
    },
    {
      "cell_type": "code",
      "source": [
        "# plotting loss\n",
        "fig = plt.figure(figsize=(8, 2))\n",
        "plt.plot(history.history['loss'], 'r', label='Training loss')\n",
        "plt.plot(history.history['val_loss'], 'b', label='Validation loss')\n",
        "plt.title('Loss Evaluation')\n",
        "plt.xlabel('Epochs')\n",
        "plt.ylabel('Loss')\n",
        "plt.legend();"
      ],
      "metadata": {
        "colab": {
          "base_uri": "https://localhost:8080/",
          "height": 256
        },
        "id": "evGr3L3CYXF7",
        "outputId": "4374a99a-77a8-43d2-8afa-e13b949fde6c"
      },
      "execution_count": 13,
      "outputs": [
        {
          "output_type": "display_data",
          "data": {
            "text/plain": [
              "<Figure size 800x200 with 1 Axes>"
            ],
            "image/png": "[encoded data removed]"
          },
          "metadata": {}
        }
      ]
    },
    {
      "cell_type": "code",
      "source": [
        "# plotting accuracy\n",
        "fig = plt.figure(figsize=(8, 2))\n",
        "plt.plot(history.history['binary_accuracy'], 'r', label='Training Accuracy')\n",
        "plt.plot(history.history['val_binary_accuracy'], 'b', label='Validation Accuracy')\n",
        "plt.title('Accuracy Evaluation')\n",
        "plt.xlabel('Epochs')\n",
        "plt.ylabel('Accuracy')\n",
        "plt.legend();"
      ],
      "metadata": {
        "colab": {
          "base_uri": "https://localhost:8080/",
          "height": 256
        },
        "id": "TvbEZCDKkUmg",
        "outputId": "c34a7057-4f77-4240-bdc0-227c4bae80ed"
      },
      "execution_count": 14,
      "outputs": [
        {
          "output_type": "display_data",
          "data": {
            "text/plain": [
              "<Figure size 800x200 with 1 Axes>"
            ],
            "image/png": "[encoded data removed]"
          },
          "metadata": {}
        }
      ]
    }
  ]
}