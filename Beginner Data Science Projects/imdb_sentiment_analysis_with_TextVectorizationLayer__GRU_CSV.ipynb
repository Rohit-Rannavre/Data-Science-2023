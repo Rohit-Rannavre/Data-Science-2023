{
  "nbformat": 4,
  "nbformat_minor": 0,
  "metadata": {
    "colab": {
      "provenance": []
    },
    "kernelspec": {
      "name": "python3",
      "display_name": "Python 3"
    },
    "language_info": {
      "name": "python"
    }
  },
  "cells": [
    {
      "cell_type": "code",
      "execution_count": 1,
      "metadata": {
        "id": "q71B7KJnL8MZ"
      },
      "outputs": [],
      "source": [
        "# imports\n",
        "import pandas as pd\n",
        "from sklearn.model_selection import train_test_split\n",
        "from gensim.parsing.preprocessing import strip_tags, strip_numeric\n",
        "import tensorflow as tf\n",
        "import tensorflow_datasets as tfds\n",
        "from tensorflow.keras import Sequential\n",
        "from tensorflow.keras import layers\n",
        "from tensorflow.keras import callbacks\n",
        "from tensorflow.keras import utils\n",
        "utils.set_random_seed(42)"
      ]
    },
    {
      "cell_type": "code",
      "source": [
        "# loading data\n",
        "df = pd.read_csv('/content/imdb_reviews_sentiment_analysis.csv')\n",
        "df.sample(5)"
      ],
      "metadata": {
        "colab": {
          "base_uri": "https://localhost:8080/",
          "height": 206
        },
        "id": "leE9HrB8L-01",
        "outputId": "c5278730-fcca-41f9-f6d6-b1b4dbcd9af1"
      },
      "execution_count": 2,
      "outputs": [
        {
          "output_type": "execute_result",
          "data": {
            "text/plain": [
              "                                                   text  label\n",
              "1501  I wanted to watch this movie because of Eliza ...      0\n",
              "2586  \"Tourist Trap\" is a genuinely spooky low-budge...      1\n",
              "2653  Cops Logan Alexander and Debbie Rochon escort ...      0\n",
              "1055  This movie was terrible!I rented it not knowin...      0\n",
              "705   I absolutely LOVED this movie as a child. I ca...      1"
            ],
            "text/html": [
              "\n",
              "  <div id=\"df-ea3facc4-0b7e-43b7-b3c4-bbfc041d7c89\">\n",
              "    <div class=\"colab-df-container\">\n",
              "      <div>\n",
              "<style scoped>\n",
              "    .dataframe tbody tr th:only-of-type {\n",
              "        vertical-align: middle;\n",
              "    }\n",
              "\n",
              "    .dataframe tbody tr th {\n",
              "        vertical-align: top;\n",
              "    }\n",
              "\n",
              "    .dataframe thead th {\n",
              "        text-align: right;\n",
              "    }\n",
              "</style>\n",
              "<table border=\"1\" class=\"dataframe\">\n",
              "  <thead>\n",
              "    <tr style=\"text-align: right;\">\n",
              "      <th></th>\n",
              "      <th>text</th>\n",
              "      <th>label</th>\n",
              "    </tr>\n",
              "  </thead>\n",
              "  <tbody>\n",
              "    <tr>\n",
              "      <th>1501</th>\n",
              "      <td>I wanted to watch this movie because of Eliza ...</td>\n",
              "      <td>0</td>\n",
              "    </tr>\n",
              "    <tr>\n",
              "      <th>2586</th>\n",
              "      <td>\"Tourist Trap\" is a genuinely spooky low-budge...</td>\n",
              "      <td>1</td>\n",
              "    </tr>\n",
              "    <tr>\n",
              "      <th>2653</th>\n",
              "      <td>Cops Logan Alexander and Debbie Rochon escort ...</td>\n",
              "      <td>0</td>\n",
              "    </tr>\n",
              "    <tr>\n",
              "      <th>1055</th>\n",
              "      <td>This movie was terrible!I rented it not knowin...</td>\n",
              "      <td>0</td>\n",
              "    </tr>\n",
              "    <tr>\n",
              "      <th>705</th>\n",
              "      <td>I absolutely LOVED this movie as a child. I ca...</td>\n",
              "      <td>1</td>\n",
              "    </tr>\n",
              "  </tbody>\n",
              "</table>\n",
              "</div>\n",
              "      <button class=\"colab-df-convert\" onclick=\"convertToInteractive('df-ea3facc4-0b7e-43b7-b3c4-bbfc041d7c89')\"\n",
              "              title=\"Convert this dataframe to an interactive table.\"\n",
              "              style=\"display:none;\">\n",
              "        \n",
              "  <svg xmlns=\"http://www.w3.org/2000/svg\" height=\"24px\"viewBox=\"0 0 24 24\"\n",
              "       width=\"24px\">\n",
              "    <path d=\"M0 0h24v24H0V0z\" fill=\"none\"/>\n",
              "    <path d=\"M18.56 5.44l.94 2.06.94-2.06 2.06-.94-2.06-.94-.94-2.06-.94 2.06-2.06.94zm-11 1L8.5 8.5l.94-2.06 2.06-.94-2.06-.94L8.5 2.5l-.94 2.06-2.06.94zm10 10l.94 2.06.94-2.06 2.06-.94-2.06-.94-.94-2.06-.94 2.06-2.06.94z\"/><path d=\"M17.41 7.96l-1.37-1.37c-.4-.4-.92-.59-1.43-.59-.52 0-1.04.2-1.43.59L10.3 9.45l-7.72 7.72c-.78.78-.78 2.05 0 2.83L4 21.41c.39.39.9.59 1.41.59.51 0 1.02-.2 1.41-.59l7.78-7.78 2.81-2.81c.8-.78.8-2.07 0-2.86zM5.41 20L4 18.59l7.72-7.72 1.47 1.35L5.41 20z\"/>\n",
              "  </svg>\n",
              "      </button>\n",
              "      \n",
              "  <style>\n",
              "    .colab-df-container {\n",
              "      display:flex;\n",
              "      flex-wrap:wrap;\n",
              "      gap: 12px;\n",
              "    }\n",
              "\n",
              "    .colab-df-convert {\n",
              "      background-color: #E8F0FE;\n",
              "      border: none;\n",
              "      border-radius: 50%;\n",
              "      cursor: pointer;\n",
              "      display: none;\n",
              "      fill: #1967D2;\n",
              "      height: 32px;\n",
              "      padding: 0 0 0 0;\n",
              "      width: 32px;\n",
              "    }\n",
              "\n",
              "    .colab-df-convert:hover {\n",
              "      background-color: #E2EBFA;\n",
              "      box-shadow: 0px 1px 2px rgba(60, 64, 67, 0.3), 0px 1px 3px 1px rgba(60, 64, 67, 0.15);\n",
              "      fill: #174EA6;\n",
              "    }\n",
              "\n",
              "    [theme=dark] .colab-df-convert {\n",
              "      background-color: #3B4455;\n",
              "      fill: #D2E3FC;\n",
              "    }\n",
              "\n",
              "    [theme=dark] .colab-df-convert:hover {\n",
              "      background-color: #434B5C;\n",
              "      box-shadow: 0px 1px 3px 1px rgba(0, 0, 0, 0.15);\n",
              "      filter: drop-shadow(0px 1px 2px rgba(0, 0, 0, 0.3));\n",
              "      fill: #FFFFFF;\n",
              "    }\n",
              "  </style>\n",
              "\n",
              "      <script>\n",
              "        const buttonEl =\n",
              "          document.querySelector('#df-ea3facc4-0b7e-43b7-b3c4-bbfc041d7c89 button.colab-df-convert');\n",
              "        buttonEl.style.display =\n",
              "          google.colab.kernel.accessAllowed ? 'block' : 'none';\n",
              "\n",
              "        async function convertToInteractive(key) {\n",
              "          const element = document.querySelector('#df-ea3facc4-0b7e-43b7-b3c4-bbfc041d7c89');\n",
              "          const dataTable =\n",
              "            await google.colab.kernel.invokeFunction('convertToInteractive',\n",
              "                                                     [key], {});\n",
              "          if (!dataTable) return;\n",
              "\n",
              "          const docLinkHtml = 'Like what you see? Visit the ' +\n",
              "            '<a target=\"_blank\" href=https://colab.research.google.com/notebooks/data_table.ipynb>data table notebook</a>'\n",
              "            + ' to learn more about interactive tables.';\n",
              "          element.innerHTML = '';\n",
              "          dataTable['output_type'] = 'display_data';\n",
              "          await google.colab.output.renderOutput(dataTable, element);\n",
              "          const docLink = document.createElement('div');\n",
              "          docLink.innerHTML = docLinkHtml;\n",
              "          element.appendChild(docLink);\n",
              "        }\n",
              "      </script>\n",
              "    </div>\n",
              "  </div>\n",
              "  "
            ]
          },
          "metadata": {},
          "execution_count": 2
        }
      ]
    },
    {
      "cell_type": "code",
      "source": [
        "# getting info of dataset\n",
        "df.info()"
      ],
      "metadata": {
        "colab": {
          "base_uri": "https://localhost:8080/"
        },
        "id": "B-Pd_LnCMeP9",
        "outputId": "4bebbc83-3586-4f5d-8e83-ec3bc7d1e9bb"
      },
      "execution_count": 3,
      "outputs": [
        {
          "output_type": "stream",
          "name": "stdout",
          "text": [
            "<class 'pandas.core.frame.DataFrame'>\n",
            "RangeIndex: 5000 entries, 0 to 4999\n",
            "Data columns (total 2 columns):\n",
            " #   Column  Non-Null Count  Dtype \n",
            "---  ------  --------------  ----- \n",
            " 0   text    5000 non-null   object\n",
            " 1   label   5000 non-null   int64 \n",
            "dtypes: int64(1), object(1)\n",
            "memory usage: 78.2+ KB\n"
          ]
        }
      ]
    },
    {
      "cell_type": "code",
      "source": [
        "# getting value count of target\n",
        "df['label'].value_counts()"
      ],
      "metadata": {
        "colab": {
          "base_uri": "https://localhost:8080/"
        },
        "id": "Juc3GjOZM0N0",
        "outputId": "04a4acdb-a2e0-4b8a-f0e2-fcc3e04277eb"
      },
      "execution_count": 4,
      "outputs": [
        {
          "output_type": "execute_result",
          "data": {
            "text/plain": [
              "1    2505\n",
              "0    2495\n",
              "Name: label, dtype: int64"
            ]
          },
          "metadata": {},
          "execution_count": 4
        }
      ]
    },
    {
      "cell_type": "code",
      "source": [
        "# data preprocessing\n",
        "df['text'] = df['text'].apply(strip_tags)\n",
        "df['text'] = df['text'].apply(strip_numeric)"
      ],
      "metadata": {
        "id": "1E4CeUgmRkhi"
      },
      "execution_count": 5,
      "outputs": []
    },
    {
      "cell_type": "code",
      "source": [
        "# creating X & y\n",
        "X = df['text'].values\n",
        "y = df['label'].values"
      ],
      "metadata": {
        "id": "6eNE8snhNlqN"
      },
      "execution_count": 6,
      "outputs": []
    },
    {
      "cell_type": "code",
      "source": [
        "# splitting the data into training & testing sets\n",
        "X_train, X_test, y_train, y_test = train_test_split(X, y, test_size=0.2)"
      ],
      "metadata": {
        "id": "1zhCtnD8NsOS"
      },
      "execution_count": 7,
      "outputs": []
    },
    {
      "cell_type": "code",
      "source": [
        "# text vectorization\n",
        "Vectorizer = layers.TextVectorization(max_tokens=2000+2, output_mode='int', output_sequence_length=100,\n",
        "                                      pad_to_max_tokens=True, standardize='lower_and_strip_punctuation', split='whitespace')\n",
        "Vectorizer.adapt(X_train)"
      ],
      "metadata": {
        "id": "y5KUFYkIPiFF"
      },
      "execution_count": 8,
      "outputs": []
    },
    {
      "cell_type": "code",
      "source": [
        "# creating tf datasets\n",
        "train_ds = tf.data.Dataset.from_tensor_slices((X_train, y_train)).shuffle(len(X_train)).batch(32).cache().prefetch(tf.data.AUTOTUNE)\n",
        "test_ds = tf.data.Dataset.from_tensor_slices((X_test, y_test)).batch(32).prefetch(tf.data.AUTOTUNE)"
      ],
      "metadata": {
        "id": "QHTpjZnvWM3d"
      },
      "execution_count": 9,
      "outputs": []
    },
    {
      "cell_type": "code",
      "source": [
        "# model building\n",
        "model = Sequential()\n",
        "model.add(layers.Input(shape=(1,), dtype=tf.string))\n",
        "model.add(Vectorizer)\n",
        "model.add(layers.Embedding(input_dim=Vectorizer.vocabulary_size(), output_dim=2, input_length=(100)))\n",
        "model.add(layers.GRU(units=32, activation='tanh', return_sequences=True, dropout=0.4, input_shape=(32, 100, 1)))\n",
        "model.add(layers.BatchNormalization())\n",
        "model.add(layers.GRU(units=16, activation='tanh', dropout=0.4))\n",
        "model.add(layers.BatchNormalization())\n",
        "model.add(layers.Dense(units=8, activation='relu'))\n",
        "model.add(layers.Dense(units=1, activation='sigmoid'))"
      ],
      "metadata": {
        "id": "HMYaLAQ9Rk0h"
      },
      "execution_count": 10,
      "outputs": []
    },
    {
      "cell_type": "code",
      "source": [
        "# model summary\n",
        "model.summary()"
      ],
      "metadata": {
        "colab": {
          "base_uri": "https://localhost:8080/"
        },
        "id": "jQvxEMLQRyVC",
        "outputId": "d3619245-50dd-493b-f539-963b9b9b9de1"
      },
      "execution_count": 11,
      "outputs": [
        {
          "output_type": "stream",
          "name": "stdout",
          "text": [
            "Model: \"sequential\"\n",
            "_________________________________________________________________\n",
            " Layer (type)                Output Shape              Param #   \n",
            "=================================================================\n",
            " text_vectorization (TextVec  (None, 100)              0         \n",
            " torization)                                                     \n",
            "                                                                 \n",
            " embedding (Embedding)       (None, 100, 2)            4004      \n",
            "                                                                 \n",
            " gru (GRU)                   (None, 100, 32)           3456      \n",
            "                                                                 \n",
            " batch_normalization (BatchN  (None, 100, 32)          128       \n",
            " ormalization)                                                   \n",
            "                                                                 \n",
            " gru_1 (GRU)                 (None, 16)                2400      \n",
            "                                                                 \n",
            " batch_normalization_1 (Batc  (None, 16)               64        \n",
            " hNormalization)                                                 \n",
            "                                                                 \n",
            " dense (Dense)               (None, 8)                 136       \n",
            "                                                                 \n",
            " dense_1 (Dense)             (None, 1)                 9         \n",
            "                                                                 \n",
            "=================================================================\n",
            "Total params: 10,197\n",
            "Trainable params: 10,101\n",
            "Non-trainable params: 96\n",
            "_________________________________________________________________\n"
          ]
        }
      ]
    },
    {
      "cell_type": "code",
      "source": [
        "# model config\n",
        "model.compile(loss='binary_crossentropy', optimizer='adam', metrics=['accuracy'])"
      ],
      "metadata": {
        "id": "NZbC8OrVR3GX"
      },
      "execution_count": 12,
      "outputs": []
    },
    {
      "cell_type": "code",
      "source": [
        "# model training\n",
        "history = model.fit(train_ds, epochs=5, verbose=1, callbacks=[callbacks.EarlyStopping(monitor='accuracy', patience=2)])"
      ],
      "metadata": {
        "colab": {
          "base_uri": "https://localhost:8080/"
        },
        "id": "aWZeiV_uR8Us",
        "outputId": "eb9491e9-6155-475e-95bc-ad988d47e2e5"
      },
      "execution_count": 13,
      "outputs": [
        {
          "output_type": "stream",
          "name": "stdout",
          "text": [
            "Epoch 1/5\n",
            "125/125 [==============================] - 27s 131ms/step - loss: 0.7529 - accuracy: 0.4865\n",
            "Epoch 2/5\n",
            "125/125 [==============================] - 13s 108ms/step - loss: 0.6997 - accuracy: 0.4972\n",
            "Epoch 3/5\n",
            "125/125 [==============================] - 13s 107ms/step - loss: 0.6946 - accuracy: 0.5188\n",
            "Epoch 4/5\n",
            "125/125 [==============================] - 14s 109ms/step - loss: 0.6797 - accuracy: 0.5580\n",
            "Epoch 5/5\n",
            "125/125 [==============================] - 13s 108ms/step - loss: 0.6532 - accuracy: 0.5955\n"
          ]
        }
      ]
    },
    {
      "cell_type": "code",
      "source": [
        "# model evaluation\n",
        "scores = model.evaluate(test_ds, verbose=0)\n",
        "print('Accuracy:', round(scores[1] * 100, 2))"
      ],
      "metadata": {
        "colab": {
          "base_uri": "https://localhost:8080/"
        },
        "id": "hNIRI0YiSJPx",
        "outputId": "c5aa5998-efaf-44c0-9b73-d87eea7b7010"
      },
      "execution_count": 14,
      "outputs": [
        {
          "output_type": "stream",
          "name": "stdout",
          "text": [
            "Accuracy: 51.3\n"
          ]
        }
      ]
    }
  ]
}