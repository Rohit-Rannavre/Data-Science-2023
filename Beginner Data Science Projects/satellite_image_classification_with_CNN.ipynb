{
  "nbformat": 4,
  "nbformat_minor": 0,
  "metadata": {
    "colab": {
      "provenance": []
    },
    "kernelspec": {
      "name": "python3",
      "display_name": "Python 3"
    },
    "language_info": {
      "name": "python"
    },
    "accelerator": "GPU",
    "gpuClass": "standard"
  },
  "cells": [
    {
      "cell_type": "code",
      "execution_count": 1,
      "metadata": {
        "id": "qGGladHk6fnl"
      },
      "outputs": [],
      "source": [
        "# imports\n",
        "import numpy as np\n",
        "np.random.seed(20)\n",
        "from tensorflow.keras.utils import image_dataset_from_directory, set_random_seed\n",
        "set_random_seed(42)\n",
        "import zipfile\n",
        "import pandas as pd\n",
        "import matplotlib.pyplot as plt\n",
        "import tensorflow as tf\n",
        "from tensorflow.keras import Sequential\n",
        "from tensorflow.keras.layers import Conv2D, MaxPooling2D, Flatten, Dense, ReLU"
      ]
    },
    {
      "cell_type": "code",
      "source": [
        "# unzip the data\n",
        "zip = zipfile.ZipFile('/content/satellite-image-classification-dataset.zip', 'r')\n",
        "zip.extractall('/content')\n",
        "zip.close()"
      ],
      "metadata": {
        "id": "h53ONsOR7hGo"
      },
      "execution_count": 2,
      "outputs": []
    },
    {
      "cell_type": "code",
      "source": [
        "# loading training & validation data\n",
        "train_data, val_data = image_dataset_from_directory(\n",
        "    directory = '/content/data',\n",
        "    labels='inferred',\n",
        "    label_mode='int',\n",
        "    image_size=(256, 256),\n",
        "    color_mode='rgb',\n",
        "    validation_split=0.3,\n",
        "    subset='both',\n",
        "    batch_size=32, seed=18)"
      ],
      "metadata": {
        "colab": {
          "base_uri": "https://localhost:8080/"
        },
        "id": "aMdGTcJ_Lo4x",
        "outputId": "5440d8a5-6a6f-4f7b-bb85-cceb256a32c7"
      },
      "execution_count": 3,
      "outputs": [
        {
          "output_type": "stream",
          "name": "stdout",
          "text": [
            "Found 5631 files belonging to 4 classes.\n",
            "Using 3942 files for training.\n",
            "Using 1689 files for validation.\n"
          ]
        }
      ]
    },
    {
      "cell_type": "code",
      "source": [
        "# rescaling the data\n",
        "def normalize(image, label):\n",
        "  image = tf.cast(image/255.0, tf.float32)\n",
        "  return image, label\n",
        "\n",
        "train_data = train_data.map(normalize)\n",
        "val_data = val_data.map(normalize)"
      ],
      "metadata": {
        "id": "NvAkdnNocYWz"
      },
      "execution_count": 4,
      "outputs": []
    },
    {
      "cell_type": "code",
      "source": [
        "# defining a model architecture\n",
        "model = Sequential([\n",
        "    \n",
        "    # convo base\n",
        "    Conv2D(filters=32, kernel_size=(3,3), padding='same', input_shape=(256, 256, 3)),\n",
        "    ReLU(),\n",
        "    MaxPooling2D(pool_size=(2,2), strides=2),\n",
        "    Conv2D(filters=64, kernel_size=(3,3), padding='same'),\n",
        "    ReLU(),\n",
        "    MaxPooling2D(pool_size=(2,2), strides=2),\n",
        "    Conv2D(filters=128, kernel_size=(3,3), padding='same'),\n",
        "    ReLU(),\n",
        "    MaxPooling2D(pool_size=(2,2), strides=2),\n",
        "    \n",
        "    # flattening \n",
        "    Flatten(),\n",
        "    \n",
        "    # fully connected layer\n",
        "    Dense(32, activation='relu'),\n",
        "    Dense(16, activation='relu'),\n",
        "    Dense(4, activation='softmax')\n",
        "])"
      ],
      "metadata": {
        "id": "lro7QBP3YTC5"
      },
      "execution_count": 5,
      "outputs": []
    },
    {
      "cell_type": "code",
      "source": [
        "# getting a summary of the configuration\n",
        "model.summary()"
      ],
      "metadata": {
        "id": "erynFvGocNnj",
        "colab": {
          "base_uri": "https://localhost:8080/"
        },
        "outputId": "f2c0e1ef-c316-4a5a-fe01-6b653c53b455"
      },
      "execution_count": 6,
      "outputs": [
        {
          "output_type": "stream",
          "name": "stdout",
          "text": [
            "Model: \"sequential\"\n",
            "_________________________________________________________________\n",
            " Layer (type)                Output Shape              Param #   \n",
            "=================================================================\n",
            " conv2d (Conv2D)             (None, 256, 256, 32)      896       \n",
            "                                                                 \n",
            " re_lu (ReLU)                (None, 256, 256, 32)      0         \n",
            "                                                                 \n",
            " max_pooling2d (MaxPooling2D  (None, 128, 128, 32)     0         \n",
            " )                                                               \n",
            "                                                                 \n",
            " conv2d_1 (Conv2D)           (None, 128, 128, 64)      18496     \n",
            "                                                                 \n",
            " re_lu_1 (ReLU)              (None, 128, 128, 64)      0         \n",
            "                                                                 \n",
            " max_pooling2d_1 (MaxPooling  (None, 64, 64, 64)       0         \n",
            " 2D)                                                             \n",
            "                                                                 \n",
            " conv2d_2 (Conv2D)           (None, 64, 64, 128)       73856     \n",
            "                                                                 \n",
            " re_lu_2 (ReLU)              (None, 64, 64, 128)       0         \n",
            "                                                                 \n",
            " max_pooling2d_2 (MaxPooling  (None, 32, 32, 128)      0         \n",
            " 2D)                                                             \n",
            "                                                                 \n",
            " flatten (Flatten)           (None, 131072)            0         \n",
            "                                                                 \n",
            " dense (Dense)               (None, 32)                4194336   \n",
            "                                                                 \n",
            " dense_1 (Dense)             (None, 16)                528       \n",
            "                                                                 \n",
            " dense_2 (Dense)             (None, 4)                 68        \n",
            "                                                                 \n",
            "=================================================================\n",
            "Total params: 4,288,180\n",
            "Trainable params: 4,288,180\n",
            "Non-trainable params: 0\n",
            "_________________________________________________________________\n"
          ]
        }
      ]
    },
    {
      "cell_type": "code",
      "source": [
        "# compiling the model\n",
        "model.compile(optimizer=tf.keras.optimizers.Adam(), \n",
        "              loss=tf.keras.losses.SparseCategoricalCrossentropy(from_logits=False), \n",
        "              metrics=['accuracy'])"
      ],
      "metadata": {
        "id": "YzuNnQuObBmo"
      },
      "execution_count": 7,
      "outputs": []
    },
    {
      "cell_type": "code",
      "source": [
        "# training the model\n",
        "history = model.fit(train_data, validation_data=val_data, epochs=4, batch_size=32, verbose=1)"
      ],
      "metadata": {
        "id": "x_b3dE3zbVXI",
        "colab": {
          "base_uri": "https://localhost:8080/"
        },
        "outputId": "b9238616-8d64-46b2-e087-6163bc8ad6c5"
      },
      "execution_count": 8,
      "outputs": [
        {
          "output_type": "stream",
          "name": "stdout",
          "text": [
            "Epoch 1/4\n",
            "124/124 [==============================] - 27s 85ms/step - loss: 0.4533 - accuracy: 0.7458 - val_loss: 0.3404 - val_accuracy: 0.8674\n",
            "Epoch 2/4\n",
            "124/124 [==============================] - 10s 76ms/step - loss: 0.2665 - accuracy: 0.8727 - val_loss: 0.2492 - val_accuracy: 0.9035\n",
            "Epoch 3/4\n",
            "124/124 [==============================] - 10s 79ms/step - loss: 0.2017 - accuracy: 0.9072 - val_loss: 0.2275 - val_accuracy: 0.8715\n",
            "Epoch 4/4\n",
            "124/124 [==============================] - 10s 80ms/step - loss: 0.1966 - accuracy: 0.9099 - val_loss: 0.1439 - val_accuracy: 0.9349\n"
          ]
        }
      ]
    },
    {
      "cell_type": "code",
      "source": [
        "# model evaluation\n",
        "score = model.evaluate(val_data, verbose=0)\n",
        "print('Accuracy:', round((score[1] * 100), 2))"
      ],
      "metadata": {
        "colab": {
          "base_uri": "https://localhost:8080/"
        },
        "id": "m4WGzBEO9Knu",
        "outputId": "7ba8aff4-3abe-43e2-b0f4-a1a96c0d5e01"
      },
      "execution_count": 9,
      "outputs": [
        {
          "output_type": "stream",
          "name": "stdout",
          "text": [
            "Accuracy: 93.49\n"
          ]
        }
      ]
    },
    {
      "cell_type": "code",
      "source": [
        "# accuracy evaluation\n",
        "plt.plot(history.history['accuracy'], label='Training Accuracy')\n",
        "plt.plot(history.history['val_accuracy'], label='Validation Accuracy')\n",
        "plt.title('Accuracy Evaluation', size=15)\n",
        "plt.xlabel('Epochs', size=12)\n",
        "plt.ylabel('Accuracy', size=12)\n",
        "plt.legend();"
      ],
      "metadata": {
        "colab": {
          "base_uri": "https://localhost:8080/",
          "height": 300
        },
        "id": "xwxuyoxeMOA1",
        "outputId": "ba8c8758-1968-4601-940c-cf6bb6d9f79a"
      },
      "execution_count": 10,
      "outputs": [
        {
          "output_type": "display_data",
          "data": {
            "text/plain": [
              "<Figure size 432x288 with 1 Axes>"
            ],
            "image/png": "[encoded data removed]"
          },
          "metadata": {
            "needs_background": "light"
          }
        }
      ]
    },
    {
      "cell_type": "code",
      "source": [
        "# loss evaluation\n",
        "plt.plot(history.history['loss'], label='Training Loss')\n",
        "plt.plot(history.history['val_loss'], label='Validation Loss')\n",
        "plt.title('Loss Evaluation', size=15)\n",
        "plt.xlabel('Epochs', size=12)\n",
        "plt.ylabel('Loss', size=12)\n",
        "plt.legend();"
      ],
      "metadata": {
        "colab": {
          "base_uri": "https://localhost:8080/",
          "height": 300
        },
        "id": "sk9fIgUDMmMl",
        "outputId": "419febf8-dead-45b8-ea82-9f825734c368"
      },
      "execution_count": 11,
      "outputs": [
        {
          "output_type": "display_data",
          "data": {
            "text/plain": [
              "<Figure size 432x288 with 1 Axes>"
            ],
            "image/png": "[encoded data removed]"
          },
          "metadata": {
            "needs_background": "light"
          }
        }
      ]
    }
  ]
}