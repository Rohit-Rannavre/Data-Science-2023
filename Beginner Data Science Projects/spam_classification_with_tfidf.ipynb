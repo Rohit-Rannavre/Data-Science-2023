{
  "nbformat": 4,
  "nbformat_minor": 0,
  "metadata": {
    "colab": {
      "provenance": []
    },
    "kernelspec": {
      "name": "python3",
      "display_name": "Python 3"
    },
    "language_info": {
      "name": "python"
    }
  },
  "cells": [
    {
      "cell_type": "code",
      "execution_count": 1,
      "metadata": {
        "colab": {
          "base_uri": "https://localhost:8080/"
        },
        "id": "Rvz61nNtRtlL",
        "outputId": "1e7761b2-09b9-400e-d57c-25be6d08bf69"
      },
      "outputs": [
        {
          "output_type": "stream",
          "name": "stderr",
          "text": [
            "[nltk_data] Downloading package stopwords to /root/nltk_data...\n",
            "[nltk_data]   Package stopwords is already up-to-date!\n"
          ]
        }
      ],
      "source": [
        "# imports\n",
        "from tensorflow.keras.utils import set_random_seed\n",
        "set_random_seed(42)\n",
        "import nltk\n",
        "nltk.download('stopwords')\n",
        "from nltk.corpus import stopwords\n",
        "from gensim.parsing.preprocessing import strip_numeric\n",
        "import numpy as np\n",
        "import pandas as pd\n",
        "from sklearn.feature_extraction.text import TfidfVectorizer\n",
        "from sklearn.model_selection import train_test_split, cross_val_score\n",
        "from imblearn.over_sampling import SMOTE\n",
        "from collections import Counter\n",
        "from xgboost import XGBClassifier\n",
        "from sklearn.metrics import accuracy_score, confusion_matrix, classification_report"
      ]
    },
    {
      "cell_type": "code",
      "source": [
        "# loading dataset\n",
        "df = pd.read_csv('/content/spam_dataset.csv')\n",
        "df.head()"
      ],
      "metadata": {
        "colab": {
          "base_uri": "https://localhost:8080/",
          "height": 206
        },
        "id": "-cLe27kmSFJz",
        "outputId": "68cfdadc-7841-47a3-9815-e4b9cbab32a4"
      },
      "execution_count": 2,
      "outputs": [
        {
          "output_type": "execute_result",
          "data": {
            "text/plain": [
              "  target                                            message\n",
              "0    ham  Go until jurong point, crazy.. Available only ...\n",
              "1    ham                      Ok lar... Joking wif u oni...\n",
              "2   spam  Free entry in 2 a wkly comp to win FA Cup fina...\n",
              "3    ham  U dun say so early hor... U c already then say...\n",
              "4    ham  Nah I don't think he goes to usf, he lives aro..."
            ],
            "text/html": [
              "\n",
              "  <div id=\"df-9f5c870c-3086-4ef3-b973-fe662a780b12\">\n",
              "    <div class=\"colab-df-container\">\n",
              "      <div>\n",
              "<style scoped>\n",
              "    .dataframe tbody tr th:only-of-type {\n",
              "        vertical-align: middle;\n",
              "    }\n",
              "\n",
              "    .dataframe tbody tr th {\n",
              "        vertical-align: top;\n",
              "    }\n",
              "\n",
              "    .dataframe thead th {\n",
              "        text-align: right;\n",
              "    }\n",
              "</style>\n",
              "<table border=\"1\" class=\"dataframe\">\n",
              "  <thead>\n",
              "    <tr style=\"text-align: right;\">\n",
              "      <th></th>\n",
              "      <th>target</th>\n",
              "      <th>message</th>\n",
              "    </tr>\n",
              "  </thead>\n",
              "  <tbody>\n",
              "    <tr>\n",
              "      <th>0</th>\n",
              "      <td>ham</td>\n",
              "      <td>Go until jurong point, crazy.. Available only ...</td>\n",
              "    </tr>\n",
              "    <tr>\n",
              "      <th>1</th>\n",
              "      <td>ham</td>\n",
              "      <td>Ok lar... Joking wif u oni...</td>\n",
              "    </tr>\n",
              "    <tr>\n",
              "      <th>2</th>\n",
              "      <td>spam</td>\n",
              "      <td>Free entry in 2 a wkly comp to win FA Cup fina...</td>\n",
              "    </tr>\n",
              "    <tr>\n",
              "      <th>3</th>\n",
              "      <td>ham</td>\n",
              "      <td>U dun say so early hor... U c already then say...</td>\n",
              "    </tr>\n",
              "    <tr>\n",
              "      <th>4</th>\n",
              "      <td>ham</td>\n",
              "      <td>Nah I don't think he goes to usf, he lives aro...</td>\n",
              "    </tr>\n",
              "  </tbody>\n",
              "</table>\n",
              "</div>\n",
              "      <button class=\"colab-df-convert\" onclick=\"convertToInteractive('df-9f5c870c-3086-4ef3-b973-fe662a780b12')\"\n",
              "              title=\"Convert this dataframe to an interactive table.\"\n",
              "              style=\"display:none;\">\n",
              "        \n",
              "  <svg xmlns=\"http://www.w3.org/2000/svg\" height=\"24px\"viewBox=\"0 0 24 24\"\n",
              "       width=\"24px\">\n",
              "    <path d=\"M0 0h24v24H0V0z\" fill=\"none\"/>\n",
              "    <path d=\"M18.56 5.44l.94 2.06.94-2.06 2.06-.94-2.06-.94-.94-2.06-.94 2.06-2.06.94zm-11 1L8.5 8.5l.94-2.06 2.06-.94-2.06-.94L8.5 2.5l-.94 2.06-2.06.94zm10 10l.94 2.06.94-2.06 2.06-.94-2.06-.94-.94-2.06-.94 2.06-2.06.94z\"/><path d=\"M17.41 7.96l-1.37-1.37c-.4-.4-.92-.59-1.43-.59-.52 0-1.04.2-1.43.59L10.3 9.45l-7.72 7.72c-.78.78-.78 2.05 0 2.83L4 21.41c.39.39.9.59 1.41.59.51 0 1.02-.2 1.41-.59l7.78-7.78 2.81-2.81c.8-.78.8-2.07 0-2.86zM5.41 20L4 18.59l7.72-7.72 1.47 1.35L5.41 20z\"/>\n",
              "  </svg>\n",
              "      </button>\n",
              "      \n",
              "  <style>\n",
              "    .colab-df-container {\n",
              "      display:flex;\n",
              "      flex-wrap:wrap;\n",
              "      gap: 12px;\n",
              "    }\n",
              "\n",
              "    .colab-df-convert {\n",
              "      background-color: #E8F0FE;\n",
              "      border: none;\n",
              "      border-radius: 50%;\n",
              "      cursor: pointer;\n",
              "      display: none;\n",
              "      fill: #1967D2;\n",
              "      height: 32px;\n",
              "      padding: 0 0 0 0;\n",
              "      width: 32px;\n",
              "    }\n",
              "\n",
              "    .colab-df-convert:hover {\n",
              "      background-color: #E2EBFA;\n",
              "      box-shadow: 0px 1px 2px rgba(60, 64, 67, 0.3), 0px 1px 3px 1px rgba(60, 64, 67, 0.15);\n",
              "      fill: #174EA6;\n",
              "    }\n",
              "\n",
              "    [theme=dark] .colab-df-convert {\n",
              "      background-color: #3B4455;\n",
              "      fill: #D2E3FC;\n",
              "    }\n",
              "\n",
              "    [theme=dark] .colab-df-convert:hover {\n",
              "      background-color: #434B5C;\n",
              "      box-shadow: 0px 1px 3px 1px rgba(0, 0, 0, 0.15);\n",
              "      filter: drop-shadow(0px 1px 2px rgba(0, 0, 0, 0.3));\n",
              "      fill: #FFFFFF;\n",
              "    }\n",
              "  </style>\n",
              "\n",
              "      <script>\n",
              "        const buttonEl =\n",
              "          document.querySelector('#df-9f5c870c-3086-4ef3-b973-fe662a780b12 button.colab-df-convert');\n",
              "        buttonEl.style.display =\n",
              "          google.colab.kernel.accessAllowed ? 'block' : 'none';\n",
              "\n",
              "        async function convertToInteractive(key) {\n",
              "          const element = document.querySelector('#df-9f5c870c-3086-4ef3-b973-fe662a780b12');\n",
              "          const dataTable =\n",
              "            await google.colab.kernel.invokeFunction('convertToInteractive',\n",
              "                                                     [key], {});\n",
              "          if (!dataTable) return;\n",
              "\n",
              "          const docLinkHtml = 'Like what you see? Visit the ' +\n",
              "            '<a target=\"_blank\" href=https://colab.research.google.com/notebooks/data_table.ipynb>data table notebook</a>'\n",
              "            + ' to learn more about interactive tables.';\n",
              "          element.innerHTML = '';\n",
              "          dataTable['output_type'] = 'display_data';\n",
              "          await google.colab.output.renderOutput(dataTable, element);\n",
              "          const docLink = document.createElement('div');\n",
              "          docLink.innerHTML = docLinkHtml;\n",
              "          element.appendChild(docLink);\n",
              "        }\n",
              "      </script>\n",
              "    </div>\n",
              "  </div>\n",
              "  "
            ]
          },
          "metadata": {},
          "execution_count": 2
        }
      ]
    },
    {
      "cell_type": "code",
      "source": [
        "# getting info of dataset\n",
        "df.info()"
      ],
      "metadata": {
        "colab": {
          "base_uri": "https://localhost:8080/"
        },
        "id": "9w8Bj2DkStpA",
        "outputId": "b506ec59-96d0-4450-845a-7f3e2f35947b"
      },
      "execution_count": 3,
      "outputs": [
        {
          "output_type": "stream",
          "name": "stdout",
          "text": [
            "<class 'pandas.core.frame.DataFrame'>\n",
            "RangeIndex: 5572 entries, 0 to 5571\n",
            "Data columns (total 2 columns):\n",
            " #   Column   Non-Null Count  Dtype \n",
            "---  ------   --------------  ----- \n",
            " 0   target   5572 non-null   object\n",
            " 1   message  5572 non-null   object\n",
            "dtypes: object(2)\n",
            "memory usage: 87.2+ KB\n"
          ]
        }
      ]
    },
    {
      "cell_type": "code",
      "source": [
        "# mapping values in target\n",
        "df['target'] = df['target'].map({'ham':0, 'spam':1})\n",
        "df['target'].head()"
      ],
      "metadata": {
        "colab": {
          "base_uri": "https://localhost:8080/"
        },
        "id": "R1FVjTENSzEE",
        "outputId": "860f9655-d239-422a-8c81-9335a9e97e2c"
      },
      "execution_count": 4,
      "outputs": [
        {
          "output_type": "execute_result",
          "data": {
            "text/plain": [
              "0    0\n",
              "1    0\n",
              "2    1\n",
              "3    0\n",
              "4    0\n",
              "Name: target, dtype: int64"
            ]
          },
          "metadata": {},
          "execution_count": 4
        }
      ]
    },
    {
      "cell_type": "code",
      "source": [
        "# checking whether dataset is imbalanced\n",
        "df['target'].value_counts()"
      ],
      "metadata": {
        "colab": {
          "base_uri": "https://localhost:8080/"
        },
        "id": "_Gyw6spIS21b",
        "outputId": "90862623-5ebf-4664-93f1-211588517e9a"
      },
      "execution_count": 5,
      "outputs": [
        {
          "output_type": "execute_result",
          "data": {
            "text/plain": [
              "0    4825\n",
              "1     747\n",
              "Name: target, dtype: int64"
            ]
          },
          "metadata": {},
          "execution_count": 5
        }
      ]
    },
    {
      "cell_type": "code",
      "source": [
        "# creating X & y\n",
        "X = df['message']\n",
        "y = df['target']"
      ],
      "metadata": {
        "id": "Aj_8U_TkS7FE"
      },
      "execution_count": 6,
      "outputs": []
    },
    {
      "cell_type": "code",
      "source": [
        "# removing digits\n",
        "X = X.apply(strip_numeric)"
      ],
      "metadata": {
        "id": "yQMXcSYbS-0Q"
      },
      "execution_count": 7,
      "outputs": []
    },
    {
      "cell_type": "code",
      "source": [
        "# splitting data into training & testing sets\n",
        "X_train, X_test, y_train, y_test = train_test_split(X, y, test_size=0.3, shuffle=True, random_state=18)"
      ],
      "metadata": {
        "id": "V17Pf9IETCCq"
      },
      "execution_count": 8,
      "outputs": []
    },
    {
      "cell_type": "code",
      "source": [
        "# getting shapes of splits\n",
        "print(X_train.shape)\n",
        "print(y_train.shape)\n",
        "print(X_test.shape)\n",
        "print(y_test.shape)"
      ],
      "metadata": {
        "colab": {
          "base_uri": "https://localhost:8080/"
        },
        "id": "7WqfQYadTFHi",
        "outputId": "ad332167-4e33-41fd-ed82-36921ecd4038"
      },
      "execution_count": 9,
      "outputs": [
        {
          "output_type": "stream",
          "name": "stdout",
          "text": [
            "(3900,)\n",
            "(3900,)\n",
            "(1672,)\n",
            "(1672,)\n"
          ]
        }
      ]
    },
    {
      "cell_type": "code",
      "source": [
        "# setting stopwords\n",
        "stopwords = list(stopwords.words('english'))"
      ],
      "metadata": {
        "id": "_Id8oSEZTVyZ"
      },
      "execution_count": 10,
      "outputs": []
    },
    {
      "cell_type": "code",
      "source": [
        "# tfidf\n",
        "tfidf = TfidfVectorizer(stop_words=stopwords, min_df=2)\n",
        "X_train = tfidf.fit_transform(X_train)\n",
        "X_test = tfidf.transform(X_test)"
      ],
      "metadata": {
        "id": "LHnVsxFFTfhu"
      },
      "execution_count": 11,
      "outputs": []
    },
    {
      "cell_type": "code",
      "source": [
        "# getting summary of vectors; size & content\n",
        "print('Vocabulary size:', len(tfidf.vocabulary_))\n",
        "print('Vocabulary content:', tfidf.vocabulary_)"
      ],
      "metadata": {
        "colab": {
          "base_uri": "https://localhost:8080/"
        },
        "id": "qpd0VsdMToBt",
        "outputId": "47ea4a27-9244-4a68-ef7a-493eb952025f"
      },
      "execution_count": 12,
      "outputs": [
        {
          "output_type": "stream",
          "name": "stdout",
          "text": [
            "Vocabulary size: 2921\n",
            "Vocabulary content: {'ìï': 2918, 'thk': 2531, 'wat': 2759, 'eat': 728, 'tonight': 2587, 'babe': 174, 'lost': 1437, 'lt': 1462, 'gt': 1041, 'ave': 164, 'forgot': 910, 'pls': 1880, 'enough': 762, 'family': 828, 'hot': 1145, 'sun': 2434, 'strange': 2410, 'place': 1860, 'reason': 2021, 'going': 1009, 'invited': 1229, 'actually': 29, 'go': 1004, 'wait': 2736, 'serious': 2211, 'ok': 1751, 'good': 1014, 'later': 1339, 'come': 481, 'find': 871, 'ì_': 2917, 'lucky': 1466, 'told': 2579, 'earlier': 720, 'pple': 1918, 'take': 2467, 'finish': 874, 'sorry': 2345, 'vikky': 2715, 'watching': 2761, 'movie': 1631, 'kano': 1289, 'theatre': 2521, 'wit': 2822, 'frnds': 937, 'like': 1386, 'dis': 656, 'fr': 917, 'already': 79, 'sunshine': 2437, 'quiz': 1983, 'win': 2808, 'super': 2440, 'sony': 2339, 'dvd': 719, 'capital': 364, 'text': 2508, 'hey': 1104, 'happy': 1078, 'birthday': 243, 'could': 529, 'read': 2012, 'love': 1446, 'ur': 2675, 'cash': 381, 'balance': 184, 'currently': 564, 'pounds': 1913, 'maximize': 1519, 'send': 2202, 'msg': 1640, 'cc': 389, 'po': 1884, 'box': 284, 'tcr': 2481, 'mah': 1481, 'pick': 1844, 'tomorrow': 2584, 'oh': 1750, 'ya': 2886, 'got': 1021, 'hip': 1111, 'hop': 1135, 'open': 1765, 'haha': 1056, 'thinking': 2529, 'jazz': 1260, 'cine': 442, 'free': 920, 'leh': 1362, 'kb': 1294, 'lesson': 1367, 'role': 2112, 'sachin': 2134, 'standing': 2381, 'others': 1781, 'hit': 1113, 'hello': 1098, 'darling': 584, 'today': 2574, 'would': 2859, 'chat': 414, 'dont': 682, 'tell': 2492, 'look': 1427, 'sexy': 2223, 'gal': 953, 'boy': 286, 'walking': 2744, 'park': 1803, 'hold': 1123, 'hand': 1064, 'think': 2527, 'run': 2128, 'away': 171, 'jst': 1281, 'wana': 2748, 'feels': 849, 'prince': 1935, 'gn': 1003, 'shop': 2243, 'till': 2554, 'drop': 705, 'either': 741, 'travel': 2610, 'voucher': 2730, 'call': 340, 'ntt': 1731, 'crbt': 545, 'fixedline': 882, 'cost': 526, 'ppm': 1919, 'mobile': 1594, 'vary': 2705, 'reverse': 2090, 'cheating': 418, 'mathematics': 1513, 'time': 2555, 'guaranteed': 1043, 'prize': 1940, 'claim': 446, 'yr': 2909, 'customer': 568, 'service': 2213, 'representative': 2069, 'pm': 1883, 'heart': 1090, 'empty': 749, 'without': 2824, 'mind': 1568, 'wisdom': 2817, 'eyes': 815, 'dreams': 693, 'amp': 86, 'life': 1381, 'touch': 2597, 'night': 1707, 'sweet': 2456, 'make': 1487, 'ne': 1680, 'plans': 1868, 'nxt': 1738, 'coz': 539, 'wants': 2752, 'us': 2683, 'fone': 900, 'dumb': 716, 'im': 1187, 'sure': 2448, 'wanna': 2749, 'spend': 2365, 'evening': 782, 'cos': 525, 'xxx': 2881, 'nah': 1666, 'help': 1100, 'never': 1699, 'meant': 1531, 'say': 2155, 'cant': 363, 'see': 2185, 'getting': 987, 'bored': 275, 'reach': 2008, 'home': 1130, 'minutes': 1575, 'fine': 872, 'hear': 1088, 'dear': 597, 'new': 1700, 'year': 2893, 'leaving': 1357, 'qatar': 1972, 'tonite': 2589, 'opportunity': 1769, 'keep': 1296, 'email': 747, 'kerala': 1300, 'well': 2785, 'arent': 124, 'bright': 296, 'early': 721, 'morning': 1620, 'thing': 2525, 'change': 404, 'sentence': 2207, 'want': 2750, 'concentrate': 497, 'educational': 733, 'career': 371, 'way': 2764, 'get': 984, 'train': 2604, 'street': 2412, 'hill': 1109, 'fun': 948, 'said': 2139, 'loan': 1414, 'buy': 327, 'apartment': 108, 'chennai': 425, 'phone': 1839, 'right': 2098, 'message': 1553, 'sch': 2160, 'mon': 1608, 'sis': 2280, 'need': 1686, 'smth': 2317, 'pub': 1961, 'pain': 1796, 'better': 227, 'please': 1875, 'car': 366, 'keys': 1302, 'purse': 1966, 'gain': 952, 'rights': 2100, 'wife': 2805, 'demand': 621, 'trying': 2623, 'lets': 1370, 'zoe': 2915, 'fucking': 945, 'il': 1184, 'try': 2622, 'cum': 561, 'morow': 1622, 'luv': 1468, 'aight': 59, 'ten': 2499, 'years': 2894, 'shower': 2254, 'plan': 1863, 'also': 82, 'fast': 835, 'xy': 2885, 'suggest': 2429, 'one': 1758, 'dun': 717, 'wan': 2747, 'rain': 1989, 'gd': 972, 'roger': 2111, 'dat': 586, 'woken': 2837, 'lol': 1422, 'seeing': 2187, 'nice': 1704, 'day': 592, 'unique': 2662, 'user': 2688, 'id': 1177, 'removal': 2056, 'stop': 2402, 'services': 2214, 'landline': 1329, 'complimentary': 494, 'lux': 1470, 'tenerife': 2501, 'holiday': 1126, 'await': 166, 'collection': 475, 'sae': 2137, 'cs': 557, 'skxh': 2290, 'give': 997, 'found': 916, 'cheap': 415, 'apologise': 109, 'advance': 41, 'somewhere': 2335, 'sleep': 2295, 'isnt': 1239, 'plz': 1882, 'ans': 94, 'bslvyl': 312, 'sent': 2206, 'via': 2710, 'fullonsms': 947, 'com': 480, 'ball': 185, 'moving': 1633, 'lot': 1438, 'last': 1336, 'difficult': 645, 'bat': 192, 'matter': 1515, 'saying': 2156, 'registered': 2043, 'draw': 691, 'gift': 992, 'entered': 764, 'receipt': 2026, 'correct': 523, 'whats': 2792, 'leave': 1355, 'house': 1150, 'current': 563, 'handset': 1068, 'charge': 408, 'offer': 1743, 'ends': 754, 'tel': 2491, 'loads': 1413, 'put': 1969, 'plus': 1881, 'sign': 2267, 'name': 1668, 'show': 2253, 'two': 2636, 'numbers': 1735, 'lower': 1455, 'number': 1734, 'pin': 1855, 'display': 661, 'okay': 1752, 'hour': 1148, 'roommate': 2115, 'looking': 1430, 'stock': 2399, 'trip': 2614, 'ah': 55, 'let': 1369, 'know': 1316, 'wot': 2858, 'earth': 723, 'finished': 875, 'making': 1489, 'work': 2847, 'something': 2332, 'quality': 1973, 'aint': 60, 'bad': 179, 'yup': 2913, 'giving': 1000, 'problems': 1944, 'mayb': 1523, 'jus': 1285, 'thought': 2537, 'king': 1311, 'ask': 139, 'urgent': 2678, 'nd': 1679, 'attempt': 153, 'contact': 510, 'yesterday': 2900, 'still': 2398, 'awaiting': 167, 'aclpm': 21, 'restaurant': 2080, 'sleeping': 2296, 'surfing': 2450, 'bout': 282, 'drink': 697, 'gas': 965, 'st': 2376, 'den': 622, 'muz': 1662, 'liao': 1374, 'back': 178, 'yan': 2888, 'jiu': 1267, 'maid': 1482, 'murderer': 1658, 'man': 1493, 'murdered': 1657, 'th': 2514, 'january': 1254, 'public': 1962, 'govt': 1024, 'instituitions': 1220, 'closed': 458, 'including': 1197, 'post': 1907, 'office': 1745, 'understand': 2656, 'hi': 1106, 'dude': 714, 'hw': 1170, 'da': 574, 'realy': 2020, 'nope': 1719, 'tv': 2632, 'log': 1418, 'onto': 1762, 'www': 2872, 'discount': 657, 'credit': 548, 'opt': 1770, 'reply': 2066, 'care': 369, 'guys': 1050, 'planning': 1867, 'coming': 485, 'course': 535, 'month': 1612, 'wearing': 2769, 'drunk': 710, 'fri': 929, 'karaoke': 1291, 'someone': 2330, 'asked': 141, 'dating': 590, 'guess': 1046, 'revealed': 2089, 'wu': 2868, 'mood': 1615, 'decision': 603, 'feeling': 848, 'decide': 599, 'much': 1652, 'less': 1366, 'magical': 1480, 'really': 2019, 'despite': 628, 'fact': 820, 'gets': 985, 'shit': 2239, 'arms': 129, 'every': 786, 'five': 880, 'nokia': 1715, 'motorola': 1626, 'orange': 1773, 'contract': 513, 'mobileupd': 1596, 'optout': 1772, 'weekends': 2778, 'shows': 2256, 'code': 468, 'valid': 2699, 'hrs': 1156, 'hurt': 1166, 'cry': 556, 'end': 751, 'die': 639, 'rose': 2118, 'stupid': 2420, 'miss': 1579, 'quite': 1982, 'late': 1337, 'lar': 1334, 'ard': 122, 'anyway': 105, 'wun': 2870, 'drivin': 702, 'dad': 575, 'billed': 236, 'netcollex': 1694, 'ltd': 1463, 'costa': 527, 'del': 613, 'sol': 2327, 'toclaim': 2573, 'tc': 2480, 'pobox': 1885, 'stockport': 2400, 'costå': 528, 'maxmins': 1520, 'means': 1530, 'sister': 2281, 'earn': 722, 'hmv': 1119, 'bonus': 268, 'special': 2360, 'genuine': 981, 'vouchers': 2731, 'answer': 96, 'easy': 727, 'questions': 1978, 'play': 1869, 'info': 1210, 'percent': 1824, 'real': 2015, 'tried': 2613, 'sms': 2316, 'video': 2711, 'mins': 1573, 'unlimited': 2665, 'camcorder': 353, 'thurs': 2548, 'funeral': 949, 'missed': 1580, 'great': 1033, 'ill': 1185, 'appreciate': 115, 'safe': 2138, 'jane': 1253, 'babes': 175, 'goin': 1008, 'wrk': 2864, 'feel': 847, 'lst': 1461, 'nite': 1711, 'cover': 537, 'bahamas': 182, 'callfreefone': 346, 'speak': 2359, 'live': 1406, 'operator': 1767, 'cruise': 555, 'ofå': 1749, 'txt': 2637, 'handle': 1066, 'times': 2556, 'per': 1823, 'case': 380, 'forget': 908, 'mine': 1569, 'possession': 1905, 'property': 1955, 'mmm': 1587, 'childish': 430, 'smile': 2309, 'gonna': 1013, 'bath': 194, 'money': 1610, 'together': 2577, 'tickets': 2552, 'deal': 596, 'inclusive': 1198, 'credits': 550, 'goto': 1022, 'comuk': 496, 'net': 1693, 'login': 1419, 'qxj': 1986, 'unsubscribe': 2669, 'extra': 813, 'cm': 463, 'ae': 44, 'snow': 2321, 'allah': 75, 'meaning': 1529, 'heard': 1089, 'around': 131, 'important': 1192, 'information': 1211, 'http': 1158, 'urawinner': 2676, 'fantastic': 832, 'surprise': 2451, 'hows': 1153, 'wen': 2787, 'ad': 30, 'wkend': 2828, 'lookin': 1429, 'mrw': 1638, 'thanks': 2517, 'sir': 2279, 'wonderful': 2841, 'hope': 1136, 'enjoyed': 761, 'mojibiola': 1602, 'doesnt': 673, 'cool': 520, 'kappa': 1290, 'meet': 1538, 'outside': 1784, 'mu': 1650, 'many': 1497, 'page': 1793, 'talk': 2472, 'charges': 410, 'transfer': 2607, 'wif': 2804, 'carry': 377, 'meh': 1543, 'heavy': 1091, 'num': 1733, 'first': 877, 'person': 1828, 'hex': 1103, 'explain': 810, 'chillin': 433, 'friend': 931, 'room': 2114, 'kind': 1308, 'took': 2590, 'garage': 962, 'centre': 398, 'part': 1804, 'exhaust': 803, 'needs': 1688, 'ordered': 1776, 'taking': 2470, 'fixed': 881, 'tomo': 2583, 'max': 1518, 'age': 51, 'deep': 606, 'sigh': 2264, 'surprised': 2452, 'gone': 1012, 'cafe': 333, 'yet': 2901, 'wtf': 2867, 'random': 1995, 'btw': 314, 'lunch': 1467, 'break': 294, 'wanted': 2751, 'short': 2246, 'check': 420, 'steam': 2396, 'pee': 1819, 'frm': 935, 'walk': 2742, 'slowly': 2304, 'kills': 1307, 'maybe': 1524, 'jealous': 1262, 'million': 1566, 'minute': 1574, 'bt': 313, 'national': 1674, 'rate': 2001, 'fool': 902, 'cheat': 417, 'merry': 1550, 'christmas': 440, 'annie': 91, 'choose': 438, 'rather': 2003, 'clean': 450, 'best': 225, 'choice': 437, 'yes': 2898, 'embarassed': 748, 'happened': 1073, 'everything': 790, 'else': 745, 'paper': 1798, 'morn': 1619, 'aft': 47, 'girl': 993, 'stay': 2392, 'bed': 210, 'pass': 1808, 'baby': 177, 'thats': 2519, 'alright': 80, 'jenny': 1264, 'secret': 2181, 'admirer': 37, 'reveal': 2088, 'thinks': 2530, 'stopsms': 2404, 'yeah': 2892, 'yo': 2905, 'aftr': 49, 'decimal': 602, 'cleaning': 451, 'telly': 2495, 'reached': 2009, 'finally': 870, 'dirty': 655, 'noon': 1718, 'sheets': 2231, 'party': 1807, 'study': 2417, 'review': 2091, 'marry': 1505, 'lovers': 1451, 'hav': 1082, 'gud': 1044, 'wil': 2806, 'news': 1701, 'friday': 930, 'chain': 401, 'whn': 2797, 'jason': 1257, 'says': 2157, 'awarded': 170, 'caller': 343, 'saw': 2154, 'old': 1755, 'campus': 356, 'joy': 1280, 'father': 838, 'john': 1271, '____': 0, 'ths': 2545, 'iq': 1236, 'tis': 2561, 'ias': 1172, 'question': 1976, 'afternoon': 48, 'boytoy': 289, 'slave': 2294, 'queen': 1974, 'face': 818, 'watch': 2760, 'gave': 968, 'thanx': 2518, 'done': 680, 'touched': 2598, 'final': 869, 'messages': 1555, 'waiting': 2738, 'expires': 809, 'congratulations': 504, 'cd': 390, 'entry': 766, 'wkly': 2831, 'music': 1659, 'tncs': 2571, 'ldew': 1348, 'dai': 577, 'resume': 2083, 'howz': 1154, 'persons': 1831, 'story': 2407, 'rice': 2095, 'cake': 334, 'tok': 2578, 'nydc': 1739, 'somethin': 2331, 'latest': 1340, 'anytime': 104, 'network': 1695, 'half': 1061, 'price': 1934, 'line': 1393, 'rental': 2060, 'delivery': 619, 'wondering': 2842, 'moment': 1605, 'might': 1562, 'file': 862, 'yahoo': 2887, 'connection': 506, 'sucks': 2428, 'remember': 2051, 'set': 2216, 'download': 688, 'big': 232, 'files': 863, 'stuff': 2419, 'directly': 654, 'internet': 1225, 'teasing': 2486, 'kiss': 1312, 'ready': 2014, 'menu': 1549, 'dinner': 651, 'able': 6, 'pretty': 1931, 'lady': 1326, 'single': 2276, 'helloooo': 1099, 'wake': 2739, 'welcomes': 2784, 'enjoy': 760, 'full': 946, 'mrng': 1636, 'height': 1093, 'confidence': 500, 'askd': 140, 'sit': 2282, 'sat': 2147, 'plane': 1864, 'made': 1478, 'dey': 631, 'didnt': 637, 'move': 1628, 'sry': 2374, 'parents': 1801, 'building': 321, 'map': 1498, 'ni': 1703, 'challenge': 402, 'god': 1005, 'write': 2863, 'instead': 1219, 'respond': 2075, 'yep': 2896, 'program': 1948, 'water': 2762, 'boat': 264, 'behind': 218, 'saturday': 2149, 'sunday': 2435, 'theory': 2523, 'argument': 127, 'wins': 2815, 'situation': 2285, 'loses': 1434, 'argue': 126, 'friends': 932, 'kick': 1303, 'always': 83, 'mean': 1528, 'tuition': 2629, 'paid': 1795, 'semester': 2200, 'alone': 77, 'hotel': 1146, 'fancy': 830, 'callså': 351, 'minmobsmorelkpoboxhpfl': 1571, 'sup': 2439, 'almost': 76, 'seriously': 2212, 'otherwise': 1782, 'light': 1384, 'armand': 128, 'vomiting': 2728, 'kate': 1292, 'center': 397, 'ish': 1238, 'sex': 2222, 'bedroom': 212, 'textoperator': 2511, 'weekly': 2779, 'competition': 491, 'word': 2845, 'co': 465, 'uk': 2646, 'carlos': 375, 'probably': 1942, 'pop': 1901, 'weekend': 2777, 'fringe': 934, 'comin': 484, 'fetch': 854, 'oredi': 1777, 'ever': 785, 'figure': 860, 'alcohol': 71, 'jay': 1259, 'weed': 2775, 'eatin': 729, 'frens': 927, 'lei': 1363, 'er': 769, 'things': 2526, 'ûò': 2920, 'followed': 898, 'hanging': 1070, 'member': 1545, 'visit': 2719, 'months': 1614, 'cause': 386, 'lemme': 1364, 'outta': 1786, 'class': 449, 'gym': 1052, 'site': 2283, 'songs': 2338, 'purity': 1964, 'friendship': 933, 'smiling': 2311, 'reading': 2013, 'forwarded': 915, 'evng': 792, 'musthu': 1661, 'freemsg': 924, 'mini': 1570, 'digital': 648, 'camera': 355, 'collect': 472, 'wk': 2827, 'sp': 2355, 'ph': 1836, 'cheers': 424, 'lou': 1441, 'shame': 2228, 'neva': 1698, 'came': 354, 'hurting': 1167, 'lines': 1395, 'chance': 403, 'shopping': 2245, 'spree': 2373, 'custcare': 567, 'xp': 2878, 'food': 901, 'nights': 1708, 'fell': 851, 'asleep': 145, 'iåõm': 1246, 'knackered': 1314, 'upto': 2674, 'hurry': 1165, 'three': 2540, 'days': 593, 'hg': 1105, 'suite': 2430, 'lands': 1330, 'row': 2120, 'wjhl': 2826, 'hols': 1128, 'med': 1534, 'stamped': 2378, 'self': 2195, 'address': 36, 'envelope': 768, 'drinks': 700, 'bray': 293, 'wicklow': 2801, 'eire': 740, 'starts': 2387, 'unsub': 2668, 'available': 162, 'appointment': 114, 'connect': 505, 'thank': 2516, 'monday': 1609, 'within': 2823, 'min': 1567, 'opening': 1766, 'networking': 1696, 'job': 1268, 'cabin': 332, 'pa': 1790, 'boss': 278, 'felt': 852, 'went': 2788, 'cbe': 388, 'city': 445, 'reaching': 2010, 'use': 2686, 'calls': 350, 'mob': 1593, 'provided': 1959, 'gbp': 971, 'ages': 52, 'dunno': 718, 'management': 1495, 'oz': 1789, 'join': 1272, 'blank': 252, 'studying': 2418, 'next': 1702, 'meeting': 1540, 'texted': 2509, 'long': 1425, 'ago': 53, 'notice': 1727, 'youre': 2908, 'turning': 2631, 'freak': 919, 'close': 457, 'anything': 103, 'lor': 1432, 'account': 18, 'details': 629, 'mom': 1604, 'school': 2162, 'starting': 2386, 'weather': 2770, 'social': 2323, 'support': 2443, 'system': 2462, 'tones': 2586, 'week': 2776, 'include': 1196, 'shock': 2240, 'smith': 2312, 'switch': 2458, 'order': 1775, 'follow': 897, 'instructions': 1221, 'noe': 1713, 'sounds': 2352, 'cardiff': 368, 'cold': 470, 'sitting': 2284, 'ringtone': 2102, 'happiness': 1077, 'lovely': 1448, 'sad': 2136, 'busy': 325, 'though': 2536, 'hmmm': 1118, 'shoppin': 2244, 'area': 123, 'raise': 1991, 'moji': 1601, 'informed': 1212, 'saved': 2153, 'lives': 1409, 'tho': 2534, 'library': 1376, 'point': 1890, 'eve': 780, 'didnåõt': 638, 'havent': 1083, 'waitin': 2737, 'usual': 2692, 'worse': 2856, 'excuse': 801, 'another': 93, 'hospital': 1142, 'spent': 2366, 'guy': 1049, 'met': 1559, 'town': 2602, 'bit': 244, 'fuck': 943, 'least': 1354, 'abta': 9, 'cwwx': 573, 'bye': 331, 'announcement': 92, 'freephone': 925, 'yetunde': 2902, 'bother': 279, 'sending': 2203, 'online': 1761, 'second': 2179, 'advice': 43, 'usf': 2689, 'drive': 701, 'pig': 1852, 'solve': 2328, 'called': 342, 'police': 1893, 'questioned': 1977, 'everyone': 789, 'murder': 1656, 'cook': 516, 'cooking': 519, 'gardener': 964, 'picking': 1846, 'vegetables': 2707, 'children': 431, 'neighbour': 1690, 'marriage': 1503, 'arrested': 133, 'immediately': 1190, 'brilliant': 297, 'chechi': 419, 'excellent': 799, 'wish': 2819, 'usually': 2693, 'body': 265, 'takes': 2469, 'û_': 2919, 'evenings': 783, 'knw': 1319, 'milk': 1565, 'hiya': 1114, 'seen': 2191, 'neither': 1691, 'sort': 2346, 'hugs': 1160, 'snogs': 2320, 'drinkin': 698, 'paying': 1815, 'checked': 421, 'acc': 12, 'gona': 1011, 'bin': 238, 'planet': 1865, 'sofa': 2324, 'exam': 797, 'happen': 1071, 'de': 594, 'tscs': 2625, 'skillgame': 2288, 'winaweek': 2809, 'ppermesssubscription': 1916, 'wow': 2861, 'airport': 62, 'rd': 2007, 'bathing': 196, 'dog': 674, 'ideal': 1179, 'front': 941, 'goodnight': 1016, 'pic': 1843, 'pics': 1848, 'rcvd': 2006, 'awesome': 172, 'click': 455, 'delete': 614, 'battery': 197, 'died': 640, 'looks': 1431, 'smoke': 2313, 'texting': 2510, 'cannot': 362, 'messy': 1558, 'whos': 2799, 'nt': 1730, 'staying': 2394, 'step': 2397, 'ex': 794, 'may': 1522, 'bring': 298, 'fantasies': 831, 'croydon': 554, 'cr': 540, 'wb': 2765, 'setting': 2217, 'computer': 495, 'filling': 865, 'belly': 221, 'goes': 1007, 'loverboy': 1450, 'sighs': 2265, 'xxxxxxx': 2884, 'xchat': 2876, 'msgrcvdhg': 1643, 'ldn': 1349, 'yrs': 2910, 'def': 609, 'okey': 1753, 'sorting': 2348, 'mate': 1511, 'hol': 1122, 'havenåõt': 1084, 'started': 2385, 'driving': 703, 'roads': 2107, 'knowing': 1317, 'guide': 1047, 'world': 2851, 'seemed': 2189, 'count': 530, 'behave': 217, 'boo': 269, 'hoping': 1139, 'laugh': 1342, 'england': 758, 'official': 1746, 'poly': 1894, 'colour': 478, 'flag': 883, 'yer': 2897, 'tone': 2585, 'eng': 757, 'wwx': 2873, 'disturb': 663, 'anymore': 100, 'far': 833, 'google': 1018, 'holder': 1124, 'weeks': 2780, 'pc': 1818, 'ts': 2624, 'apply': 113, 'tired': 2558, 'sipix': 2278, 'fromm': 940, 'believe': 220, 'tot': 2594, 'true': 2618, 'tog': 2576, 'hard': 1079, 'express': 812, 'problem': 1943, 'left': 1360, 'eh': 738, 'yun': 2912, 'wkg': 2830, 'lect': 1358, 'reboot': 2024, 'ym': 2904, 'buzz': 329, 'juz': 1286, 'receive': 2027, 'project': 1949, 'dial': 634, 'desert': 625, 'salary': 2141, 'slip': 2301, 'dollar': 678, 'pay': 1814, 'mid': 1560, 'february': 846, 'aiyo': 66, 'scared': 2158, 'rem': 2048, 'hee': 1092, 'become': 208, 'ip': 1233, 'ta': 2463, 'jobs': 1269, 'start': 2384, 'working': 2849, 'wnt': 2835, 'bmw': 263, 'urgently': 2679, 'vry': 2732, 'hv': 1169, 'shortage': 2247, 'lacs': 1324, 'source': 2353, 'arng': 130, 'amt': 87, 'prob': 1941, 'ran': 1994, 'dry': 711, 'ummmmmaah': 2650, 'returns': 2087, 'eerie': 734, 'rply': 2121, 'title': 2562, 'eg': 736, 'dracula': 690, 'titles': 2563, 'ghost': 990, 'addamsfa': 32, 'munsters': 1655, 'exorcist': 804, 'twilight': 2635, 'getzed': 988, 'poboxwwq': 1887, 'purpose': 1965, 'homeowners': 1131, 'tenants': 2500, 'welcome': 2783, 'previously': 1933, 'refused': 2040, 'shall': 2227, 'mail': 1483, 'update': 2670, 'sense': 2205, 'hahaha': 1057, 'brain': 291, 'knew': 1315, 'thatåõs': 2520, 'grand': 1030, 'tea': 2483, 'strike': 2414, 'red': 2035, 'bird': 240, 'begin': 216, 'flower': 893, 'grow': 1040, 'shuhui': 2258, 'crave': 542, 'ahmad': 58, 'al': 69, 'hallaq': 1062, 'lessons': 1368, 'macho': 1475, 'budget': 317, 'bb': 198, 'bold': 266, 'dollars': 679, 'tirupur': 2560, 'since': 2274, 'blood': 258, 'tests': 2507, 'normal': 1721, 'worries': 2854, 'prabha': 1920, 'soryda': 2350, 'sory': 2349, 'must': 1660, 'summer': 2432, 'celebrate': 394, 'sight': 2266, 'worlds': 2852, 'dressed': 695, 'white': 2796, 'maga': 1479, 'lots': 1439, 'places': 1862, 'hospitals': 1143, 'medical': 1535, 'dobby': 669, 'bowl': 283, 'looked': 1428, 'horrible': 1141, 'mo': 1591, 'soon': 2342, 'laptop': 1333, 'appt': 117, 'girls': 995, 'popcorn': 1902, 'hair': 1059, 'deliveredtomorrow': 618, 'texts': 2513, 'skype': 2291, 'buying': 328, 'prefer': 1926, 'wed': 2772, 'oso': 1780, 'workin': 2848, 'jamster': 1251, 'crazy': 544, 'frog': 939, 'sound': 2351, 'mad': 1476, 'practicing': 1922, 'babies': 176, 'reasons': 2023, 'biola': 239, 'caught': 385, 'using': 2691, 'broken': 306, 'english': 759, 'hai': 1058, 'waste': 2757, 'south': 2354, 'chill': 432, 'hide': 1107, 'keeping': 1297, 'distance': 662, 'desperate': 627, 'vivek': 2721, 'wid': 2802, 'wherever': 2794, 'birds': 241, 'unable': 2652, 'cal': 335, 'everywhere': 791, 'floor': 892, 'windows': 2811, 'even': 781, 'shirt': 2237, 'sometimes': 2334, 'mouth': 1627, 'comes': 483, 'flowing': 894, 'dream': 692, 'abt': 8, 'leona': 1365, 'oops': 1764, 'ben': 223, 'december': 598, 'wine': 2812, 'makes': 1488, 'hook': 1134, 'belovd': 222, 'ms': 1639, 'words': 2846, 'supposed': 2445, 'discuss': 659, 'xuhui': 2879, 'asking': 143, 'slippers': 2302, 'rite': 2105, 'mnth': 1590, 'enter': 763, 'replying': 2067, 'ned': 1685, 'toa': 2572, 'payoh': 1817, 'return': 2085, 'specially': 2361, 'selected': 2193, 'award': 169, 'ag': 50, 'promo': 1952, 'jordan': 1278, 'todays': 2575, 'land': 1328, 'wedding': 2773, 'poor': 1900, 'lmao': 1411, 'ac': 11, 'date': 587, 'dates': 589, 'weird': 2782, 'bein': 219, 'reasonable': 2022, 'funny': 950, 'izzit': 1245, 'impossible': 1193, 'ikea': 1183, 'yelling': 2895, 'mess': 1552, 'listen': 1402, 'space': 2356, 'gives': 999, 'lock': 1417, 'key': 1301, 'torch': 2593, 'ja': 1247, 'loyalty': 1457, 'txtauction': 2638, 'mtmsg': 1648, 'tape': 2476, 'type': 2643, 'infernal': 1209, 'affairs': 45, 'along': 78, 'previous': 1932, 'sen': 2201, 'ringtoneking': 2103, 'worry': 2855, 'searching': 2175, 'potential': 1911, 'talent': 2471, 'laid': 1327, 'dogging': 675, 'locations': 1416, 'direct': 653, 'largest': 1335, 'txting': 2640, 'moan': 1592, 'nyt': 1740, 'eca': 731, 'bid': 230, 'aathi': 1, 'gorgeous': 1019, 'strong': 2415, 'princess': 1936, 'receiving': 2029, 'doggy': 676, 'style': 2421, 'fave': 840, 'content': 512, 'wap': 2753, 'private': 1939, 'statement': 2389, 'unredeemed': 2666, 'points': 1891, 'identifier': 1180, 'cute': 571, 'necessary': 1683, 'share': 2229, 'frnd': 936, 'gotta': 1023, 'urself': 2682, 'present': 1929, 'madam': 1477, 'reference': 2039, 'kindly': 1310, 'rgds': 2094, 'rakhesh': 1993, 'boye': 287, 'changed': 405, 'trust': 2620, 'asap': 138, 'twenty': 2634, 'angry': 89, 'confirmed': 502, 'oni': 1760, 'oooh': 1763, 'plenty': 1878, 'group': 1039, 'brother': 308, 'alert': 72, 'mobiles': 1595, 'abj': 5, 'search': 2174, 'tat': 2477, 'darlin': 583, 'holding': 1125, 'chikku': 428, 'simple': 2272, 'bus': 324, 'ke': 1295, 'fighting': 858, 'lose': 1433, 'fightng': 859, 'dificult': 647, 'creep': 551, 'avatar': 163, 'imp': 1191, 'calling': 348, 'surely': 2449, 'result': 2081, 'blame': 251, 'experience': 807, 'essential': 776, 'gods': 1006, 'blessings': 255, 'em': 746, 'gee': 974, 'thgt': 2524, 'fren': 926, 'mum': 1653, 'gram': 1029, 'missing': 1582, 'la': 1322, 'bf': 228, 'yummy': 2911, 'buns': 323, 'derek': 624, 'link': 1396, 'asp': 146, 'tmr': 2568, 'urgnt': 2680, 'smart': 2307, 'uz': 2695, 'jacket': 1248, 'favourite': 843, 'song': 2337, 'laundry': 1344, 'etc': 777, 'training': 2605, 'moms': 1607, 'telling': 2493, 'cancer': 360, 'hurts': 1168, 'talking': 2473, 'prospects': 1957, 'charged': 409, 'cream': 546, 'shipped': 2236, 'nothing': 1726, 'joking': 1276, 'uni': 2661, 'modules': 1600, 'ar': 120, 'married': 1504, 'lazy': 1347, 'url': 2681, 'messaged': 1554, 'bucks': 315, 'fish': 878, 'released': 2047, 'italian': 1242, 'option': 1771, 'mates': 1512, 'remove': 2057, 'auction': 154, 'curry': 565, 'huh': 1161, 'slow': 2303, 'people': 1822, 'ge': 973, 'issue': 1240, 'software': 2325, 'clock': 456, 'valued': 2703, 'vodafone': 2724, 'picked': 1845, 'ha': 1053, 'tm': 2567, 'smiles': 2310, 'shortly': 2249, 'lover': 1449, 'across': 23, 'sea': 2173, 'planned': 1866, 'concert': 498, 'sometime': 2333, 'somebody': 2329, 'website': 2771, 'rest': 2079, 'bedrm': 211, 'secretly': 2183, 'fancies': 829, 'dateboxessexcmxn': 588, 'couple': 533, 'hours': 1149, 'used': 2687, 'salam': 2140, 'pleasure': 1877, 'pleased': 1876, 'indian': 1205, 'save': 2152, 'respectful': 2073, 'regards': 2042, 'voice': 2725, 'process': 1946, 'needed': 1687, 'interview': 1226, 'indyarocks': 1208, 'winner': 2813, 'flights': 888, 'inc': 1194, 'wonders': 2843, 'personality': 1830, 'nature': 1676, 'di': 633, 'tee': 2489, 'lecture': 1359, 'idk': 1181, 'moved': 1629, 'heads': 1087, 'freedom': 922, 'responsibility': 2078, 'barely': 190, 'added': 33, 'access': 14, 'painful': 1797, 'imma': 1189, 'assume': 148, 'beautiful': 205, 'truth': 2621, 'understood': 2658, 'loved': 1447, 'ones': 1759, 'str': 2408, 'sport': 2372, 'norm': 1720, 'poop': 1899, 'cuz': 572, 'gpu': 1025, 'ranjith': 2000, 'hes': 1102, 'mistake': 1583, 'dhoni': 632, 'cross': 553, 'cut': 570, 'road': 2106, 'side': 2263, 'xavier': 2875, 'bag': 180, 'mother': 1625, 'passed': 1809, 'pray': 1923, 'serving': 2215, 'miserable': 1578, 'doin': 677, 'stops': 2403, 'hella': 1097, 'straight': 2409, 'roommates': 2116, 'various': 2704, 'tablets': 2465, 'reaction': 2011, 'wonder': 2840, 'xmas': 2877, 'sale': 2142, 'club': 462, 'selling': 2198, 'bec': 207, 'biggest': 234, 'vu': 2733, 'bcmwcnxx': 200, 'relation': 2045, 'luvs': 1469, 'praying': 1924, 'village': 2716, 'near': 1681, 'doctor': 672, 'fat': 837, 'cup': 562, 'bone': 267, 'kallis': 1288, 'test': 2506, 'japanese': 1255, 'proverb': 1958, 'none': 1717, 'version': 2709, 'slap': 2293, 'bcoz': 201, 'fault': 839, 'basically': 191, 'round': 2119, 'bids': 231, 'luck': 1465, 'decided': 600, 'hungry': 1163, 'mrt': 1637, 'feb': 845, 'ignore': 1182, 'hate': 1081, 'accept': 13, 'begging': 215, 'little': 1405, 'lounge': 1443, 'dem': 620, 'player': 1871, 'iam': 1171, 'match': 1509, 'rush': 2131, 'wont': 2844, 'country': 532, 'exact': 795, 'grins': 1038, 'wiv': 2825, 'caroline': 376, 'bless': 253, 'hands': 1067, 'women': 2839, 'scotland': 2166, 'valentines': 2698, 'uncles': 2655, 'polyphonic': 1896, 'ringtones': 2104, 'yar': 2889, 'elaine': 743, 'character': 407, 'dnt': 668, 'lik': 1385, 'add': 31, 'college': 476, 'medicine': 1536, 'secretary': 2182, 'nigeria': 1706, 'expensive': 806, 'unless': 2664, 'citizen': 444, 'rates': 2002, 'mths': 1647, 'linerental': 1394, 'seems': 2190, 'andros': 88, 'ice': 1176, 'loves': 1452, 'company': 489, 'head': 1085, 'spl': 2368, 'whr': 2800, 'ru': 2124, 'top': 2591, 'liverpool': 1408, 'played': 1870, 'ansr': 95, 'tyrone': 2644, 'wet': 2790, 'warm': 2754, 'porn': 1904, 'recd': 2025, 'msgs': 1644, 'cancel': 358, 'energy': 756, 'le': 1351, 'pongal': 1898, 'dint': 652, 'unfortunately': 2660, 'yest': 2899, 'lousy': 1444, 'dead': 595, 'plm': 1879, 'logo': 1420, 'names': 1670, 'joined': 1273, 'booking': 272, 'tour': 2600, 'package': 1792, 'fo': 896, 'ho': 1120, 'drugs': 709, 'gals': 955, 'cust': 566, 'colours': 479, 'nw': 1737, 'copy': 522, 'report': 2068, 'smoking': 2315, 'wylie': 2874, 'smokes': 2314, 'ruining': 2126, 'british': 302, 'hotels': 1147, 'bx': 330, 'swss': 2459, 'rude': 2125, 'gettin': 986, 'shagged': 2226, 'pix': 1858, 'sam': 2144, 'phones': 1840, 'ntwk': 1732, 'txts': 2641, 'calloptout': 349, 'ring': 2101, 'loving': 1453, 'small': 2306, 'midnight': 1561, 'tmrw': 2569, 'rooms': 2117, 'befor': 214, 'activities': 27, 'gr': 1026, 'horny': 1140, 'howard': 1151, 'due': 715, 'several': 2221, 'outstanding': 1785, 'flat': 886, 'un': 2651, 'redeemed': 2036, 'xx': 2880, 'wrong': 2865, 'ps': 1960, 'joke': 1274, 'fees': 850, 'university': 2663, 'seem': 2188, 'holla': 1127, 'lido': 1378, 'ugh': 2645, 'flip': 889, 'diet': 641, 'ate': 149, 'pizza': 1859, 'hr': 1155, 'completely': 493, 'sept': 2209, 'worth': 2857, 'savamob': 2151, 'offers': 1744, 'sub': 2423, 'cell': 396, 'happend': 1072, 'chinese': 435, 'uncle': 2654, 'abiola': 4, 'wishing': 2821, 'mas': 1506, 'jolt': 1277, 'remind': 2053, 'screamed': 2169, 'passionate': 1810, 'garden': 963, 'selection': 2194, 'bulbs': 322, 'seeds': 2186, 'scotsman': 2167, 'notxt': 1728, 'wats': 2763, 'talks': 2474, 'credited': 549, 'activate': 26, 'biz': 247, 'slept': 2299, 'collecting': 474, 'sell': 2197, 'themob': 2522, 'games': 957, 'gossip': 1020, 'fit': 879, 'ganesh': 958, 'diwali': 666, 'raj': 1992, 'thinkin': 2528, 'kent': 1298, 'vale': 2696, 'mesages': 1551, 'haiz': 1060, 'pieces': 1851, 'pack': 1791, 'recently': 2030, 'blue': 261, 'east': 725, 'coast': 466, 'na': 1663, 'child': 429, 'alrite': 81, 'fall': 825, 'discreet': 658, 'vip': 2718, 'bhaji': 229, 'cricketer': 552, 'tough': 2599, 'ba': 173, 'brah': 290, 'exams': 798, 'thnk': 2533, 'comp': 488, 'ipod': 1235, 'pod': 1889, 'std': 2395, 'vomit': 2727, 'temp': 2497, 'however': 1152, 'film': 867, 'handed': 1065, 'awake': 168, 'sleepy': 2298, 'brand': 292, 'rent': 2059, 'bank': 187, 'payment': 1816, 'shining': 2235, 'malaria': 1490, 'relax': 2046, 'gastroenteritis': 966, 'replace': 2063, 'loss': 1436, 'reduce': 2037, 'meds': 1537, 'limiting': 1392, 'illness': 1186, 'argh': 125, 'nobody': 1712, 'screaming': 2170, 'naughty': 1677, 'bought': 281, 'clothes': 461, 'subscription': 2426, 'confirm': 501, 'haf': 1055, 'enuff': 767, 'mb': 1525, 'double': 687, 'callback': 341, 'records': 2034, 'whole': 2798, 'stretch': 2413, 'cali': 337, 'bloke': 256, 'easier': 724, 'germany': 983, 'power': 1914, 'yoga': 2906, 'lo': 1412, 'ela': 742, 'game': 956, 'card': 367, 'inside': 1216, 'raining': 1990, 'settled': 2220, 'logos': 1421, 'gravity': 1032, 'carefully': 373, 'leaves': 1356, 'goodmorning': 1015, 'geeeee': 976, 'aiya': 63, 'complete': 492, 'moro': 1621, 'laughing': 1343, 'amazing': 84, 'quote': 1984, 'lie': 1379, 'brings': 300, 'tear': 2485, 'attached': 152, 'teach': 2484, 'okie': 1754, 'anyone': 101, 'cud': 559, 'abi': 2, 'update_now': 2671, 'exactly': 796, 'posted': 1909, 'door': 684, 'tlp': 2566, 'reward': 2092, 'minmoremobsemspoboxpowa': 1572, 'audrey': 156, 'status': 2391, 'responding': 2076, 'scary': 2159, 'mall': 1492, 'sumthin': 2433, 'facebook': 819, 'bluetooth': 262, 'lf': 1373, 'learn': 1353, 'period': 1827, 'error': 772, 'alex': 73, 'knows': 1318, 'sells': 2199, 'tampa': 2475, 'en': 750, 'cousin': 536, 'market': 1502, 'form': 911, 'clark': 448, 'utter': 2694, 'ttyl': 2627, 'likes': 1389, 'dislikes': 660, 'arrive': 134, 'vijay': 2714, 'different': 644, 'woke': 2836, 'meal': 1527, 'installing': 1217, 'vl': 2722, 'til': 2553, 'range': 1999, 'blackberry': 249, 'india': 1204, 'series': 2210, 'record': 2033, 'mode': 1598, 'men': 1548, 'sheffield': 2232, 'tom': 2581, 'air': 61, 'measure': 1533, 'woman': 2838, 'nervous': 1692, 'wasted': 2758, 'omg': 1756, 'cat': 382, 'melt': 1544, 'hostel': 1144, 'schedule': 2161, 'ref': 2038, 'iouri': 1232, 'xxxxxx': 2883, 'depends': 623, 'chocolate': 436, 'hmm': 1117, 'suzy': 2454, 'definitely': 612, 'tessy': 2505, 'favor': 841, 'convey': 515, 'wishes': 2820, 'nimya': 1709, 'shijas': 2234, 'spare': 2358, 'common': 486, 'sux': 2453, 'snake': 2319, 'buff': 318, 'whenever': 2793, 'sarasota': 2145, 'clearing': 453, 'cars': 378, 'stand': 2379, 'ache': 20, 'clever': 454, 'darren': 585, 'willing': 2807, 'showing': 2255, 'high': 1108, 'anywhere': 107, 'damn': 579, 'mega': 1542, 'journey': 1279, 'possible': 1906, 'request': 2070, 'oru': 1779, 'callertune': 345, 'callers': 344, 'press': 1930, 'whatever': 2791, 'meetin': 1539, 'jan': 1252, 'ride': 2097, 'petey': 1833, 'staff': 2377, 'placement': 1861, 'printed': 1937, 'ladies': 1325, 'nat': 1673, 'mailbox': 1484, 'messaging': 1556, 'matches': 1510, 'retrieve': 2084, 'escape': 773, 'valentine': 2697, 'answers': 98, 'ques': 1975, 'suits': 2431, 'sed': 2184, 'minuts': 1576, 'latr': 1341, 'necklace': 1684, 'lions': 1399, 'lionm': 1397, 'mono': 1611, 'lionp': 1398, 'original': 1778, 'pie': 1850, 'august': 157, 'ericsson': 770, 'considering': 508, 'china': 434, 'umma': 2649, 'photo': 1841, 'terms': 2503, 'bugis': 320, 'parco': 1800, 'nb': 1678, 'realize': 2017, 'addie': 35, 'normally': 1722, 'donno': 681, 'aiyah': 64, 'six': 2286, 'hl': 1115, 'throw': 2543, 'hunny': 1164, 'ure': 2677, 'xxxx': 2882, 'proof': 1954, 'lonely': 1424, 'black': 248, 'kids': 1305, 'colleagues': 471, 'kidz': 1306, 'naked': 1667, 'maangalyam': 1472, 'alaipayuthe': 70, 'technical': 2488, 'callin': 347, 'jen': 1263, 'roast': 2108, 'cheaper': 416, 'kept': 1299, 'hoped': 1137, 'congrats': 503, 'unbelievable': 2653, 'pole': 1892, 'quick': 1979, 'yay': 2890, 'failed': 822, 'rock': 2109, 'interested': 1223, 'partner': 1805, 'lifetime': 1382, 'staring': 2382, 'juicy': 1282, 'aha': 56, 'cann': 361, 'returned': 2086, 'wud': 2869, 'gb': 970, 'mp': 1634, 'ibhltd': 1173, 'ldnwh': 1350, 'mtmsgrcvd': 1649, 'bill': 235, 'fab': 817, 'glad': 1001, 'applebees': 112, 'renewal': 2058, 'slp': 2305, 'swt': 2460, 'muah': 1651, 'aunts': 158, 'daddy': 576, 'scream': 2168, 'ass': 147, 'dick': 635, 'following': 899, 'anybody': 99, 'sary': 2146, 'lays': 1346, 'dedicated': 605, 'dedicate': 604, 'valuable': 2701, 'forward': 914, 'liked': 1387, 'flirt': 890, 'tonights': 2588, 'atm': 151, 'results': 2082, 'ppl': 1917, 'suntec': 2438, 'cartoon': 379, 'listening': 1403, 'temple': 2498, 'church': 441, 'local': 1415, 'flash': 885, 'nit': 1710, 'sooooo': 2343, 'promise': 1950, 'blessing': 254, 'honey': 1133, 'desparate': 626, 'frndship': 938, 'treat': 2611, 'male': 1491, 'gay': 969, 'mr': 1635, 'exciting': 800, 'eye': 814, 'bet': 226, 'season': 2176, 'forever': 906, 'ability': 3, 'history': 1112, 'rs': 2122, 'petrol': 1834, 'beer': 213, 'shesil': 2233, 'arcade': 121, 'settings': 2218, 'law': 1345, 'model': 1599, 'regular': 2044, 'dubsack': 713, 'bringing': 299, 'lil': 1390, 'fever': 855, 'bathe': 195, 'lead': 1352, 'gentle': 978, 'moby': 1597, 'spook': 2371, 'halloween': 1063, 'zed': 2914, 'sore': 2344, 'conditions': 499, 'rule': 2127, 'tacos': 2466, 'low': 1454, 'tech': 2487, 'gentleman': 979, 'dignity': 649, 'respect': 2072, 'hun': 1162, 'rang': 1998, 'mite': 1584, 'sorted': 2347, 'sends': 2204, 'greetings': 1037, 'checking': 422, 'rewarding': 2093, 'catch': 383, 'effects': 735, 'boys': 288, 'legal': 1361, 'premium': 1927, 'pink': 1856, 'wallpaper': 2745, 'especially': 774, 'wednesday': 2774, 'addicted': 34, 'msging': 1641, 'freeday': 921, 'george': 982, 'saucy': 2150, 'celeb': 393, 'pocketbabe': 1888, 'bitch': 245, 'happening': 1074, 'ahead': 57, 'meets': 1541, 'boring': 277, 'lab': 1323, 'playing': 1873, 'football': 904, 'farm': 834, 'fifteen': 856, 'inviting': 1230, 'bills': 237, 'settle': 2219, 'senthil': 2208, 'mm': 1586, 'coffee': 469, 'book': 270, 'diff': 642, 'losing': 1435, 'galileo': 954, 'orchard': 1774, 'nok': 1714, 'txtin': 2639, 'careful': 372, 'spk': 2367, 'sn': 2318, 'moves': 1630, 'opinion': 1768, 'anyways': 106, 'buffet': 319, 'storming': 2406, 'lift': 1383, 'phne': 1838, 'wt': 2866, 'margaret': 1500, 'girlfrnd': 994, 'grahmbell': 1028, 'invnted': 1231, 'telphone': 2496, 'moral': 1617, 'maturity': 1517, 'understanding': 2657, 'adventure': 42, 'disturbing': 664, 'dare': 581, 'lp': 1458, 'pound': 1912, 'science': 2163, 'tells': 2494, 'dave': 591, 'tcs': 2482, 'mt': 1645, 'rcv': 2005, 'hardcore': 1080, 'verify': 2708, 'habit': 1054, 'replied': 2065, 'beauty': 206, 'pimples': 1854, 'kidding': 1304, 'tree': 2612, 'accidentally': 16, 'deleted': 615, 'runs': 2130, 'eighth': 739, 'birth': 242, 'control': 514, 'massive': 1507, 'cramps': 541, 'yogasana': 2907, 'station': 2390, 'remain': 2049, 'maintain': 1486, 'sh': 2224, 'jas': 1256, 'taken': 2468, 'omw': 1757, 'deus': 630, 'worried': 2853, 'ovulation': 1787, 'ive': 1243, 'polys': 1897, 'idea': 1178, 'slide': 2300, 'photos': 1842, 'division': 665, 'push': 1967, 'longer': 1426, 'noun': 1729, 'research': 2071, 'fair': 823, 'apparently': 111, 'fill': 864, 'incredible': 1200, 'truly': 2619, 'blow': 260, 'ofwd': 1748, 'superb': 2441, 'brought': 309, 'tms': 2570, 'widelive': 2803, 'index': 1203, 'wml': 2833, 'nichols': 1705, 'greet': 1036, 'arun': 137, 'blake': 250, 'purchase': 1963, 'eurodisinc': 778, 'trav': 2609, 'aco': 22, 'morefrmmob': 1618, 'shracomorsglsuplt': 2257, 'ls': 1460, 'aj': 67, 'absolutly': 7, 'past': 1812, 'inconsiderate': 1199, 'nag': 1664, 'recession': 2031, 'hence': 1101, 'askin': 142, 'banks': 188, 'delhi': 616, 'lane': 1331, 'monthly': 1613, 'rich': 2096, 'jogging': 1270, 'sonyericsson': 2340, 'pissed': 1857, 'natural': 1675, 'happens': 1075, 'greatest': 1034, 'courage': 534, 'bear': 203, 'defeat': 610, 'june': 1284, 'shd': 2230, 'pages': 1794, 'figures': 861, 'yck': 2891, 'wwq': 2871, 'normp': 1723, 'spanish': 2357, 'silent': 2269, 'forevr': 907, 'edison': 732, 'rightly': 2099, 'wise': 2818, 'speechless': 2362, 'viva': 2720, 'gm': 1002, 'pence': 1820, 'patty': 1813, 'lies': 1380, 'comedy': 482, 'constantly': 509, 'machan': 1474, 'favour': 842, 'neft': 1689, 'transaction': 2606, 'beneficiary': 224, 'waking': 2740, 'swing': 2457, 'recharge': 2032, 'letter': 1371, 'calicut': 338, 'vote': 2729, 'sing': 2275, 'stars': 2383, 'arrange': 132, 'thoughts': 2538, 'breath': 295, 'named': 1669, 'fight': 857, 'craziest': 543, 'chicken': 427, 'sleepwell': 2297, 'entitled': 765, 'mila': 1563, 'blonde': 257, 'mtalk': 1646, 'pp': 1915, 'increments': 1201, 'personal': 1829, 'list': 1401, 'certainly': 399, 'yijue': 2903, 'regarding': 2041, 'intro': 1227, 'players': 1872, 'hockey': 1121, 'totally': 2596, 'often': 1747, 'gently': 980, 'living': 1410, 'din': 650, 'pete': 1832, 'lib': 1375, 'march': 1499, 'track': 2603, 'spoke': 2369, 'sacrifice': 2135, 'promises': 1951, 'clear': 452, 'expecting': 805, 'daily': 578, 'sac': 2133, 'rofl': 2110, 'california': 339, 'radio': 1988, 'bar': 189, 'celebration': 395, 'grace': 1027, 'inshah': 1215, 'jesus': 1266, 'christ': 439, 'hug': 1159, 'remains': 2050, 'bro': 304, 'trouble': 2616, 'randomly': 1996, 'loyal': 1456, 'customers': 569, 'spoken': 2370, 'atlanta': 150, 'butt': 326, 'hang': 1069, 'cooked': 517, 'tt': 2626, 'window': 2810, 'fa': 816, 'tkts': 2565, 'perhaps': 1826, 'stuck': 2416, 'mark': 1501, 'works': 2850, 'drug': 708, 'simply': 2273, 'electricity': 744, 'fml': 895, 'vava': 2706, 'warner': 2755, 'cinema': 443, 'running': 2129, 'green': 1035, 'bck': 199, 'giv': 996, 'color': 477, 'bak': 183, 'suppose': 2444, 'sim': 2271, 'afraid': 46, 'kinda': 1309, 'forum': 913, 'replacement': 2064, 'hopefully': 1138, 'soiree': 2326, 'paris': 1802, 'interesting': 1224, 'inches': 1195, 'hint': 1110, 'ron': 2113, 'female': 853, 'deciding': 601, 'james': 1250, 'becoz': 209, 'closer': 459, 'tyler': 2642, 'trips': 2615, 'kay': 1293, 'interest': 1222, 'thru': 2544, 'coping': 521, 'individual': 1207, 'films': 868, 'quit': 1981, 'wales': 2741, 'åð': 2916, 'received': 2028, 'thot': 2535, 'nearly': 1682, 'ryan': 2132, 'forgiven': 909, 'select': 2192, 'teeth': 2490, 'thts': 2547, 'membership': 1547, 'px': 1971, 'missin': 1581, 'jess': 1265, 'validhrs': 2700, 'bottom': 280, 'kisses': 1313, 'letters': 1372, 'moon': 1616, 'twelve': 2633, 'partnership': 1806, 'canada': 357, 'pilates': 1853, 'west': 2789, 'aka': 68, 'fuckin': 944, 'si': 2261, 'bday': 202, 'definite': 611, 'responce': 2074, 'dan': 580, 'egg': 737, 'mummy': 1654, 'answering': 97, 'alive': 74, 'difficulties': 646, 'realized': 2018, 'thursday': 2549, 'otside': 1783, 'morrow': 1624, 'skip': 2289, 'ticket': 2551, 'tirunelvali': 2559, 'chest': 426, 'miles': 1564, 'shorter': 2248, 'closes': 460, 'repeat': 2062, 'upload': 2673, 'shoes': 2241, 'dark': 582, 'odi': 1742, 'adult': 40, 'singles': 2277, 'indicate': 1206, 'accident': 15, 'topic': 2592, 'fingers': 873, 'morphine': 1623, 'putting': 1970, 'propsd': 1956, 'gv': 1051, 'lv': 1471, 'lttrs': 1464, 'threw': 2541, 'thm': 2532, 'aproach': 119, 'dt': 712, 'truck': 2617, 'speeding': 2364, 'towards': 2601, 'wn': 2834, 'hell': 1096, 'cn': 464, 'boost': 273, 'instantly': 1218, 'shouted': 2251, 'thy': 2550, 'lived': 1407, 'happily': 1076, 'gthr': 1042, 'drinking': 699, 'evrydy': 793, 'holy': 1129, 'apps': 116, 'selfish': 2196, 'success': 2427, 'avent': 165, 'connections': 507, 'anna': 90, 'nagar': 1665, 'shoot': 2242, 'mca': 1526, 'lip': 1400, 'goodo': 1017, 'shy': 2260, 'tuesday': 2628, 'main': 1485, 'guilty': 1048, 'enemy': 755, 'messenger': 1557, 'flirting': 891, 'store': 2405, 'cds': 392, 'amount': 85, 'terrible': 2504, 'finishing': 876, 'boxskch': 285, 'mmmm': 1588, 'scores': 2165, 'timing': 2557, 'captain': 365, 'innings': 1214, 'subpoly': 2424, 'contacted': 511, 'fran': 918, 'gang': 959, 'bang': 186, 'sha': 2225, 'racing': 1987, 'cancelled': 359, 'thousands': 2539, 'infront': 1213, 'batch': 193, 'ibiza': 1174, 'whether': 2795, 'broke': 305, 'london': 1423, 'wa': 2734, 'voda': 2723, 'ending': 753, 'quoting': 1985, 'standard': 2380, 'voicemail': 2726, 'meanwhile': 1532, 'frying': 942, 'eating': 730, 'bigger': 233, 'chart': 411, 'cha': 400, 'catching': 384, 'doc': 670, 'eastenders': 726, 'dot': 686, 'compare': 490, 'violet': 2717, 'tulip': 2630, 'lily': 1391, 'wkent': 2829, 'wipro': 2816, 'language': 1332, 'forms': 912, 'caring': 374, 'woulda': 2860, 'geeee': 975, 'flaky': 884, 'response': 2077, 'hon': 1132, 'falls': 827, 'arsenal': 135, 'upgrade': 2672, 'av': 161, 'wah': 2735, 'granite': 1031, 'issues': 1241, 'explosive': 811, 'members': 1546, 'nasdaq': 1672, 'symbol': 2461, 'cdgt': 391, 'chase': 412, 'movies': 1632, 'bags': 181, 'nvm': 1736, 'collected': 473, 'password': 1811, 'mix': 1585, 'usher': 2690, 'britney': 303, 'wear': 2768, 'remembered': 2052, 'subs': 2425, 'expired': 808, 'transfered': 2608, 'salon': 2143, 'accordingly': 17, 'agree': 54, 'ipad': 1234, 'cam': 352, 'likely': 1388, 'stomach': 2401, 'weight': 2781, 'cookies': 518, 'pre': 1925, 'invest': 1228, 'prepare': 1928, 'anythin': 102, 'april': 118, 'audition': 155, 'walmart': 2746, 'bloody': 259, 'tomarrow': 2582, 'fret': 928, 'term': 2502, 'philosophy': 1837, 'booked': 271, 'jada': 1249, 'kusruthi': 1320, 'lovable': 1445, 'matured': 1516, 'stylish': 2422, 'ic': 1175, 'doors': 685, 'channel': 406, 'pg': 1835, 'profit': 1947, 'event': 784, 'throat': 2542, 'prompts': 1953, 'pickle': 1847, 'table': 2464, 'rstm': 2123, 'sw': 2455, 'ss': 2375, 'moments': 1606, 'literally': 1404, 'covers': 538, 'randy': 1997, 'july': 1283, 'cock': 467, 'value': 2702, 'tht': 2546, 'sunny': 2436, 'warning': 2756, 'thangam': 2515, 'held': 1094, 'seat': 2177, 'gibbs': 991, 'unsold': 2667, 'csbcmwcnxx': 558, 'maxå': 1521, 'note': 1724, 'taunton': 2478, 'uks': 2647, 'generally': 977, 'brothas': 307, 'sk': 2287, 'wp': 2862, 'dictionary': 636, 'screen': 2171, 'somtimes': 2336, 'quiet': 1980, 'nothin': 1725, 'iz': 1244, 'pictures': 1849, 'miracle': 1577, 'delivered': 617, 'drpd': 707, 'deeraj': 608, 'deepak': 607, 'ended': 752, 'rays': 2004, 'dresser': 696, 'suprman': 2446, 'matrix': 1514, 'starwars': 2388, 'reminding': 2055, 'adoring': 39, 'signing': 2268, 'popped': 1903, 'jd': 1261, 'accounts': 19, 'executive': 802, 'causing': 387, 'gold': 1010, 'fb': 844, 'geva': 989, 'art': 136, 'bite': 246, 'sura': 2447, 'mac': 1473, 'calculation': 336, 'indeed': 1202, 'bruv': 311, 'pussy': 1968, 'aunty': 159, 'weak': 2767, 'usb': 2684, 'silently': 2270, 'drms': 704, 'stayin': 2393, 'total': 2595, 'privacy': 1938, 'bears': 204, 'booty': 274, 'tiwary': 2564, 'fake': 824, 'sick': 2262, 'action': 25, 'faggy': 821, 'paperwork': 1799, 'imagine': 1188, 'owns': 1788, 'hlp': 1116, 'msgp': 1642, 'usc': 2685, 'faster': 836, 'posts': 1910, 'kadeem': 1287, 'mokka': 1603, 'mmmmmm': 1589, 'videophones': 2713, 'videochat': 2712, 'java': 1258, 'dload': 667, 'noline': 1716, 'rentl': 2061, 'foot': 903, 'penis': 1821, 'plaza': 1874, 'shot': 2250, 'speed': 2363, 'difference': 643, 'masters': 1508, 'seconds': 2180, 'shut': 2259, 'cuddling': 560, 'lr': 1459, 'freefone': 923, 'gautham': 967, 'lick': 1377, 'future': 951, 'actual': 28, 'walked': 2743, 'stranger': 2411, 'app': 110, 'iscoming': 1237, 'cheer': 423, 'soo': 2341, 'docs': 671, 'supply': 2442, 'winppmx': 2814, 'lotta': 1440, 'cared': 370, 'shirts': 2238, 'underwear': 2659, 'borin': 276, 'dropped': 706, 'everybody': 787, 'force': 905, 'falling': 826, 'smeone': 2308, 'bristol': 301, 'flight': 887, 'maneesha': 1496, 'satisfied': 2148, 'toll': 2580, 'nan': 1671, 'lately': 1338, 'helen': 1095, 'chasing': 413, 'perfect': 1825, 'community': 487, 'bud': 316, 'created': 547, 'gap': 960, 'fills': 866, 'gaps': 961, 'sec': 2178, 'score': 2164, 'scrounge': 2172, 'loud': 1442, 'shoving': 2252, 'eva': 779, 'bruce': 310, 'aiyar': 65, 'snowman': 2322, 'claire': 447, 'asks': 144, 'tb': 2479, 'polyph': 1895, 'auto': 160, 'erm': 771, 'correction': 524, 'acted': 24, 'skyped': 2292, 'kz': 1321, 'given': 998, 'ultimatum': 2648, 'countin': 531, 'aburo': 10, 'admit': 38, 'textpod': 2512, 'wks': 2832, 'networks': 1697, 'gudnite': 1045, 'practice': 1921, 'heading': 1086, 'hsbc': 1157, 'esplanade': 775, 'jokes': 1275, 'manage': 1494, 'reminder': 2054, 'postcode': 1908, 'donåõt': 683, 'poboxwtgp': 1886, 'dress': 694, 'welp': 2786, 'dr': 689, 'everyday': 788, 'wcnxx': 2766, 'reality': 2016, 'obviously': 1741, 'probs': 1945}\n"
          ]
        }
      ]
    },
    {
      "cell_type": "code",
      "source": [
        "# making df of vectors\n",
        "pd.DataFrame(data=X_train.toarray(), columns=tfidf.get_feature_names_out())"
      ],
      "metadata": {
        "colab": {
          "base_uri": "https://localhost:8080/",
          "height": 424
        },
        "id": "Mch-EtfSVO43",
        "outputId": "080224fd-8550-43eb-fb9e-b627d9d0e2bc"
      },
      "execution_count": 13,
      "outputs": [
        {
          "output_type": "execute_result",
          "data": {
            "text/plain": [
              "      ____  aathi  abi  ability  abiola  abj  able  absolutly  abt  abta  ...  \\\n",
              "0      0.0    0.0  0.0      0.0     0.0  0.0   0.0        0.0  0.0   0.0  ...   \n",
              "1      0.0    0.0  0.0      0.0     0.0  0.0   0.0        0.0  0.0   0.0  ...   \n",
              "2      0.0    0.0  0.0      0.0     0.0  0.0   0.0        0.0  0.0   0.0  ...   \n",
              "3      0.0    0.0  0.0      0.0     0.0  0.0   0.0        0.0  0.0   0.0  ...   \n",
              "4      0.0    0.0  0.0      0.0     0.0  0.0   0.0        0.0  0.0   0.0  ...   \n",
              "...    ...    ...  ...      ...     ...  ...   ...        ...  ...   ...  ...   \n",
              "3895   0.0    0.0  0.0      0.0     0.0  0.0   0.0        0.0  0.0   0.0  ...   \n",
              "3896   0.0    0.0  0.0      0.0     0.0  0.0   0.0        0.0  0.0   0.0  ...   \n",
              "3897   0.0    0.0  0.0      0.0     0.0  0.0   0.0        0.0  0.0   0.0  ...   \n",
              "3898   0.0    0.0  0.0      0.0     0.0  0.0   0.0        0.0  0.0   0.0  ...   \n",
              "3899   0.0    0.0  0.0      0.0     0.0  0.0   0.0        0.0  0.0   0.0  ...   \n",
              "\n",
              "      yummy  yun  yup  zed  zoe   åð        ì_        ìï   û_   ûò  \n",
              "0       0.0  0.0  0.0  0.0  0.0  0.0  0.000000  0.446282  0.0  0.0  \n",
              "1       0.0  0.0  0.0  0.0  0.0  0.0  0.000000  0.000000  0.0  0.0  \n",
              "2       0.0  0.0  0.0  0.0  0.0  0.0  0.000000  0.000000  0.0  0.0  \n",
              "3       0.0  0.0  0.0  0.0  0.0  0.0  0.000000  0.000000  0.0  0.0  \n",
              "4       0.0  0.0  0.0  0.0  0.0  0.0  0.599649  0.000000  0.0  0.0  \n",
              "...     ...  ...  ...  ...  ...  ...       ...       ...  ...  ...  \n",
              "3895    0.0  0.0  0.0  0.0  0.0  0.0  0.000000  0.000000  0.0  0.0  \n",
              "3896    0.0  0.0  0.0  0.0  0.0  0.0  0.000000  0.000000  0.0  0.0  \n",
              "3897    0.0  0.0  0.0  0.0  0.0  0.0  0.000000  0.000000  0.0  0.0  \n",
              "3898    0.0  0.0  0.0  0.0  0.0  0.0  0.000000  0.000000  0.0  0.0  \n",
              "3899    0.0  0.0  0.0  0.0  0.0  0.0  0.000000  0.000000  0.0  0.0  \n",
              "\n",
              "[3900 rows x 2921 columns]"
            ],
            "text/html": [
              "\n",
              "  <div id=\"df-e03e77f5-4ea5-450b-8a91-90fec9acaba2\">\n",
              "    <div class=\"colab-df-container\">\n",
              "      <div>\n",
              "<style scoped>\n",
              "    .dataframe tbody tr th:only-of-type {\n",
              "        vertical-align: middle;\n",
              "    }\n",
              "\n",
              "    .dataframe tbody tr th {\n",
              "        vertical-align: top;\n",
              "    }\n",
              "\n",
              "    .dataframe thead th {\n",
              "        text-align: right;\n",
              "    }\n",
              "</style>\n",
              "<table border=\"1\" class=\"dataframe\">\n",
              "  <thead>\n",
              "    <tr style=\"text-align: right;\">\n",
              "      <th></th>\n",
              "      <th>____</th>\n",
              "      <th>aathi</th>\n",
              "      <th>abi</th>\n",
              "      <th>ability</th>\n",
              "      <th>abiola</th>\n",
              "      <th>abj</th>\n",
              "      <th>able</th>\n",
              "      <th>absolutly</th>\n",
              "      <th>abt</th>\n",
              "      <th>abta</th>\n",
              "      <th>...</th>\n",
              "      <th>yummy</th>\n",
              "      <th>yun</th>\n",
              "      <th>yup</th>\n",
              "      <th>zed</th>\n",
              "      <th>zoe</th>\n",
              "      <th>åð</th>\n",
              "      <th>ì_</th>\n",
              "      <th>ìï</th>\n",
              "      <th>û_</th>\n",
              "      <th>ûò</th>\n",
              "    </tr>\n",
              "  </thead>\n",
              "  <tbody>\n",
              "    <tr>\n",
              "      <th>0</th>\n",
              "      <td>0.0</td>\n",
              "      <td>0.0</td>\n",
              "      <td>0.0</td>\n",
              "      <td>0.0</td>\n",
              "      <td>0.0</td>\n",
              "      <td>0.0</td>\n",
              "      <td>0.0</td>\n",
              "      <td>0.0</td>\n",
              "      <td>0.0</td>\n",
              "      <td>0.0</td>\n",
              "      <td>...</td>\n",
              "      <td>0.0</td>\n",
              "      <td>0.0</td>\n",
              "      <td>0.0</td>\n",
              "      <td>0.0</td>\n",
              "      <td>0.0</td>\n",
              "      <td>0.0</td>\n",
              "      <td>0.000000</td>\n",
              "      <td>0.446282</td>\n",
              "      <td>0.0</td>\n",
              "      <td>0.0</td>\n",
              "    </tr>\n",
              "    <tr>\n",
              "      <th>1</th>\n",
              "      <td>0.0</td>\n",
              "      <td>0.0</td>\n",
              "      <td>0.0</td>\n",
              "      <td>0.0</td>\n",
              "      <td>0.0</td>\n",
              "      <td>0.0</td>\n",
              "      <td>0.0</td>\n",
              "      <td>0.0</td>\n",
              "      <td>0.0</td>\n",
              "      <td>0.0</td>\n",
              "      <td>...</td>\n",
              "      <td>0.0</td>\n",
              "      <td>0.0</td>\n",
              "      <td>0.0</td>\n",
              "      <td>0.0</td>\n",
              "      <td>0.0</td>\n",
              "      <td>0.0</td>\n",
              "      <td>0.000000</td>\n",
              "      <td>0.000000</td>\n",
              "      <td>0.0</td>\n",
              "      <td>0.0</td>\n",
              "    </tr>\n",
              "    <tr>\n",
              "      <th>2</th>\n",
              "      <td>0.0</td>\n",
              "      <td>0.0</td>\n",
              "      <td>0.0</td>\n",
              "      <td>0.0</td>\n",
              "      <td>0.0</td>\n",
              "      <td>0.0</td>\n",
              "      <td>0.0</td>\n",
              "      <td>0.0</td>\n",
              "      <td>0.0</td>\n",
              "      <td>0.0</td>\n",
              "      <td>...</td>\n",
              "      <td>0.0</td>\n",
              "      <td>0.0</td>\n",
              "      <td>0.0</td>\n",
              "      <td>0.0</td>\n",
              "      <td>0.0</td>\n",
              "      <td>0.0</td>\n",
              "      <td>0.000000</td>\n",
              "      <td>0.000000</td>\n",
              "      <td>0.0</td>\n",
              "      <td>0.0</td>\n",
              "    </tr>\n",
              "    <tr>\n",
              "      <th>3</th>\n",
              "      <td>0.0</td>\n",
              "      <td>0.0</td>\n",
              "      <td>0.0</td>\n",
              "      <td>0.0</td>\n",
              "      <td>0.0</td>\n",
              "      <td>0.0</td>\n",
              "      <td>0.0</td>\n",
              "      <td>0.0</td>\n",
              "      <td>0.0</td>\n",
              "      <td>0.0</td>\n",
              "      <td>...</td>\n",
              "      <td>0.0</td>\n",
              "      <td>0.0</td>\n",
              "      <td>0.0</td>\n",
              "      <td>0.0</td>\n",
              "      <td>0.0</td>\n",
              "      <td>0.0</td>\n",
              "      <td>0.000000</td>\n",
              "      <td>0.000000</td>\n",
              "      <td>0.0</td>\n",
              "      <td>0.0</td>\n",
              "    </tr>\n",
              "    <tr>\n",
              "      <th>4</th>\n",
              "      <td>0.0</td>\n",
              "      <td>0.0</td>\n",
              "      <td>0.0</td>\n",
              "      <td>0.0</td>\n",
              "      <td>0.0</td>\n",
              "      <td>0.0</td>\n",
              "      <td>0.0</td>\n",
              "      <td>0.0</td>\n",
              "      <td>0.0</td>\n",
              "      <td>0.0</td>\n",
              "      <td>...</td>\n",
              "      <td>0.0</td>\n",
              "      <td>0.0</td>\n",
              "      <td>0.0</td>\n",
              "      <td>0.0</td>\n",
              "      <td>0.0</td>\n",
              "      <td>0.0</td>\n",
              "      <td>0.599649</td>\n",
              "      <td>0.000000</td>\n",
              "      <td>0.0</td>\n",
              "      <td>0.0</td>\n",
              "    </tr>\n",
              "    <tr>\n",
              "      <th>...</th>\n",
              "      <td>...</td>\n",
              "      <td>...</td>\n",
              "      <td>...</td>\n",
              "      <td>...</td>\n",
              "      <td>...</td>\n",
              "      <td>...</td>\n",
              "      <td>...</td>\n",
              "      <td>...</td>\n",
              "      <td>...</td>\n",
              "      <td>...</td>\n",
              "      <td>...</td>\n",
              "      <td>...</td>\n",
              "      <td>...</td>\n",
              "      <td>...</td>\n",
              "      <td>...</td>\n",
              "      <td>...</td>\n",
              "      <td>...</td>\n",
              "      <td>...</td>\n",
              "      <td>...</td>\n",
              "      <td>...</td>\n",
              "      <td>...</td>\n",
              "    </tr>\n",
              "    <tr>\n",
              "      <th>3895</th>\n",
              "      <td>0.0</td>\n",
              "      <td>0.0</td>\n",
              "      <td>0.0</td>\n",
              "      <td>0.0</td>\n",
              "      <td>0.0</td>\n",
              "      <td>0.0</td>\n",
              "      <td>0.0</td>\n",
              "      <td>0.0</td>\n",
              "      <td>0.0</td>\n",
              "      <td>0.0</td>\n",
              "      <td>...</td>\n",
              "      <td>0.0</td>\n",
              "      <td>0.0</td>\n",
              "      <td>0.0</td>\n",
              "      <td>0.0</td>\n",
              "      <td>0.0</td>\n",
              "      <td>0.0</td>\n",
              "      <td>0.000000</td>\n",
              "      <td>0.000000</td>\n",
              "      <td>0.0</td>\n",
              "      <td>0.0</td>\n",
              "    </tr>\n",
              "    <tr>\n",
              "      <th>3896</th>\n",
              "      <td>0.0</td>\n",
              "      <td>0.0</td>\n",
              "      <td>0.0</td>\n",
              "      <td>0.0</td>\n",
              "      <td>0.0</td>\n",
              "      <td>0.0</td>\n",
              "      <td>0.0</td>\n",
              "      <td>0.0</td>\n",
              "      <td>0.0</td>\n",
              "      <td>0.0</td>\n",
              "      <td>...</td>\n",
              "      <td>0.0</td>\n",
              "      <td>0.0</td>\n",
              "      <td>0.0</td>\n",
              "      <td>0.0</td>\n",
              "      <td>0.0</td>\n",
              "      <td>0.0</td>\n",
              "      <td>0.000000</td>\n",
              "      <td>0.000000</td>\n",
              "      <td>0.0</td>\n",
              "      <td>0.0</td>\n",
              "    </tr>\n",
              "    <tr>\n",
              "      <th>3897</th>\n",
              "      <td>0.0</td>\n",
              "      <td>0.0</td>\n",
              "      <td>0.0</td>\n",
              "      <td>0.0</td>\n",
              "      <td>0.0</td>\n",
              "      <td>0.0</td>\n",
              "      <td>0.0</td>\n",
              "      <td>0.0</td>\n",
              "      <td>0.0</td>\n",
              "      <td>0.0</td>\n",
              "      <td>...</td>\n",
              "      <td>0.0</td>\n",
              "      <td>0.0</td>\n",
              "      <td>0.0</td>\n",
              "      <td>0.0</td>\n",
              "      <td>0.0</td>\n",
              "      <td>0.0</td>\n",
              "      <td>0.000000</td>\n",
              "      <td>0.000000</td>\n",
              "      <td>0.0</td>\n",
              "      <td>0.0</td>\n",
              "    </tr>\n",
              "    <tr>\n",
              "      <th>3898</th>\n",
              "      <td>0.0</td>\n",
              "      <td>0.0</td>\n",
              "      <td>0.0</td>\n",
              "      <td>0.0</td>\n",
              "      <td>0.0</td>\n",
              "      <td>0.0</td>\n",
              "      <td>0.0</td>\n",
              "      <td>0.0</td>\n",
              "      <td>0.0</td>\n",
              "      <td>0.0</td>\n",
              "      <td>...</td>\n",
              "      <td>0.0</td>\n",
              "      <td>0.0</td>\n",
              "      <td>0.0</td>\n",
              "      <td>0.0</td>\n",
              "      <td>0.0</td>\n",
              "      <td>0.0</td>\n",
              "      <td>0.000000</td>\n",
              "      <td>0.000000</td>\n",
              "      <td>0.0</td>\n",
              "      <td>0.0</td>\n",
              "    </tr>\n",
              "    <tr>\n",
              "      <th>3899</th>\n",
              "      <td>0.0</td>\n",
              "      <td>0.0</td>\n",
              "      <td>0.0</td>\n",
              "      <td>0.0</td>\n",
              "      <td>0.0</td>\n",
              "      <td>0.0</td>\n",
              "      <td>0.0</td>\n",
              "      <td>0.0</td>\n",
              "      <td>0.0</td>\n",
              "      <td>0.0</td>\n",
              "      <td>...</td>\n",
              "      <td>0.0</td>\n",
              "      <td>0.0</td>\n",
              "      <td>0.0</td>\n",
              "      <td>0.0</td>\n",
              "      <td>0.0</td>\n",
              "      <td>0.0</td>\n",
              "      <td>0.000000</td>\n",
              "      <td>0.000000</td>\n",
              "      <td>0.0</td>\n",
              "      <td>0.0</td>\n",
              "    </tr>\n",
              "  </tbody>\n",
              "</table>\n",
              "<p>3900 rows × 2921 columns</p>\n",
              "</div>\n",
              "      <button class=\"colab-df-convert\" onclick=\"convertToInteractive('df-e03e77f5-4ea5-450b-8a91-90fec9acaba2')\"\n",
              "              title=\"Convert this dataframe to an interactive table.\"\n",
              "              style=\"display:none;\">\n",
              "        \n",
              "  <svg xmlns=\"http://www.w3.org/2000/svg\" height=\"24px\"viewBox=\"0 0 24 24\"\n",
              "       width=\"24px\">\n",
              "    <path d=\"M0 0h24v24H0V0z\" fill=\"none\"/>\n",
              "    <path d=\"M18.56 5.44l.94 2.06.94-2.06 2.06-.94-2.06-.94-.94-2.06-.94 2.06-2.06.94zm-11 1L8.5 8.5l.94-2.06 2.06-.94-2.06-.94L8.5 2.5l-.94 2.06-2.06.94zm10 10l.94 2.06.94-2.06 2.06-.94-2.06-.94-.94-2.06-.94 2.06-2.06.94z\"/><path d=\"M17.41 7.96l-1.37-1.37c-.4-.4-.92-.59-1.43-.59-.52 0-1.04.2-1.43.59L10.3 9.45l-7.72 7.72c-.78.78-.78 2.05 0 2.83L4 21.41c.39.39.9.59 1.41.59.51 0 1.02-.2 1.41-.59l7.78-7.78 2.81-2.81c.8-.78.8-2.07 0-2.86zM5.41 20L4 18.59l7.72-7.72 1.47 1.35L5.41 20z\"/>\n",
              "  </svg>\n",
              "      </button>\n",
              "      \n",
              "  <style>\n",
              "    .colab-df-container {\n",
              "      display:flex;\n",
              "      flex-wrap:wrap;\n",
              "      gap: 12px;\n",
              "    }\n",
              "\n",
              "    .colab-df-convert {\n",
              "      background-color: #E8F0FE;\n",
              "      border: none;\n",
              "      border-radius: 50%;\n",
              "      cursor: pointer;\n",
              "      display: none;\n",
              "      fill: #1967D2;\n",
              "      height: 32px;\n",
              "      padding: 0 0 0 0;\n",
              "      width: 32px;\n",
              "    }\n",
              "\n",
              "    .colab-df-convert:hover {\n",
              "      background-color: #E2EBFA;\n",
              "      box-shadow: 0px 1px 2px rgba(60, 64, 67, 0.3), 0px 1px 3px 1px rgba(60, 64, 67, 0.15);\n",
              "      fill: #174EA6;\n",
              "    }\n",
              "\n",
              "    [theme=dark] .colab-df-convert {\n",
              "      background-color: #3B4455;\n",
              "      fill: #D2E3FC;\n",
              "    }\n",
              "\n",
              "    [theme=dark] .colab-df-convert:hover {\n",
              "      background-color: #434B5C;\n",
              "      box-shadow: 0px 1px 3px 1px rgba(0, 0, 0, 0.15);\n",
              "      filter: drop-shadow(0px 1px 2px rgba(0, 0, 0, 0.3));\n",
              "      fill: #FFFFFF;\n",
              "    }\n",
              "  </style>\n",
              "\n",
              "      <script>\n",
              "        const buttonEl =\n",
              "          document.querySelector('#df-e03e77f5-4ea5-450b-8a91-90fec9acaba2 button.colab-df-convert');\n",
              "        buttonEl.style.display =\n",
              "          google.colab.kernel.accessAllowed ? 'block' : 'none';\n",
              "\n",
              "        async function convertToInteractive(key) {\n",
              "          const element = document.querySelector('#df-e03e77f5-4ea5-450b-8a91-90fec9acaba2');\n",
              "          const dataTable =\n",
              "            await google.colab.kernel.invokeFunction('convertToInteractive',\n",
              "                                                     [key], {});\n",
              "          if (!dataTable) return;\n",
              "\n",
              "          const docLinkHtml = 'Like what you see? Visit the ' +\n",
              "            '<a target=\"_blank\" href=https://colab.research.google.com/notebooks/data_table.ipynb>data table notebook</a>'\n",
              "            + ' to learn more about interactive tables.';\n",
              "          element.innerHTML = '';\n",
              "          dataTable['output_type'] = 'display_data';\n",
              "          await google.colab.output.renderOutput(dataTable, element);\n",
              "          const docLink = document.createElement('div');\n",
              "          docLink.innerHTML = docLinkHtml;\n",
              "          element.appendChild(docLink);\n",
              "        }\n",
              "      </script>\n",
              "    </div>\n",
              "  </div>\n",
              "  "
            ]
          },
          "metadata": {},
          "execution_count": 13
        }
      ]
    },
    {
      "cell_type": "code",
      "source": [
        "# before sampling count\n",
        "print('Before sampling:', Counter(y_train))"
      ],
      "metadata": {
        "colab": {
          "base_uri": "https://localhost:8080/"
        },
        "id": "pRdUsROaVTp0",
        "outputId": "d7615bae-e1b8-4a38-9a04-0ab640209272"
      },
      "execution_count": 14,
      "outputs": [
        {
          "output_type": "stream",
          "name": "stdout",
          "text": [
            "Before sampling: Counter({0: 3367, 1: 533})\n"
          ]
        }
      ]
    },
    {
      "cell_type": "code",
      "source": [
        "# handling imbalance\n",
        "sampler = SMOTE()\n",
        "X_train, y_train = sampler.fit_resample(X_train, y_train) "
      ],
      "metadata": {
        "id": "_dP2VuWvVhn_"
      },
      "execution_count": 15,
      "outputs": []
    },
    {
      "cell_type": "code",
      "source": [
        "# after sampling count\n",
        "print('After sampling:', Counter(y_train))"
      ],
      "metadata": {
        "colab": {
          "base_uri": "https://localhost:8080/"
        },
        "id": "V97ft1KAVj5v",
        "outputId": "133bef82-1fa3-477e-acc7-b310185d7911"
      },
      "execution_count": 16,
      "outputs": [
        {
          "output_type": "stream",
          "name": "stdout",
          "text": [
            "After sampling: Counter({0: 3367, 1: 3367})\n"
          ]
        }
      ]
    },
    {
      "cell_type": "code",
      "source": [
        "# model training \n",
        "model = XGBClassifier(random_state=18)\n",
        "model.fit(X_train, y_train)"
      ],
      "metadata": {
        "colab": {
          "base_uri": "https://localhost:8080/",
          "height": 248
        },
        "id": "40oDV66QVmoW",
        "outputId": "5d48e33a-09be-455d-fda2-31937cd75a8c"
      },
      "execution_count": 17,
      "outputs": [
        {
          "output_type": "execute_result",
          "data": {
            "text/plain": [
              "XGBClassifier(base_score=None, booster=None, callbacks=None,\n",
              "              colsample_bylevel=None, colsample_bynode=None,\n",
              "              colsample_bytree=None, early_stopping_rounds=None,\n",
              "              enable_categorical=False, eval_metric=None, feature_types=None,\n",
              "              gamma=None, gpu_id=None, grow_policy=None, importance_type=None,\n",
              "              interaction_constraints=None, learning_rate=None, max_bin=None,\n",
              "              max_cat_threshold=None, max_cat_to_onehot=None,\n",
              "              max_delta_step=None, max_depth=None, max_leaves=None,\n",
              "              min_child_weight=None, missing=nan, monotone_constraints=None,\n",
              "              n_estimators=100, n_jobs=None, num_parallel_tree=None,\n",
              "              predictor=None, random_state=18, ...)"
            ],
            "text/html": [
              "<style>#sk-container-id-1 {color: black;background-color: white;}#sk-container-id-1 pre{padding: 0;}#sk-container-id-1 div.sk-toggleable {background-color: white;}#sk-container-id-1 label.sk-toggleable__label {cursor: pointer;display: block;width: 100%;margin-bottom: 0;padding: 0.3em;box-sizing: border-box;text-align: center;}#sk-container-id-1 label.sk-toggleable__label-arrow:before {content: \"▸\";float: left;margin-right: 0.25em;color: #696969;}#sk-container-id-1 label.sk-toggleable__label-arrow:hover:before {color: black;}#sk-container-id-1 div.sk-estimator:hover label.sk-toggleable__label-arrow:before {color: black;}#sk-container-id-1 div.sk-toggleable__content {max-height: 0;max-width: 0;overflow: hidden;text-align: left;background-color: #f0f8ff;}#sk-container-id-1 div.sk-toggleable__content pre {margin: 0.2em;color: black;border-radius: 0.25em;background-color: #f0f8ff;}#sk-container-id-1 input.sk-toggleable__control:checked~div.sk-toggleable__content {max-height: 200px;max-width: 100%;overflow: auto;}#sk-container-id-1 input.sk-toggleable__control:checked~label.sk-toggleable__label-arrow:before {content: \"▾\";}#sk-container-id-1 div.sk-estimator input.sk-toggleable__control:checked~label.sk-toggleable__label {background-color: #d4ebff;}#sk-container-id-1 div.sk-label input.sk-toggleable__control:checked~label.sk-toggleable__label {background-color: #d4ebff;}#sk-container-id-1 input.sk-hidden--visually {border: 0;clip: rect(1px 1px 1px 1px);clip: rect(1px, 1px, 1px, 1px);height: 1px;margin: -1px;overflow: hidden;padding: 0;position: absolute;width: 1px;}#sk-container-id-1 div.sk-estimator {font-family: monospace;background-color: #f0f8ff;border: 1px dotted black;border-radius: 0.25em;box-sizing: border-box;margin-bottom: 0.5em;}#sk-container-id-1 div.sk-estimator:hover {background-color: #d4ebff;}#sk-container-id-1 div.sk-parallel-item::after {content: \"\";width: 100%;border-bottom: 1px solid gray;flex-grow: 1;}#sk-container-id-1 div.sk-label:hover label.sk-toggleable__label {background-color: #d4ebff;}#sk-container-id-1 div.sk-serial::before {content: \"\";position: absolute;border-left: 1px solid gray;box-sizing: border-box;top: 0;bottom: 0;left: 50%;z-index: 0;}#sk-container-id-1 div.sk-serial {display: flex;flex-direction: column;align-items: center;background-color: white;padding-right: 0.2em;padding-left: 0.2em;position: relative;}#sk-container-id-1 div.sk-item {position: relative;z-index: 1;}#sk-container-id-1 div.sk-parallel {display: flex;align-items: stretch;justify-content: center;background-color: white;position: relative;}#sk-container-id-1 div.sk-item::before, #sk-container-id-1 div.sk-parallel-item::before {content: \"\";position: absolute;border-left: 1px solid gray;box-sizing: border-box;top: 0;bottom: 0;left: 50%;z-index: -1;}#sk-container-id-1 div.sk-parallel-item {display: flex;flex-direction: column;z-index: 1;position: relative;background-color: white;}#sk-container-id-1 div.sk-parallel-item:first-child::after {align-self: flex-end;width: 50%;}#sk-container-id-1 div.sk-parallel-item:last-child::after {align-self: flex-start;width: 50%;}#sk-container-id-1 div.sk-parallel-item:only-child::after {width: 0;}#sk-container-id-1 div.sk-dashed-wrapped {border: 1px dashed gray;margin: 0 0.4em 0.5em 0.4em;box-sizing: border-box;padding-bottom: 0.4em;background-color: white;}#sk-container-id-1 div.sk-label label {font-family: monospace;font-weight: bold;display: inline-block;line-height: 1.2em;}#sk-container-id-1 div.sk-label-container {text-align: center;}#sk-container-id-1 div.sk-container {/* jupyter's `normalize.less` sets `[hidden] { display: none; }` but bootstrap.min.css set `[hidden] { display: none !important; }` so we also need the `!important` here to be able to override the default hidden behavior on the sphinx rendered scikit-learn.org. See: https://github.com/scikit-learn/scikit-learn/issues/21755 */display: inline-block !important;position: relative;}#sk-container-id-1 div.sk-text-repr-fallback {display: none;}</style><div id=\"sk-container-id-1\" class=\"sk-top-container\"><div class=\"sk-text-repr-fallback\"><pre>XGBClassifier(base_score=None, booster=None, callbacks=None,\n",
              "              colsample_bylevel=None, colsample_bynode=None,\n",
              "              colsample_bytree=None, early_stopping_rounds=None,\n",
              "              enable_categorical=False, eval_metric=None, feature_types=None,\n",
              "              gamma=None, gpu_id=None, grow_policy=None, importance_type=None,\n",
              "              interaction_constraints=None, learning_rate=None, max_bin=None,\n",
              "              max_cat_threshold=None, max_cat_to_onehot=None,\n",
              "              max_delta_step=None, max_depth=None, max_leaves=None,\n",
              "              min_child_weight=None, missing=nan, monotone_constraints=None,\n",
              "              n_estimators=100, n_jobs=None, num_parallel_tree=None,\n",
              "              predictor=None, random_state=18, ...)</pre><b>In a Jupyter environment, please rerun this cell to show the HTML representation or trust the notebook. <br />On GitHub, the HTML representation is unable to render, please try loading this page with nbviewer.org.</b></div><div class=\"sk-container\" hidden><div class=\"sk-item\"><div class=\"sk-estimator sk-toggleable\"><input class=\"sk-toggleable__control sk-hidden--visually\" id=\"sk-estimator-id-1\" type=\"checkbox\" checked><label for=\"sk-estimator-id-1\" class=\"sk-toggleable__label sk-toggleable__label-arrow\">XGBClassifier</label><div class=\"sk-toggleable__content\"><pre>XGBClassifier(base_score=None, booster=None, callbacks=None,\n",
              "              colsample_bylevel=None, colsample_bynode=None,\n",
              "              colsample_bytree=None, early_stopping_rounds=None,\n",
              "              enable_categorical=False, eval_metric=None, feature_types=None,\n",
              "              gamma=None, gpu_id=None, grow_policy=None, importance_type=None,\n",
              "              interaction_constraints=None, learning_rate=None, max_bin=None,\n",
              "              max_cat_threshold=None, max_cat_to_onehot=None,\n",
              "              max_delta_step=None, max_depth=None, max_leaves=None,\n",
              "              min_child_weight=None, missing=nan, monotone_constraints=None,\n",
              "              n_estimators=100, n_jobs=None, num_parallel_tree=None,\n",
              "              predictor=None, random_state=18, ...)</pre></div></div></div></div></div>"
            ]
          },
          "metadata": {},
          "execution_count": 17
        }
      ]
    },
    {
      "cell_type": "code",
      "source": [
        "# checking accuracy\n",
        "print('Training Accuracy:', (accuracy_score(y_train, model.predict(X_train)) * 100).round(2))\n",
        "print('Testing Accuracy:', (accuracy_score(y_test, model.predict(X_test)) * 100).round(2))"
      ],
      "metadata": {
        "colab": {
          "base_uri": "https://localhost:8080/"
        },
        "id": "MsVCoKAPVp__",
        "outputId": "e68f8740-8904-44cb-a3de-f86fc9312741"
      },
      "execution_count": 18,
      "outputs": [
        {
          "output_type": "stream",
          "name": "stdout",
          "text": [
            "Training Accuracy: 99.64\n",
            "Testing Accuracy: 97.19\n"
          ]
        }
      ]
    },
    {
      "cell_type": "code",
      "source": [
        "# cross validation\n",
        "score = cross_val_score(model, X_train, y_train)\n",
        "print('CV score:', (np.mean(score) * 100).round(2))"
      ],
      "metadata": {
        "colab": {
          "base_uri": "https://localhost:8080/"
        },
        "id": "yfaVzK6PVt0a",
        "outputId": "b65000b0-19ef-4a94-8b93-43b0e5ce9144"
      },
      "execution_count": 19,
      "outputs": [
        {
          "output_type": "stream",
          "name": "stdout",
          "text": [
            "CV score: 98.11\n"
          ]
        }
      ]
    },
    {
      "cell_type": "code",
      "source": [
        "# confusion matrix\n",
        "confusion_matrix(y_test, model.predict(X_test))"
      ],
      "metadata": {
        "colab": {
          "base_uri": "https://localhost:8080/"
        },
        "id": "GRfInJw2Vw7w",
        "outputId": "5ebc5dbd-da03-4917-a337-39a3a4edc98c"
      },
      "execution_count": 20,
      "outputs": [
        {
          "output_type": "execute_result",
          "data": {
            "text/plain": [
              "array([[1444,   14],\n",
              "       [  33,  181]])"
            ]
          },
          "metadata": {},
          "execution_count": 20
        }
      ]
    },
    {
      "cell_type": "code",
      "source": [
        "# clf report\n",
        "print(classification_report(y_test, model.predict(X_test)))"
      ],
      "metadata": {
        "colab": {
          "base_uri": "https://localhost:8080/"
        },
        "id": "EWVPUiSQV2HO",
        "outputId": "85ddf35d-1bf4-4979-e84f-e1de4f2e426b"
      },
      "execution_count": 21,
      "outputs": [
        {
          "output_type": "stream",
          "name": "stdout",
          "text": [
            "              precision    recall  f1-score   support\n",
            "\n",
            "           0       0.98      0.99      0.98      1458\n",
            "           1       0.93      0.85      0.89       214\n",
            "\n",
            "    accuracy                           0.97      1672\n",
            "   macro avg       0.95      0.92      0.93      1672\n",
            "weighted avg       0.97      0.97      0.97      1672\n",
            "\n"
          ]
        }
      ]
    }
  ]
}