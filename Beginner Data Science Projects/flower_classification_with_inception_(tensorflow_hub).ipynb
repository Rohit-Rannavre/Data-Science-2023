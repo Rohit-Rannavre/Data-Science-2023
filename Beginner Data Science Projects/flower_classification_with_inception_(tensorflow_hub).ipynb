{
  "nbformat": 4,
  "nbformat_minor": 0,
  "metadata": {
    "colab": {
      "provenance": []
    },
    "kernelspec": {
      "name": "python3",
      "display_name": "Python 3"
    },
    "language_info": {
      "name": "python"
    },
    "gpuClass": "standard",
    "accelerator": "GPU"
  },
  "cells": [
    {
      "cell_type": "code",
      "execution_count": 1,
      "metadata": {
        "id": "8xmW632U_KW3"
      },
      "outputs": [],
      "source": [
        "# imports\n",
        "import numpy as np\n",
        "np.random.seed(42)\n",
        "from tensorflow.keras.utils import set_random_seed\n",
        "set_random_seed(42)\n",
        "import pandas as pd\n",
        "import matplotlib.pyplot as plt\n",
        "import tensorflow as tf\n",
        "from tensorflow.keras.utils import image_dataset_from_directory\n",
        "from tensorflow.keras import Sequential\n",
        "from tensorflow.keras.layers import Rescaling, Flatten, Dense, BatchNormalization, Dropout\n",
        "from tensorflow.keras.optimizers import Adam\n",
        "import tensorflow_hub as hub"
      ]
    },
    {
      "cell_type": "code",
      "source": [
        "# downloading the data\n",
        "data_dir = tf.keras.utils.get_file(\n",
        "    fname='flower_photos',\n",
        "    origin=\"http://download.tensorflow.org/example_images/flower_photos.tgz\",\n",
        "    untar=True)"
      ],
      "metadata": {
        "id": "oY83KtAR_1mN"
      },
      "execution_count": 2,
      "outputs": []
    },
    {
      "cell_type": "code",
      "source": [
        "# preparing the data\n",
        "train_ds, val_ds = image_dataset_from_directory(\n",
        "    directory=data_dir,\n",
        "    labels='inferred',\n",
        "    label_mode='categorical',\n",
        "    image_size=(224, 224),\n",
        "    subset='both',\n",
        "    validation_split=.25,\n",
        "    seed=18)"
      ],
      "metadata": {
        "colab": {
          "base_uri": "https://localhost:8080/"
        },
        "id": "FuaVzi8v_7KE",
        "outputId": "5fcb3e1f-7fd7-47de-f78c-f96740422c66"
      },
      "execution_count": 3,
      "outputs": [
        {
          "output_type": "stream",
          "name": "stdout",
          "text": [
            "Found 3670 files belonging to 5 classes.\n",
            "Using 2753 files for training.\n",
            "Using 917 files for validation.\n"
          ]
        }
      ]
    },
    {
      "cell_type": "code",
      "source": [
        "# printing class names in dataset\n",
        "print(train_ds.class_names)"
      ],
      "metadata": {
        "colab": {
          "base_uri": "https://localhost:8080/"
        },
        "id": "zoAuZUswAAbI",
        "outputId": "95dfc1d0-6bf4-4bd4-9e46-78a5d95b138d"
      },
      "execution_count": 4,
      "outputs": [
        {
          "output_type": "stream",
          "name": "stdout",
          "text": [
            "['daisy', 'dandelion', 'roses', 'sunflowers', 'tulips']\n"
          ]
        }
      ]
    },
    {
      "cell_type": "code",
      "source": [
        "# defining model architecture\n",
        "model = Sequential([\n",
        "    Rescaling(scale= 1.0 / 224.0, input_shape=(224, 224, 3)),\n",
        "    hub.KerasLayer(handle='https://tfhub.dev/google/tf2-preview/inception_v3/feature_vector/4', trainable=False, name='Inception'),\n",
        "    Dense(40, activation='relu', kernel_initializer='he_uniform'),\n",
        "    BatchNormalization(),\n",
        "    Dropout(rate=.5),\n",
        "    Dense(20, activation='relu', kernel_initializer='he_uniform'),\n",
        "    Dense(5, activation='softmax')\n",
        "])"
      ],
      "metadata": {
        "colab": {
          "base_uri": "https://localhost:8080/"
        },
        "id": "9XkPvAynDbXs",
        "outputId": "2ea3a39e-7c3a-4259-f5b7-a70223d1ec2e"
      },
      "execution_count": 5,
      "outputs": [
        {
          "output_type": "stream",
          "name": "stderr",
          "text": [
            "WARNING:tensorflow:From /usr/local/lib/python3.9/dist-packages/tensorflow/python/autograph/pyct/static_analysis/liveness.py:83: Analyzer.lamba_check (from tensorflow.python.autograph.pyct.static_analysis.liveness) is deprecated and will be removed after 2023-09-23.\n",
            "Instructions for updating:\n",
            "Lambda fuctions will be no more assumed to be used in the statement where they are used, or at least in the same block. https://github.com/tensorflow/tensorflow/issues/56089\n"
          ]
        }
      ]
    },
    {
      "cell_type": "code",
      "source": [
        "# getting a model summary\n",
        "model.summary()"
      ],
      "metadata": {
        "colab": {
          "base_uri": "https://localhost:8080/"
        },
        "id": "tDrQqzgwFYwZ",
        "outputId": "dd94dd83-d3d2-469b-c668-6513ead7f2c2"
      },
      "execution_count": 6,
      "outputs": [
        {
          "output_type": "stream",
          "name": "stdout",
          "text": [
            "Model: \"sequential\"\n",
            "_________________________________________________________________\n",
            " Layer (type)                Output Shape              Param #   \n",
            "=================================================================\n",
            " rescaling (Rescaling)       (None, 224, 224, 3)       0         \n",
            "                                                                 \n",
            " Inception (KerasLayer)      (None, 2048)              21802784  \n",
            "                                                                 \n",
            " dense (Dense)               (None, 40)                81960     \n",
            "                                                                 \n",
            " batch_normalization (BatchN  (None, 40)               160       \n",
            " ormalization)                                                   \n",
            "                                                                 \n",
            " dropout (Dropout)           (None, 40)                0         \n",
            "                                                                 \n",
            " dense_1 (Dense)             (None, 20)                820       \n",
            "                                                                 \n",
            " dense_2 (Dense)             (None, 5)                 105       \n",
            "                                                                 \n",
            "=================================================================\n",
            "Total params: 21,885,829\n",
            "Trainable params: 82,965\n",
            "Non-trainable params: 21,802,864\n",
            "_________________________________________________________________\n"
          ]
        }
      ]
    },
    {
      "cell_type": "code",
      "source": [
        "# model compilation\n",
        "model.compile(optimizer=Adam(), loss='categorical_crossentropy', metrics=['accuracy'])"
      ],
      "metadata": {
        "id": "QMXFg7GaFuHz"
      },
      "execution_count": 7,
      "outputs": []
    },
    {
      "cell_type": "code",
      "source": [
        "# model training\n",
        "history = model.fit(train_ds, epochs=5, batch_size=32, validation_data=val_ds, verbose=1)"
      ],
      "metadata": {
        "colab": {
          "base_uri": "https://localhost:8080/"
        },
        "id": "q5anrmgpHPcc",
        "outputId": "e1bc50cc-8eee-4139-e7b6-caf360d11f58"
      },
      "execution_count": 8,
      "outputs": [
        {
          "output_type": "stream",
          "name": "stdout",
          "text": [
            "Epoch 1/5\n",
            "87/87 [==============================] - 28s 137ms/step - loss: 1.0789 - accuracy: 0.5950 - val_loss: 0.6303 - val_accuracy: 0.7808\n",
            "Epoch 2/5\n",
            "87/87 [==============================] - 12s 135ms/step - loss: 0.6310 - accuracy: 0.7904 - val_loss: 0.4532 - val_accuracy: 0.8451\n",
            "Epoch 3/5\n",
            "87/87 [==============================] - 10s 100ms/step - loss: 0.4966 - accuracy: 0.8304 - val_loss: 0.4006 - val_accuracy: 0.8561\n",
            "Epoch 4/5\n",
            "87/87 [==============================] - 10s 110ms/step - loss: 0.4329 - accuracy: 0.8463 - val_loss: 0.3633 - val_accuracy: 0.8691\n",
            "Epoch 5/5\n",
            "87/87 [==============================] - 10s 109ms/step - loss: 0.3917 - accuracy: 0.8663 - val_loss: 0.3404 - val_accuracy: 0.8746\n"
          ]
        }
      ]
    },
    {
      "cell_type": "code",
      "source": [
        "# model evaluation\n",
        "score = model.evaluate(val_ds, verbose=0)\n",
        "print('Accuracy:', round(score[1] * 100, 2))"
      ],
      "metadata": {
        "colab": {
          "base_uri": "https://localhost:8080/"
        },
        "id": "1uRefxhiHS4n",
        "outputId": "e28326e9-cfa0-4294-e5bd-a6b190104dd0"
      },
      "execution_count": 9,
      "outputs": [
        {
          "output_type": "stream",
          "name": "stdout",
          "text": [
            "Accuracy: 87.46\n"
          ]
        }
      ]
    },
    {
      "cell_type": "code",
      "source": [
        "# model evaluation\n",
        "pd.DataFrame(history.history).plot(figsize=(8,5))\n",
        "plt.xlabel('Epoch', family='serif', size=12)\n",
        "plt.ylabel('Loss / Accuracy', family='serif', size=12)\n",
        "plt.xticks(family='serif')\n",
        "plt.yticks(family='serif')\n",
        "plt.title('Model Evaluation', family='serif', size=15);"
      ],
      "metadata": {
        "colab": {
          "base_uri": "https://localhost:8080/",
          "height": 353
        },
        "id": "m3D_BRspq7Tx",
        "outputId": "d2b9474c-df55-4f37-a1e9-3169e46a797a"
      },
      "execution_count": 10,
      "outputs": [
        {
          "output_type": "display_data",
          "data": {
            "text/plain": [
              "<Figure size 576x360 with 1 Axes>"
            ],
            "image/png": "[encoded data removed]"
          },
          "metadata": {
            "needs_background": "light"
          }
        }
      ]
    }
  ]
}