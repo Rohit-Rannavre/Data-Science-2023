{
  "nbformat": 4,
  "nbformat_minor": 0,
  "metadata": {
    "colab": {
      "provenance": []
    },
    "kernelspec": {
      "name": "python3",
      "display_name": "Python 3"
    },
    "language_info": {
      "name": "python"
    },
    "accelerator": "GPU",
    "gpuClass": "standard"
  },
  "cells": [
    {
      "cell_type": "code",
      "execution_count": 1,
      "metadata": {
        "id": "_eHc8BRdKnJg",
        "colab": {
          "base_uri": "https://localhost:8080/"
        },
        "outputId": "2f330381-c608-41c4-dd8a-d97f9e1f4294"
      },
      "outputs": [
        {
          "output_type": "stream",
          "name": "stdout",
          "text": [
            "\u001b[2K     \u001b[90m━━━━━━━━━━━━━━━━━━━━━━━━━━━━━━━━━━━━━━━\u001b[0m \u001b[32m167.3/167.3 KB\u001b[0m \u001b[31m2.3 MB/s\u001b[0m eta \u001b[36m0:00:00\u001b[0m\n",
            "\u001b[2K     \u001b[90m━━━━━━━━━━━━━━━━━━━━━━━━━━━━━━━━━━━━━━━━\u001b[0m \u001b[32m1.6/1.6 MB\u001b[0m \u001b[31m24.0 MB/s\u001b[0m eta \u001b[36m0:00:00\u001b[0m\n",
            "\u001b[?25h"
          ]
        }
      ],
      "source": [
        "# installing keras tuner\n",
        "!pip install -q -U keras-tuner"
      ]
    },
    {
      "cell_type": "code",
      "source": [
        "# imports\n",
        "import tensorflow as tf\n",
        "from tensorflow.keras.utils import set_random_seed\n",
        "set_random_seed(42)\n",
        "import keras_tuner as kt\n",
        "import matplotlib.pyplot as plt"
      ],
      "metadata": {
        "id": "KXQJ0iFTKse1"
      },
      "execution_count": 2,
      "outputs": []
    },
    {
      "cell_type": "code",
      "source": [
        "# loading the mnist dataset\n",
        "(X_train, y_train), (X_test, y_test) = tf.keras.datasets.mnist.load_data()"
      ],
      "metadata": {
        "id": "Zp8fY8keLDgU",
        "colab": {
          "base_uri": "https://localhost:8080/"
        },
        "outputId": "380e18ad-51a8-4194-e66c-4d94917744ed"
      },
      "execution_count": 3,
      "outputs": [
        {
          "output_type": "stream",
          "name": "stdout",
          "text": [
            "Downloading data from https://storage.googleapis.com/tensorflow/tf-keras-datasets/mnist.npz\n",
            "11490434/11490434 [==============================] - 0s 0us/step\n"
          ]
        }
      ]
    },
    {
      "cell_type": "code",
      "source": [
        "# checking the shapes\n",
        "(X_train.shape, y_train.shape), (X_test.shape, y_test.shape)"
      ],
      "metadata": {
        "colab": {
          "base_uri": "https://localhost:8080/"
        },
        "id": "uxLK9sPtLWkm",
        "outputId": "33ac760b-d1b0-40f5-967b-ed2257747338"
      },
      "execution_count": 4,
      "outputs": [
        {
          "output_type": "execute_result",
          "data": {
            "text/plain": [
              "(((60000, 28, 28), (60000,)), ((10000, 28, 28), (10000,)))"
            ]
          },
          "metadata": {},
          "execution_count": 4
        }
      ]
    },
    {
      "cell_type": "code",
      "source": [
        "# normalizing the pixel values in range of 0 to 1\n",
        "X_train = X_train / 255.0\n",
        "X_test = X_test / 255.0"
      ],
      "metadata": {
        "id": "bv1RcIJhLeeN"
      },
      "execution_count": 5,
      "outputs": []
    },
    {
      "cell_type": "code",
      "source": [
        "# checking the changes\n",
        "X_train.min(), X_train.max()"
      ],
      "metadata": {
        "colab": {
          "base_uri": "https://localhost:8080/"
        },
        "id": "jfuf3oQSL66O",
        "outputId": "5ca64fb1-44c4-4038-a97d-970d3924a2a4"
      },
      "execution_count": 6,
      "outputs": [
        {
          "output_type": "execute_result",
          "data": {
            "text/plain": [
              "(0.0, 1.0)"
            ]
          },
          "metadata": {},
          "execution_count": 6
        }
      ]
    },
    {
      "cell_type": "code",
      "source": [
        "# defining the search space\n",
        "\n",
        "def model_builder(hp):\n",
        "\n",
        "  model = tf.keras.Sequential()\n",
        "\n",
        "  # flatten layer\n",
        "  model.add(tf.keras.layers.Flatten(input_shape=(28,28)))\n",
        "  \n",
        "  # hidden layers\n",
        "  for i in range(hp.Int('hidden_layers', min_value=2, max_value=4)):\n",
        "    model.add(tf.keras.layers.Dense(\n",
        "        units=hp.Int('units' + str(i), min_value=40, max_value=80, step=10),\n",
        "        activation=hp.Choice('activation' + str(i), values=['relu', 'tanh', 'sigmoid'])\n",
        "    ))\n",
        "  \n",
        "  # output layer\n",
        "  model.add(tf.keras.layers.Dense(units=10, activation='softmax'))\n",
        "\n",
        "  # compilation\n",
        "  model.compile(optimizer=hp.Choice('optimizer', values=['adam', 'rmsprop']),\n",
        "                loss='sparse_categorical_crossentropy', metrics=['accuracy'])\n",
        "  \n",
        "  # get the model\n",
        "  return model"
      ],
      "metadata": {
        "id": "K112lvmEMC42"
      },
      "execution_count": 7,
      "outputs": []
    },
    {
      "cell_type": "code",
      "source": [
        "# creating a tuner object\n",
        "tuner = kt.RandomSearch(hypermodel=model_builder, objective='val_accuracy', \n",
        "                        max_trials=4, directory='mydir', project_name='diabetes', seed=18)"
      ],
      "metadata": {
        "id": "7wyXOpCQOqcA"
      },
      "execution_count": 8,
      "outputs": []
    },
    {
      "cell_type": "code",
      "source": [
        "# getting the hps summary\n",
        "tuner.search_space_summary()"
      ],
      "metadata": {
        "colab": {
          "base_uri": "https://localhost:8080/"
        },
        "id": "xSMhhQD7OwDU",
        "outputId": "d231ea33-4adb-4064-cf9e-4086e8d8c191"
      },
      "execution_count": 9,
      "outputs": [
        {
          "output_type": "stream",
          "name": "stdout",
          "text": [
            "Search space summary\n",
            "Default search space size: 6\n",
            "hidden_layers (Int)\n",
            "{'default': None, 'conditions': [], 'min_value': 2, 'max_value': 4, 'step': 1, 'sampling': 'linear'}\n",
            "units0 (Int)\n",
            "{'default': None, 'conditions': [], 'min_value': 40, 'max_value': 80, 'step': 10, 'sampling': 'linear'}\n",
            "activation0 (Choice)\n",
            "{'default': 'relu', 'conditions': [], 'values': ['relu', 'tanh', 'sigmoid'], 'ordered': False}\n",
            "units1 (Int)\n",
            "{'default': None, 'conditions': [], 'min_value': 40, 'max_value': 80, 'step': 10, 'sampling': 'linear'}\n",
            "activation1 (Choice)\n",
            "{'default': 'relu', 'conditions': [], 'values': ['relu', 'tanh', 'sigmoid'], 'ordered': False}\n",
            "optimizer (Choice)\n",
            "{'default': 'adam', 'conditions': [], 'values': ['adam', 'rmsprop'], 'ordered': False}\n"
          ]
        }
      ]
    },
    {
      "cell_type": "code",
      "source": [
        "# searching for the best hyperparameters\n",
        "tuner.search(X_train, y_train, validation_data=(X_test, y_test), epochs=5, verbose=0)"
      ],
      "metadata": {
        "id": "ht4ZNQUMPQLX"
      },
      "execution_count": 10,
      "outputs": []
    },
    {
      "cell_type": "code",
      "source": [
        "# checking the results \n",
        "tuner.results_summary(num_trials=1)"
      ],
      "metadata": {
        "colab": {
          "base_uri": "https://localhost:8080/"
        },
        "id": "cuT_M5LIQD-R",
        "outputId": "d6eb9832-ce22-40f7-be20-4023bbc1026f"
      },
      "execution_count": 11,
      "outputs": [
        {
          "output_type": "stream",
          "name": "stdout",
          "text": [
            "Results summary\n",
            "Results in mydir/diabetes\n",
            "Showing 1 best trials\n",
            "<keras_tuner.engine.objective.Objective object at 0x7fe1d2d89370>\n",
            "Trial summary\n",
            "Hyperparameters:\n",
            "hidden_layers: 3\n",
            "units0: 50\n",
            "activation0: tanh\n",
            "units1: 40\n",
            "activation1: tanh\n",
            "optimizer: adam\n",
            "units2: 80\n",
            "activation2: tanh\n",
            "units3: 60\n",
            "activation3: relu\n",
            "Score: 0.9670000076293945\n"
          ]
        }
      ]
    },
    {
      "cell_type": "code",
      "source": [
        "# fetching the best hyperparameters\n",
        "best_hps = tuner.get_best_hyperparameters()[0]\n",
        "model = tuner.hypermodel.build(best_hps)"
      ],
      "metadata": {
        "id": "58e-Tj5VQdQW"
      },
      "execution_count": 12,
      "outputs": []
    },
    {
      "cell_type": "code",
      "source": [
        "# getting the model summary\n",
        "model.summary()"
      ],
      "metadata": {
        "colab": {
          "base_uri": "https://localhost:8080/"
        },
        "id": "2xhEMK60Rh3R",
        "outputId": "4c340711-0126-41c7-a491-e647ea0028d3"
      },
      "execution_count": 13,
      "outputs": [
        {
          "output_type": "stream",
          "name": "stdout",
          "text": [
            "Model: \"sequential_1\"\n",
            "_________________________________________________________________\n",
            " Layer (type)                Output Shape              Param #   \n",
            "=================================================================\n",
            " flatten_1 (Flatten)         (None, 784)               0         \n",
            "                                                                 \n",
            " dense_4 (Dense)             (None, 50)                39250     \n",
            "                                                                 \n",
            " dense_5 (Dense)             (None, 40)                2040      \n",
            "                                                                 \n",
            " dense_6 (Dense)             (None, 80)                3280      \n",
            "                                                                 \n",
            " dense_7 (Dense)             (None, 10)                810       \n",
            "                                                                 \n",
            "=================================================================\n",
            "Total params: 45,380\n",
            "Trainable params: 45,380\n",
            "Non-trainable params: 0\n",
            "_________________________________________________________________\n"
          ]
        }
      ]
    },
    {
      "cell_type": "code",
      "source": [
        "# model training with the best hyperparameters\n",
        "history = model.fit(X_train, y_train, epochs=40, initial_epoch=6, validation_data=(X_test, y_test), verbose=0)"
      ],
      "metadata": {
        "id": "vP9rdzpiRlqb"
      },
      "execution_count": 14,
      "outputs": []
    },
    {
      "cell_type": "code",
      "source": [
        "# checking the model performance\n",
        "_, train_accuracy = model.evaluate(X_train, y_train, verbose=0)\n",
        "_, test_accuracy = model.evaluate(X_test, y_test, verbose=0)\n",
        "print('Training: {}, Testing: {}'.format(round(train_accuracy * 100, 2), round(test_accuracy * 100, 2)))"
      ],
      "metadata": {
        "colab": {
          "base_uri": "https://localhost:8080/"
        },
        "id": "8CPKeOL6R1C9",
        "outputId": "f5357345-87b2-4321-9e5e-4aac70aba97f"
      },
      "execution_count": 15,
      "outputs": [
        {
          "output_type": "stream",
          "name": "stdout",
          "text": [
            "Training: 99.79, Testing: 97.06\n"
          ]
        }
      ]
    },
    {
      "cell_type": "code",
      "source": [
        "# plotting the accuracy\n",
        "plt.plot(history.history['accuracy'], label='Training')\n",
        "plt.plot(history.history['val_accuracy'], label='Testing')\n",
        "plt.title('Accuracy Comparison', size=14)\n",
        "plt.legend();"
      ],
      "metadata": {
        "colab": {
          "base_uri": "https://localhost:8080/",
          "height": 282
        },
        "id": "YwuIGWtRR3pP",
        "outputId": "c39bfa10-f331-47f7-9292-e203981a5f97"
      },
      "execution_count": 16,
      "outputs": [
        {
          "output_type": "display_data",
          "data": {
            "text/plain": [
              "<Figure size 432x288 with 1 Axes>"
            ],
            "image/png": "[encoded data removed]"
          },
          "metadata": {
            "needs_background": "light"
          }
        }
      ]
    },
    {
      "cell_type": "code",
      "source": [
        "# plotting the loss\n",
        "plt.plot(history.history['loss'], label='Training')\n",
        "plt.plot(history.history['val_loss'], label='Testing')\n",
        "plt.title('Loss Comparison', size=14)\n",
        "plt.legend();"
      ],
      "metadata": {
        "colab": {
          "base_uri": "https://localhost:8080/",
          "height": 282
        },
        "id": "IFfnUs0PSKwJ",
        "outputId": "7d0b9e61-9ddd-4722-a84d-319840e67bc8"
      },
      "execution_count": 17,
      "outputs": [
        {
          "output_type": "display_data",
          "data": {
            "text/plain": [
              "<Figure size 432x288 with 1 Axes>"
            ],
            "image/png": "[encoded data removed]"
          },
          "metadata": {
            "needs_background": "light"
          }
        }
      ]
    }
  ]
}