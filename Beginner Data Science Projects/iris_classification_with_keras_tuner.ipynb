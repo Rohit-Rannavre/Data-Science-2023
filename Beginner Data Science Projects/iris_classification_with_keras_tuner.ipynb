{
  "nbformat": 4,
  "nbformat_minor": 0,
  "metadata": {
    "colab": {
      "provenance": []
    },
    "kernelspec": {
      "name": "python3",
      "display_name": "Python 3"
    },
    "language_info": {
      "name": "python"
    }
  },
  "cells": [
    {
      "cell_type": "code",
      "source": [
        "# downloading keras tuner\n",
        "!pip install -q keras-tuner"
      ],
      "metadata": {
        "id": "KTCzVNzlMXdd"
      },
      "execution_count": 1,
      "outputs": []
    },
    {
      "cell_type": "code",
      "execution_count": 2,
      "metadata": {
        "id": "5h9DpVKELTVv"
      },
      "outputs": [],
      "source": [
        "# standard imports\n",
        "import numpy as np\n",
        "import pandas as pd\n",
        "import seaborn as sns\n",
        "import matplotlib.pyplot as plt\n",
        "from keras.utils import to_categorical\n",
        "from sklearn.model_selection import train_test_split\n",
        "from sklearn.preprocessing import StandardScaler\n",
        "import keras_tuner as kt\n",
        "from keras.models import Sequential\n",
        "from keras.layers import Dense, Dropout\n",
        "from keras.optimizers import Adam\n",
        "from keras.callbacks import EarlyStopping\n",
        "from sklearn.metrics import confusion_matrix, ConfusionMatrixDisplay, classification_report"
      ]
    },
    {
      "cell_type": "code",
      "source": [
        "# general settings\n",
        "from numpy.random import seed\n",
        "seed(42)\n",
        "from keras.utils import set_random_seed\n",
        "set_random_seed(42)\n",
        "import warnings\n",
        "warnings.filterwarnings('ignore')"
      ],
      "metadata": {
        "id": "1PHctT-_MMwl"
      },
      "execution_count": 3,
      "outputs": []
    },
    {
      "cell_type": "code",
      "source": [
        "# loading data\n",
        "df = sns.load_dataset('iris')\n",
        "df.head()"
      ],
      "metadata": {
        "colab": {
          "base_uri": "https://localhost:8080/",
          "height": 206
        },
        "id": "tmmV8saPMqkr",
        "outputId": "840d14a1-bae6-467e-a1c8-89644b41eb50"
      },
      "execution_count": 4,
      "outputs": [
        {
          "output_type": "execute_result",
          "data": {
            "text/plain": [
              "   sepal_length  sepal_width  petal_length  petal_width species\n",
              "0           5.1          3.5           1.4          0.2  setosa\n",
              "1           4.9          3.0           1.4          0.2  setosa\n",
              "2           4.7          3.2           1.3          0.2  setosa\n",
              "3           4.6          3.1           1.5          0.2  setosa\n",
              "4           5.0          3.6           1.4          0.2  setosa"
            ],
            "text/html": [
              "\n",
              "  <div id=\"df-7c2f3ddb-61f7-4812-858e-00753c53f7d0\" class=\"colab-df-container\">\n",
              "    <div>\n",
              "<style scoped>\n",
              "    .dataframe tbody tr th:only-of-type {\n",
              "        vertical-align: middle;\n",
              "    }\n",
              "\n",
              "    .dataframe tbody tr th {\n",
              "        vertical-align: top;\n",
              "    }\n",
              "\n",
              "    .dataframe thead th {\n",
              "        text-align: right;\n",
              "    }\n",
              "</style>\n",
              "<table border=\"1\" class=\"dataframe\">\n",
              "  <thead>\n",
              "    <tr style=\"text-align: right;\">\n",
              "      <th></th>\n",
              "      <th>sepal_length</th>\n",
              "      <th>sepal_width</th>\n",
              "      <th>petal_length</th>\n",
              "      <th>petal_width</th>\n",
              "      <th>species</th>\n",
              "    </tr>\n",
              "  </thead>\n",
              "  <tbody>\n",
              "    <tr>\n",
              "      <th>0</th>\n",
              "      <td>5.1</td>\n",
              "      <td>3.5</td>\n",
              "      <td>1.4</td>\n",
              "      <td>0.2</td>\n",
              "      <td>setosa</td>\n",
              "    </tr>\n",
              "    <tr>\n",
              "      <th>1</th>\n",
              "      <td>4.9</td>\n",
              "      <td>3.0</td>\n",
              "      <td>1.4</td>\n",
              "      <td>0.2</td>\n",
              "      <td>setosa</td>\n",
              "    </tr>\n",
              "    <tr>\n",
              "      <th>2</th>\n",
              "      <td>4.7</td>\n",
              "      <td>3.2</td>\n",
              "      <td>1.3</td>\n",
              "      <td>0.2</td>\n",
              "      <td>setosa</td>\n",
              "    </tr>\n",
              "    <tr>\n",
              "      <th>3</th>\n",
              "      <td>4.6</td>\n",
              "      <td>3.1</td>\n",
              "      <td>1.5</td>\n",
              "      <td>0.2</td>\n",
              "      <td>setosa</td>\n",
              "    </tr>\n",
              "    <tr>\n",
              "      <th>4</th>\n",
              "      <td>5.0</td>\n",
              "      <td>3.6</td>\n",
              "      <td>1.4</td>\n",
              "      <td>0.2</td>\n",
              "      <td>setosa</td>\n",
              "    </tr>\n",
              "  </tbody>\n",
              "</table>\n",
              "</div>\n",
              "    <div class=\"colab-df-buttons\">\n",
              "\n",
              "  <div class=\"colab-df-container\">\n",
              "    <button class=\"colab-df-convert\" onclick=\"convertToInteractive('df-7c2f3ddb-61f7-4812-858e-00753c53f7d0')\"\n",
              "            title=\"Convert this dataframe to an interactive table.\"\n",
              "            style=\"display:none;\">\n",
              "\n",
              "  <svg xmlns=\"http://www.w3.org/2000/svg\" height=\"24px\" viewBox=\"0 -960 960 960\">\n",
              "    <path d=\"M120-120v-720h720v720H120Zm60-500h600v-160H180v160Zm220 220h160v-160H400v160Zm0 220h160v-160H400v160ZM180-400h160v-160H180v160Zm440 0h160v-160H620v160ZM180-180h160v-160H180v160Zm440 0h160v-160H620v160Z\"/>\n",
              "  </svg>\n",
              "    </button>\n",
              "\n",
              "  <style>\n",
              "    .colab-df-container {\n",
              "      display:flex;\n",
              "      gap: 12px;\n",
              "    }\n",
              "\n",
              "    .colab-df-convert {\n",
              "      background-color: #E8F0FE;\n",
              "      border: none;\n",
              "      border-radius: 50%;\n",
              "      cursor: pointer;\n",
              "      display: none;\n",
              "      fill: #1967D2;\n",
              "      height: 32px;\n",
              "      padding: 0 0 0 0;\n",
              "      width: 32px;\n",
              "    }\n",
              "\n",
              "    .colab-df-convert:hover {\n",
              "      background-color: #E2EBFA;\n",
              "      box-shadow: 0px 1px 2px rgba(60, 64, 67, 0.3), 0px 1px 3px 1px rgba(60, 64, 67, 0.15);\n",
              "      fill: #174EA6;\n",
              "    }\n",
              "\n",
              "    .colab-df-buttons div {\n",
              "      margin-bottom: 4px;\n",
              "    }\n",
              "\n",
              "    [theme=dark] .colab-df-convert {\n",
              "      background-color: #3B4455;\n",
              "      fill: #D2E3FC;\n",
              "    }\n",
              "\n",
              "    [theme=dark] .colab-df-convert:hover {\n",
              "      background-color: #434B5C;\n",
              "      box-shadow: 0px 1px 3px 1px rgba(0, 0, 0, 0.15);\n",
              "      filter: drop-shadow(0px 1px 2px rgba(0, 0, 0, 0.3));\n",
              "      fill: #FFFFFF;\n",
              "    }\n",
              "  </style>\n",
              "\n",
              "    <script>\n",
              "      const buttonEl =\n",
              "        document.querySelector('#df-7c2f3ddb-61f7-4812-858e-00753c53f7d0 button.colab-df-convert');\n",
              "      buttonEl.style.display =\n",
              "        google.colab.kernel.accessAllowed ? 'block' : 'none';\n",
              "\n",
              "      async function convertToInteractive(key) {\n",
              "        const element = document.querySelector('#df-7c2f3ddb-61f7-4812-858e-00753c53f7d0');\n",
              "        const dataTable =\n",
              "          await google.colab.kernel.invokeFunction('convertToInteractive',\n",
              "                                                    [key], {});\n",
              "        if (!dataTable) return;\n",
              "\n",
              "        const docLinkHtml = 'Like what you see? Visit the ' +\n",
              "          '<a target=\"_blank\" href=https://colab.research.google.com/notebooks/data_table.ipynb>data table notebook</a>'\n",
              "          + ' to learn more about interactive tables.';\n",
              "        element.innerHTML = '';\n",
              "        dataTable['output_type'] = 'display_data';\n",
              "        await google.colab.output.renderOutput(dataTable, element);\n",
              "        const docLink = document.createElement('div');\n",
              "        docLink.innerHTML = docLinkHtml;\n",
              "        element.appendChild(docLink);\n",
              "      }\n",
              "    </script>\n",
              "  </div>\n",
              "\n",
              "\n",
              "<div id=\"df-f6bff45e-7ebf-4591-b9eb-e1b05327c54e\">\n",
              "  <button class=\"colab-df-quickchart\" onclick=\"quickchart('df-f6bff45e-7ebf-4591-b9eb-e1b05327c54e')\"\n",
              "            title=\"Suggest charts.\"\n",
              "            style=\"display:none;\">\n",
              "\n",
              "<svg xmlns=\"http://www.w3.org/2000/svg\" height=\"24px\"viewBox=\"0 0 24 24\"\n",
              "     width=\"24px\">\n",
              "    <g>\n",
              "        <path d=\"M19 3H5c-1.1 0-2 .9-2 2v14c0 1.1.9 2 2 2h14c1.1 0 2-.9 2-2V5c0-1.1-.9-2-2-2zM9 17H7v-7h2v7zm4 0h-2V7h2v10zm4 0h-2v-4h2v4z\"/>\n",
              "    </g>\n",
              "</svg>\n",
              "  </button>\n",
              "\n",
              "<style>\n",
              "  .colab-df-quickchart {\n",
              "    background-color: #E8F0FE;\n",
              "    border: none;\n",
              "    border-radius: 50%;\n",
              "    cursor: pointer;\n",
              "    display: none;\n",
              "    fill: #1967D2;\n",
              "    height: 32px;\n",
              "    padding: 0 0 0 0;\n",
              "    width: 32px;\n",
              "  }\n",
              "\n",
              "  .colab-df-quickchart:hover {\n",
              "    background-color: #E2EBFA;\n",
              "    box-shadow: 0px 1px 2px rgba(60, 64, 67, 0.3), 0px 1px 3px 1px rgba(60, 64, 67, 0.15);\n",
              "    fill: #174EA6;\n",
              "  }\n",
              "\n",
              "  [theme=dark] .colab-df-quickchart {\n",
              "    background-color: #3B4455;\n",
              "    fill: #D2E3FC;\n",
              "  }\n",
              "\n",
              "  [theme=dark] .colab-df-quickchart:hover {\n",
              "    background-color: #434B5C;\n",
              "    box-shadow: 0px 1px 3px 1px rgba(0, 0, 0, 0.15);\n",
              "    filter: drop-shadow(0px 1px 2px rgba(0, 0, 0, 0.3));\n",
              "    fill: #FFFFFF;\n",
              "  }\n",
              "</style>\n",
              "\n",
              "  <script>\n",
              "    async function quickchart(key) {\n",
              "      const charts = await google.colab.kernel.invokeFunction(\n",
              "          'suggestCharts', [key], {});\n",
              "    }\n",
              "    (() => {\n",
              "      let quickchartButtonEl =\n",
              "        document.querySelector('#df-f6bff45e-7ebf-4591-b9eb-e1b05327c54e button');\n",
              "      quickchartButtonEl.style.display =\n",
              "        google.colab.kernel.accessAllowed ? 'block' : 'none';\n",
              "    })();\n",
              "  </script>\n",
              "</div>\n",
              "    </div>\n",
              "  </div>\n"
            ]
          },
          "metadata": {},
          "execution_count": 4
        }
      ]
    },
    {
      "cell_type": "code",
      "source": [
        "# getting dataset info\n",
        "df.info()"
      ],
      "metadata": {
        "colab": {
          "base_uri": "https://localhost:8080/"
        },
        "id": "OUxIfxkOZbTh",
        "outputId": "c8770447-6af1-400c-e0da-c73556329429"
      },
      "execution_count": 5,
      "outputs": [
        {
          "output_type": "stream",
          "name": "stdout",
          "text": [
            "<class 'pandas.core.frame.DataFrame'>\n",
            "RangeIndex: 150 entries, 0 to 149\n",
            "Data columns (total 5 columns):\n",
            " #   Column        Non-Null Count  Dtype  \n",
            "---  ------        --------------  -----  \n",
            " 0   sepal_length  150 non-null    float64\n",
            " 1   sepal_width   150 non-null    float64\n",
            " 2   petal_length  150 non-null    float64\n",
            " 3   petal_width   150 non-null    float64\n",
            " 4   species       150 non-null    object \n",
            "dtypes: float64(4), object(1)\n",
            "memory usage: 6.0+ KB\n"
          ]
        }
      ]
    },
    {
      "cell_type": "code",
      "source": [
        "# drop duplicates if any\n",
        "df = df.drop_duplicates()"
      ],
      "metadata": {
        "id": "_cmak22HMxuu"
      },
      "execution_count": 6,
      "outputs": []
    },
    {
      "cell_type": "code",
      "source": [
        "# encoding target feature\n",
        "df['species'] = df['species'].map({'setosa':0, 'versicolor':1, 'virginica':2})\n",
        "df['species'].value_counts()"
      ],
      "metadata": {
        "colab": {
          "base_uri": "https://localhost:8080/"
        },
        "id": "Iy3P0ym_M2nY",
        "outputId": "da99f123-5710-44c7-ae7d-76941bfb8d72"
      },
      "execution_count": 7,
      "outputs": [
        {
          "output_type": "execute_result",
          "data": {
            "text/plain": [
              "0    50\n",
              "1    50\n",
              "2    49\n",
              "Name: species, dtype: int64"
            ]
          },
          "metadata": {},
          "execution_count": 7
        }
      ]
    },
    {
      "cell_type": "code",
      "source": [
        "# creating X & y\n",
        "X = df.drop(columns=['species'], axis=1)\n",
        "y = to_categorical(y=df['species'], num_classes=3)"
      ],
      "metadata": {
        "id": "nkvfsCQJNFqz"
      },
      "execution_count": 8,
      "outputs": []
    },
    {
      "cell_type": "code",
      "source": [
        "# splitting dataset\n",
        "X_train, X_test, y_train, y_test = train_test_split(X, y, test_size=0.2, random_state=90)"
      ],
      "metadata": {
        "id": "Yp3t5-MZNUbI"
      },
      "execution_count": 9,
      "outputs": []
    },
    {
      "cell_type": "code",
      "source": [
        "# feature scaling\n",
        "scaler = StandardScaler()\n",
        "X_train = scaler.fit_transform(X_train)\n",
        "X_test = scaler.transform(X_test)"
      ],
      "metadata": {
        "id": "ePnqu34ANd_Z"
      },
      "execution_count": 10,
      "outputs": []
    },
    {
      "cell_type": "code",
      "source": [
        "# defining search space\n",
        "def model_builder(hp):\n",
        "\n",
        "  model = Sequential()\n",
        "\n",
        "  hp_layer_1 = hp.Int(name='units_1', min_value=2, max_value=10)\n",
        "  hp_layer_2 = hp.Int(name='units_2', min_value=2, max_value=10)\n",
        "  hp_activation = hp.Choice(name='activation', values=['relu', 'tanh', 'selu'])\n",
        "  hp_lr = hp.Float(name='LR', min_value=0.01, max_value=0.05, step=0.01)\n",
        "\n",
        "  model.add(Dense(units=hp_layer_1, activation=hp_activation, input_dim=4))\n",
        "  if hp.Boolean(name='dropout'):\n",
        "    model.add(Dropout(rate=0.2))\n",
        "  model.add(Dense(units=hp_layer_2, activation=hp_activation))\n",
        "  model.add(Dense(units=3, activation='softmax'))\n",
        "\n",
        "  model.compile(optimizer=Adam(learning_rate=hp_lr), loss='categorical_crossentropy', metrics=['accuracy'])\n",
        "\n",
        "  return model"
      ],
      "metadata": {
        "id": "PV03QB36NrTW"
      },
      "execution_count": 11,
      "outputs": []
    },
    {
      "cell_type": "code",
      "source": [
        "# creating tuner object\n",
        "tuner = kt.GridSearch(hypermodel=model_builder, max_trials=20, objective='val_accuracy',\n",
        "                      directory='mydir', project_name='myproject', seed=420)"
      ],
      "metadata": {
        "id": "PLfM3PnhO9VH"
      },
      "execution_count": 12,
      "outputs": []
    },
    {
      "cell_type": "code",
      "source": [
        "# finding best hps\n",
        "tuner.search(X_train, y_train, validation_data=(X_test, y_test), epochs=20, batch_size=20, verbose=0)"
      ],
      "metadata": {
        "id": "yyPvhJUgP5MO"
      },
      "execution_count": 13,
      "outputs": []
    },
    {
      "cell_type": "code",
      "source": [
        "# checking best hps\n",
        "tuner.results_summary(num_trials=1)"
      ],
      "metadata": {
        "colab": {
          "base_uri": "https://localhost:8080/"
        },
        "id": "35Ifk4HtQNxn",
        "outputId": "11ff494c-9474-4c51-d2ac-da641187f490"
      },
      "execution_count": 14,
      "outputs": [
        {
          "output_type": "stream",
          "name": "stdout",
          "text": [
            "Results summary\n",
            "Results in mydir/myproject\n",
            "Showing 1 best trials\n",
            "Objective(name=\"val_accuracy\", direction=\"max\")\n",
            "\n",
            "Trial 10 summary\n",
            "Hyperparameters:\n",
            "units_1: 2\n",
            "units_2: 2\n",
            "activation: selu\n",
            "LR: 0.01\n",
            "Score: 1.0\n"
          ]
        }
      ]
    },
    {
      "cell_type": "code",
      "source": [
        "# getting model with best hps\n",
        "model = tuner.get_best_models()[0]"
      ],
      "metadata": {
        "id": "Q6PRKKn1TV8m"
      },
      "execution_count": 15,
      "outputs": []
    },
    {
      "cell_type": "code",
      "source": [
        "# model summary\n",
        "model.summary()"
      ],
      "metadata": {
        "colab": {
          "base_uri": "https://localhost:8080/"
        },
        "id": "6I-oxBakToBV",
        "outputId": "384c7131-29df-4356-9cda-9c38e1d55488"
      },
      "execution_count": 16,
      "outputs": [
        {
          "output_type": "stream",
          "name": "stdout",
          "text": [
            "Model: \"sequential\"\n",
            "_________________________________________________________________\n",
            " Layer (type)                Output Shape              Param #   \n",
            "=================================================================\n",
            " dense (Dense)               (None, 2)                 10        \n",
            "                                                                 \n",
            " dense_1 (Dense)             (None, 2)                 6         \n",
            "                                                                 \n",
            " dense_2 (Dense)             (None, 3)                 9         \n",
            "                                                                 \n",
            "=================================================================\n",
            "Total params: 25\n",
            "Trainable params: 25\n",
            "Non-trainable params: 0\n",
            "_________________________________________________________________\n"
          ]
        }
      ]
    },
    {
      "cell_type": "code",
      "source": [
        "# training model\n",
        "model.fit(X_train, y_train, validation_data=(X_test, y_test), epochs=40, initial_epoch=21, batch_size=20, verbose=1,\n",
        "          callbacks=EarlyStopping(patience=2))"
      ],
      "metadata": {
        "colab": {
          "base_uri": "https://localhost:8080/"
        },
        "id": "U1cfoR4FTq7h",
        "outputId": "a53fa948-5357-4644-c891-1924d00eba3b"
      },
      "execution_count": 17,
      "outputs": [
        {
          "output_type": "stream",
          "name": "stdout",
          "text": [
            "Epoch 22/40\n",
            "6/6 [==============================] - 1s 73ms/step - loss: 0.2922 - accuracy: 0.8908 - val_loss: 0.2557 - val_accuracy: 1.0000\n",
            "Epoch 23/40\n",
            "6/6 [==============================] - 0s 17ms/step - loss: 0.2789 - accuracy: 0.8908 - val_loss: 0.2415 - val_accuracy: 1.0000\n",
            "Epoch 24/40\n",
            "6/6 [==============================] - 0s 13ms/step - loss: 0.2627 - accuracy: 0.8992 - val_loss: 0.2224 - val_accuracy: 1.0000\n",
            "Epoch 25/40\n",
            "6/6 [==============================] - 0s 11ms/step - loss: 0.2496 - accuracy: 0.8992 - val_loss: 0.2057 - val_accuracy: 1.0000\n",
            "Epoch 26/40\n",
            "6/6 [==============================] - 0s 8ms/step - loss: 0.2363 - accuracy: 0.9076 - val_loss: 0.1918 - val_accuracy: 1.0000\n",
            "Epoch 27/40\n",
            "6/6 [==============================] - 0s 9ms/step - loss: 0.2227 - accuracy: 0.9160 - val_loss: 0.1774 - val_accuracy: 1.0000\n",
            "Epoch 28/40\n",
            "6/6 [==============================] - 0s 10ms/step - loss: 0.2088 - accuracy: 0.9328 - val_loss: 0.1678 - val_accuracy: 1.0000\n",
            "Epoch 29/40\n",
            "6/6 [==============================] - 0s 11ms/step - loss: 0.1979 - accuracy: 0.9412 - val_loss: 0.1598 - val_accuracy: 0.9667\n",
            "Epoch 30/40\n",
            "6/6 [==============================] - 0s 9ms/step - loss: 0.1851 - accuracy: 0.9412 - val_loss: 0.1483 - val_accuracy: 0.9667\n",
            "Epoch 31/40\n",
            "6/6 [==============================] - 0s 8ms/step - loss: 0.1726 - accuracy: 0.9496 - val_loss: 0.1389 - val_accuracy: 0.9667\n",
            "Epoch 32/40\n",
            "6/6 [==============================] - 0s 9ms/step - loss: 0.1616 - accuracy: 0.9580 - val_loss: 0.1304 - val_accuracy: 0.9667\n",
            "Epoch 33/40\n",
            "6/6 [==============================] - 0s 11ms/step - loss: 0.1537 - accuracy: 0.9496 - val_loss: 0.1276 - val_accuracy: 0.9667\n",
            "Epoch 34/40\n",
            "6/6 [==============================] - 0s 10ms/step - loss: 0.1452 - accuracy: 0.9496 - val_loss: 0.1216 - val_accuracy: 0.9667\n",
            "Epoch 35/40\n",
            "6/6 [==============================] - 0s 8ms/step - loss: 0.1351 - accuracy: 0.9496 - val_loss: 0.1159 - val_accuracy: 0.9667\n",
            "Epoch 36/40\n",
            "6/6 [==============================] - 0s 8ms/step - loss: 0.1278 - accuracy: 0.9496 - val_loss: 0.1105 - val_accuracy: 0.9667\n",
            "Epoch 37/40\n",
            "6/6 [==============================] - 0s 8ms/step - loss: 0.1244 - accuracy: 0.9496 - val_loss: 0.1059 - val_accuracy: 0.9667\n",
            "Epoch 38/40\n",
            "6/6 [==============================] - 0s 9ms/step - loss: 0.1191 - accuracy: 0.9496 - val_loss: 0.0991 - val_accuracy: 0.9667\n",
            "Epoch 39/40\n",
            "6/6 [==============================] - 0s 9ms/step - loss: 0.1115 - accuracy: 0.9496 - val_loss: 0.0952 - val_accuracy: 0.9667\n",
            "Epoch 40/40\n",
            "6/6 [==============================] - 0s 13ms/step - loss: 0.1070 - accuracy: 0.9496 - val_loss: 0.0903 - val_accuracy: 0.9667\n"
          ]
        },
        {
          "output_type": "execute_result",
          "data": {
            "text/plain": [
              "<keras.callbacks.History at 0x7f1f7e209120>"
            ]
          },
          "metadata": {},
          "execution_count": 17
        }
      ]
    },
    {
      "cell_type": "code",
      "source": [
        "# model evaluation\n",
        "_, train_accu = model.evaluate(X_train, y_train, batch_size=20, verbose=0)\n",
        "print('Training Accuracy:', round(train_accu * 100, 2))\n",
        "_, test_accu = model.evaluate(X_test, y_test, batch_size=20, verbose=0)\n",
        "print('Testing Accuracy:', round(test_accu * 100, 2))"
      ],
      "metadata": {
        "colab": {
          "base_uri": "https://localhost:8080/"
        },
        "id": "L85CNjTwVdSl",
        "outputId": "1ee0c560-f858-46b1-94a9-54669849c5ce"
      },
      "execution_count": 18,
      "outputs": [
        {
          "output_type": "stream",
          "name": "stdout",
          "text": [
            "Training Accuracy: 94.96\n",
            "Testing Accuracy: 96.67\n"
          ]
        }
      ]
    },
    {
      "cell_type": "code",
      "source": [
        "# plotting confusion matrix\n",
        "cm = confusion_matrix(\n",
        "    y_true = np.argmax(y_test, axis=1),\n",
        "    y_pred = np.argmax(model.predict(X_test, verbose=0), axis=1))\n",
        "disp = ConfusionMatrixDisplay(cm)\n",
        "disp.plot(colorbar=False);"
      ],
      "metadata": {
        "colab": {
          "base_uri": "https://localhost:8080/",
          "height": 449
        },
        "id": "iUhW8s0pWboE",
        "outputId": "120cadbf-7306-43cd-b4f6-3396f9195c72"
      },
      "execution_count": 19,
      "outputs": [
        {
          "output_type": "display_data",
          "data": {
            "text/plain": [
              "<Figure size 640x480 with 1 Axes>"
            ],
            "image/png": "[encoded data removed]"
          },
          "metadata": {}
        }
      ]
    },
    {
      "cell_type": "code",
      "source": [
        "# getting clf report\n",
        "print(classification_report(\n",
        "    y_true = np.argmax(y_test, axis=1),\n",
        "    y_pred = np.argmax(model.predict(X_test, verbose=0), axis=1)))"
      ],
      "metadata": {
        "colab": {
          "base_uri": "https://localhost:8080/"
        },
        "id": "gi-iOWm7W-cV",
        "outputId": "120426a9-e104-475f-c860-432daf60428e"
      },
      "execution_count": 20,
      "outputs": [
        {
          "output_type": "stream",
          "name": "stdout",
          "text": [
            "              precision    recall  f1-score   support\n",
            "\n",
            "           0       1.00      0.89      0.94         9\n",
            "           1       0.90      1.00      0.95         9\n",
            "           2       1.00      1.00      1.00        12\n",
            "\n",
            "    accuracy                           0.97        30\n",
            "   macro avg       0.97      0.96      0.96        30\n",
            "weighted avg       0.97      0.97      0.97        30\n",
            "\n"
          ]
        }
      ]
    }
  ]
}