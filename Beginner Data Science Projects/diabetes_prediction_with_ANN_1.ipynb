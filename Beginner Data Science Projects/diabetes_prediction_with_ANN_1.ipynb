{
  "cells": [
    {
      "cell_type": "code",
      "execution_count": 1,
      "metadata": {
        "id": "-oXRx2iT7eTd"
      },
      "outputs": [],
      "source": [
        "# installing keras tuner\n",
        "!pip install -q keras-tuner"
      ]
    },
    {
      "cell_type": "code",
      "execution_count": 2,
      "metadata": {
        "id": "DyJ5YKBs66kZ"
      },
      "outputs": [],
      "source": [
        "# imports\n",
        "import numpy as np\n",
        "np.random.seed(42)\n",
        "from tensorflow.keras.utils import set_random_seed\n",
        "set_random_seed(42)\n",
        "import pandas as pd\n",
        "import matplotlib.pyplot as plt\n",
        "from sklearn.preprocessing import StandardScaler\n",
        "from sklearn.model_selection import train_test_split\n",
        "from keras import Sequential\n",
        "from keras.layers import Dense, BatchNormalization\n",
        "from keras.optimizers import RMSprop\n",
        "import keras_tuner as kt\n",
        "from sklearn.metrics import confusion_matrix, classification_report"
      ]
    },
    {
      "cell_type": "code",
      "execution_count": 3,
      "metadata": {
        "colab": {
          "base_uri": "https://localhost:8080/",
          "height": 206
        },
        "id": "4V5AkINx8H24",
        "outputId": "d6741172-78eb-4671-9af7-fa86f9f9f77e"
      },
      "outputs": [
        {
          "output_type": "execute_result",
          "data": {
            "text/plain": [
              "   Pregnancies  Glucose  Insulin   BMI  DiabetesPedigreeFunction  Age  Outcome\n",
              "0            6      148        0  33.6                     0.627   50        1\n",
              "1            1       85        0  26.6                     0.351   31        0\n",
              "2            8      183        0  23.3                     0.672   32        1\n",
              "3            1       89       94  28.1                     0.167   21        0\n",
              "4            0      137      168  43.1                     2.288   33        1"
            ],
            "text/html": [
              "\n",
              "  <div id=\"df-81523b9d-6853-4f19-9761-d9c0f91d5570\">\n",
              "    <div class=\"colab-df-container\">\n",
              "      <div>\n",
              "<style scoped>\n",
              "    .dataframe tbody tr th:only-of-type {\n",
              "        vertical-align: middle;\n",
              "    }\n",
              "\n",
              "    .dataframe tbody tr th {\n",
              "        vertical-align: top;\n",
              "    }\n",
              "\n",
              "    .dataframe thead th {\n",
              "        text-align: right;\n",
              "    }\n",
              "</style>\n",
              "<table border=\"1\" class=\"dataframe\">\n",
              "  <thead>\n",
              "    <tr style=\"text-align: right;\">\n",
              "      <th></th>\n",
              "      <th>Pregnancies</th>\n",
              "      <th>Glucose</th>\n",
              "      <th>Insulin</th>\n",
              "      <th>BMI</th>\n",
              "      <th>DiabetesPedigreeFunction</th>\n",
              "      <th>Age</th>\n",
              "      <th>Outcome</th>\n",
              "    </tr>\n",
              "  </thead>\n",
              "  <tbody>\n",
              "    <tr>\n",
              "      <th>0</th>\n",
              "      <td>6</td>\n",
              "      <td>148</td>\n",
              "      <td>0</td>\n",
              "      <td>33.6</td>\n",
              "      <td>0.627</td>\n",
              "      <td>50</td>\n",
              "      <td>1</td>\n",
              "    </tr>\n",
              "    <tr>\n",
              "      <th>1</th>\n",
              "      <td>1</td>\n",
              "      <td>85</td>\n",
              "      <td>0</td>\n",
              "      <td>26.6</td>\n",
              "      <td>0.351</td>\n",
              "      <td>31</td>\n",
              "      <td>0</td>\n",
              "    </tr>\n",
              "    <tr>\n",
              "      <th>2</th>\n",
              "      <td>8</td>\n",
              "      <td>183</td>\n",
              "      <td>0</td>\n",
              "      <td>23.3</td>\n",
              "      <td>0.672</td>\n",
              "      <td>32</td>\n",
              "      <td>1</td>\n",
              "    </tr>\n",
              "    <tr>\n",
              "      <th>3</th>\n",
              "      <td>1</td>\n",
              "      <td>89</td>\n",
              "      <td>94</td>\n",
              "      <td>28.1</td>\n",
              "      <td>0.167</td>\n",
              "      <td>21</td>\n",
              "      <td>0</td>\n",
              "    </tr>\n",
              "    <tr>\n",
              "      <th>4</th>\n",
              "      <td>0</td>\n",
              "      <td>137</td>\n",
              "      <td>168</td>\n",
              "      <td>43.1</td>\n",
              "      <td>2.288</td>\n",
              "      <td>33</td>\n",
              "      <td>1</td>\n",
              "    </tr>\n",
              "  </tbody>\n",
              "</table>\n",
              "</div>\n",
              "      <button class=\"colab-df-convert\" onclick=\"convertToInteractive('df-81523b9d-6853-4f19-9761-d9c0f91d5570')\"\n",
              "              title=\"Convert this dataframe to an interactive table.\"\n",
              "              style=\"display:none;\">\n",
              "        \n",
              "  <svg xmlns=\"http://www.w3.org/2000/svg\" height=\"24px\"viewBox=\"0 0 24 24\"\n",
              "       width=\"24px\">\n",
              "    <path d=\"M0 0h24v24H0V0z\" fill=\"none\"/>\n",
              "    <path d=\"M18.56 5.44l.94 2.06.94-2.06 2.06-.94-2.06-.94-.94-2.06-.94 2.06-2.06.94zm-11 1L8.5 8.5l.94-2.06 2.06-.94-2.06-.94L8.5 2.5l-.94 2.06-2.06.94zm10 10l.94 2.06.94-2.06 2.06-.94-2.06-.94-.94-2.06-.94 2.06-2.06.94z\"/><path d=\"M17.41 7.96l-1.37-1.37c-.4-.4-.92-.59-1.43-.59-.52 0-1.04.2-1.43.59L10.3 9.45l-7.72 7.72c-.78.78-.78 2.05 0 2.83L4 21.41c.39.39.9.59 1.41.59.51 0 1.02-.2 1.41-.59l7.78-7.78 2.81-2.81c.8-.78.8-2.07 0-2.86zM5.41 20L4 18.59l7.72-7.72 1.47 1.35L5.41 20z\"/>\n",
              "  </svg>\n",
              "      </button>\n",
              "      \n",
              "  <style>\n",
              "    .colab-df-container {\n",
              "      display:flex;\n",
              "      flex-wrap:wrap;\n",
              "      gap: 12px;\n",
              "    }\n",
              "\n",
              "    .colab-df-convert {\n",
              "      background-color: #E8F0FE;\n",
              "      border: none;\n",
              "      border-radius: 50%;\n",
              "      cursor: pointer;\n",
              "      display: none;\n",
              "      fill: #1967D2;\n",
              "      height: 32px;\n",
              "      padding: 0 0 0 0;\n",
              "      width: 32px;\n",
              "    }\n",
              "\n",
              "    .colab-df-convert:hover {\n",
              "      background-color: #E2EBFA;\n",
              "      box-shadow: 0px 1px 2px rgba(60, 64, 67, 0.3), 0px 1px 3px 1px rgba(60, 64, 67, 0.15);\n",
              "      fill: #174EA6;\n",
              "    }\n",
              "\n",
              "    [theme=dark] .colab-df-convert {\n",
              "      background-color: #3B4455;\n",
              "      fill: #D2E3FC;\n",
              "    }\n",
              "\n",
              "    [theme=dark] .colab-df-convert:hover {\n",
              "      background-color: #434B5C;\n",
              "      box-shadow: 0px 1px 3px 1px rgba(0, 0, 0, 0.15);\n",
              "      filter: drop-shadow(0px 1px 2px rgba(0, 0, 0, 0.3));\n",
              "      fill: #FFFFFF;\n",
              "    }\n",
              "  </style>\n",
              "\n",
              "      <script>\n",
              "        const buttonEl =\n",
              "          document.querySelector('#df-81523b9d-6853-4f19-9761-d9c0f91d5570 button.colab-df-convert');\n",
              "        buttonEl.style.display =\n",
              "          google.colab.kernel.accessAllowed ? 'block' : 'none';\n",
              "\n",
              "        async function convertToInteractive(key) {\n",
              "          const element = document.querySelector('#df-81523b9d-6853-4f19-9761-d9c0f91d5570');\n",
              "          const dataTable =\n",
              "            await google.colab.kernel.invokeFunction('convertToInteractive',\n",
              "                                                     [key], {});\n",
              "          if (!dataTable) return;\n",
              "\n",
              "          const docLinkHtml = 'Like what you see? Visit the ' +\n",
              "            '<a target=\"_blank\" href=https://colab.research.google.com/notebooks/data_table.ipynb>data table notebook</a>'\n",
              "            + ' to learn more about interactive tables.';\n",
              "          element.innerHTML = '';\n",
              "          dataTable['output_type'] = 'display_data';\n",
              "          await google.colab.output.renderOutput(dataTable, element);\n",
              "          const docLink = document.createElement('div');\n",
              "          docLink.innerHTML = docLinkHtml;\n",
              "          element.appendChild(docLink);\n",
              "        }\n",
              "      </script>\n",
              "    </div>\n",
              "  </div>\n",
              "  "
            ]
          },
          "metadata": {},
          "execution_count": 3
        }
      ],
      "source": [
        "# loading the dataset\n",
        "df = pd.read_csv('/content/diabetes_dataset.csv')\n",
        "df.head()"
      ]
    },
    {
      "cell_type": "code",
      "execution_count": 4,
      "metadata": {
        "id": "kYmW3ikn_8gN",
        "colab": {
          "base_uri": "https://localhost:8080/"
        },
        "outputId": "cf047fbe-4f91-45b6-f00f-8a04cdbe2191"
      },
      "outputs": [
        {
          "output_type": "stream",
          "name": "stdout",
          "text": [
            "<class 'pandas.core.frame.DataFrame'>\n",
            "RangeIndex: 768 entries, 0 to 767\n",
            "Data columns (total 7 columns):\n",
            " #   Column                    Non-Null Count  Dtype  \n",
            "---  ------                    --------------  -----  \n",
            " 0   Pregnancies               768 non-null    int64  \n",
            " 1   Glucose                   768 non-null    int64  \n",
            " 2   Insulin                   768 non-null    int64  \n",
            " 3   BMI                       768 non-null    float64\n",
            " 4   DiabetesPedigreeFunction  768 non-null    float64\n",
            " 5   Age                       768 non-null    int64  \n",
            " 6   Outcome                   768 non-null    int64  \n",
            "dtypes: float64(2), int64(5)\n",
            "memory usage: 42.1 KB\n"
          ]
        }
      ],
      "source": [
        "# getting the info of data\n",
        "df.info()"
      ]
    },
    {
      "cell_type": "code",
      "execution_count": 5,
      "metadata": {
        "id": "JV7vnOusEH_r",
        "colab": {
          "base_uri": "https://localhost:8080/",
          "height": 265
        },
        "outputId": "87707e48-7143-4a63-a121-aa0746209c2b"
      },
      "outputs": [
        {
          "output_type": "display_data",
          "data": {
            "text/plain": [
              "<Figure size 432x288 with 1 Axes>"
            ],
            "image/png": "[encoded data removed]"
          },
          "metadata": {
            "needs_background": "light"
          }
        }
      ],
      "source": [
        "# getting the value count of target; 0 = No, 1 = yes\n",
        "df['Outcome'].value_counts().plot.barh(color='crimson');"
      ]
    },
    {
      "cell_type": "code",
      "execution_count": 6,
      "metadata": {
        "id": "lI5tZOE0AS-p"
      },
      "outputs": [],
      "source": [
        "# creating X & y\n",
        "X = df.drop(['Outcome'], axis=1)\n",
        "y = df['Outcome']"
      ]
    },
    {
      "cell_type": "code",
      "execution_count": 7,
      "metadata": {
        "id": "ZOoHgl0PCJ4F"
      },
      "outputs": [],
      "source": [
        "# scaling the X\n",
        "scaler = StandardScaler()\n",
        "X = scaler.fit_transform(X)"
      ]
    },
    {
      "cell_type": "code",
      "execution_count": 8,
      "metadata": {
        "id": "lsp2PyjfCSVn"
      },
      "outputs": [],
      "source": [
        "# splitting the data into training & testing sets\n",
        "X_train, X_test, y_train, y_test = train_test_split(X, y, test_size=.25, shuffle=True, random_state=42)"
      ]
    },
    {
      "cell_type": "code",
      "execution_count": 9,
      "metadata": {
        "id": "O6OJYlG8Eo0E"
      },
      "outputs": [],
      "source": [
        "# defining the search space for hyperparameters\n",
        "\n",
        "def model_builder(hp):\n",
        "\n",
        "  model = Sequential()\n",
        "  \n",
        "  hp_layer_1 = hp.Int('units_1', min_value=2, max_value=32)\n",
        "  hp_layer_2 = hp.Int('units_2', min_value=2, max_value=16, step=2)\n",
        "  hp_activation = hp.Choice('activation', values=['relu', 'tanh'])\n",
        "  hp_learning_rate = hp.Float('learning_rate', min_value=0.01, max_value=0.05, step=0.01)\n",
        "  \n",
        "  model.add(Dense(units=hp_layer_1, activation=hp_activation, input_dim=6))\n",
        "  model.add(BatchNormalization())\n",
        "  model.add(Dense(units=hp_layer_2, activation=hp_activation))\n",
        "  model.add(BatchNormalization())\n",
        "  model.add(Dense(units=1, activation='sigmoid'))\n",
        "    \n",
        "  model.compile(optimizer=RMSprop(learning_rate=hp_learning_rate), loss='binary_crossentropy', metrics=['accuracy'])\n",
        "    \n",
        "  return model"
      ]
    },
    {
      "cell_type": "code",
      "execution_count": 10,
      "metadata": {
        "id": "dJqUbOr4wFo6"
      },
      "outputs": [],
      "source": [
        "# creating a tuner object\n",
        "tuner = kt.GridSearch(hypermodel=model_builder, objective='val_accuracy', \n",
        "                      max_trials=10, directory='mydir', project_name='diabetes', seed=18)"
      ]
    },
    {
      "cell_type": "code",
      "execution_count": 11,
      "metadata": {
        "id": "sq0FUZCK8Ps6",
        "colab": {
          "base_uri": "https://localhost:8080/"
        },
        "outputId": "e7c3ff35-d8bf-4f88-a712-3578d544220f"
      },
      "outputs": [
        {
          "output_type": "stream",
          "name": "stdout",
          "text": [
            "Search space summary\n",
            "Default search space size: 4\n",
            "units_1 (Int)\n",
            "{'default': None, 'conditions': [], 'min_value': 2, 'max_value': 32, 'step': 1, 'sampling': 'linear'}\n",
            "units_2 (Int)\n",
            "{'default': None, 'conditions': [], 'min_value': 2, 'max_value': 16, 'step': 2, 'sampling': 'linear'}\n",
            "activation (Choice)\n",
            "{'default': 'relu', 'conditions': [], 'values': ['relu', 'tanh'], 'ordered': False}\n",
            "learning_rate (Float)\n",
            "{'default': 0.01, 'conditions': [], 'min_value': 0.01, 'max_value': 0.05, 'step': 0.01, 'sampling': 'linear'}\n"
          ]
        }
      ],
      "source": [
        "# getting the hps summary\n",
        "tuner.search_space_summary()"
      ]
    },
    {
      "cell_type": "code",
      "execution_count": 12,
      "metadata": {
        "id": "5phf_wa5wjwU"
      },
      "outputs": [],
      "source": [
        "# searching for the best hyperparameters\n",
        "tuner.search(X_train, y_train, validation_data=(X_test, y_test), epochs=10)"
      ]
    },
    {
      "cell_type": "code",
      "execution_count": 13,
      "metadata": {
        "colab": {
          "base_uri": "https://localhost:8080/"
        },
        "id": "Hy-QIBs78fAz",
        "outputId": "478ba253-a594-4d77-fc7f-aecfb49472f4"
      },
      "outputs": [
        {
          "output_type": "stream",
          "name": "stdout",
          "text": [
            "Results summary\n",
            "Results in mydir/diabetes\n",
            "Showing 1 best trials\n",
            "Objective(name=\"val_accuracy\", direction=\"max\")\n",
            "\n",
            "Trial 05 summary\n",
            "Hyperparameters:\n",
            "units_1: 2\n",
            "units_2: 2\n",
            "activation: tanh\n",
            "learning_rate: 0.01\n",
            "Score: 0.7864583134651184\n"
          ]
        }
      ],
      "source": [
        "# checking the results \n",
        "tuner.results_summary(num_trials=1)"
      ]
    },
    {
      "cell_type": "code",
      "execution_count": 14,
      "metadata": {
        "id": "vQWaAeU0xkYW"
      },
      "outputs": [],
      "source": [
        "# fetching the best model\n",
        "model = tuner.get_best_models()[0]"
      ]
    },
    {
      "cell_type": "code",
      "execution_count": 15,
      "metadata": {
        "colab": {
          "base_uri": "https://localhost:8080/"
        },
        "id": "RI3jmWxF7Su0",
        "outputId": "146ee8ee-251f-46b0-c6cf-12544dd7ee72"
      },
      "outputs": [
        {
          "output_type": "stream",
          "name": "stdout",
          "text": [
            "Model: \"sequential\"\n",
            "_________________________________________________________________\n",
            " Layer (type)                Output Shape              Param #   \n",
            "=================================================================\n",
            " dense (Dense)               (None, 2)                 14        \n",
            "                                                                 \n",
            " batch_normalization (BatchN  (None, 2)                8         \n",
            " ormalization)                                                   \n",
            "                                                                 \n",
            " dense_1 (Dense)             (None, 2)                 6         \n",
            "                                                                 \n",
            " batch_normalization_1 (Batc  (None, 2)                8         \n",
            " hNormalization)                                                 \n",
            "                                                                 \n",
            " dense_2 (Dense)             (None, 1)                 3         \n",
            "                                                                 \n",
            "=================================================================\n",
            "Total params: 39\n",
            "Trainable params: 31\n",
            "Non-trainable params: 8\n",
            "_________________________________________________________________\n"
          ]
        }
      ],
      "source": [
        "# getting the model summary\n",
        "model.summary()"
      ]
    },
    {
      "cell_type": "code",
      "execution_count": 16,
      "metadata": {
        "id": "vzpA5W6BD_8t"
      },
      "outputs": [],
      "source": [
        "# model training with the best hyperparameters\n",
        "history = model.fit(X_train, y_train, epochs=100, initial_epoch=11, validation_data=(X_test, y_test), verbose=0)"
      ]
    },
    {
      "cell_type": "code",
      "execution_count": 17,
      "metadata": {
        "colab": {
          "base_uri": "https://localhost:8080/"
        },
        "id": "-2sktvu-kV-N",
        "outputId": "730ad5da-9dea-40cb-92d4-950446d82310"
      },
      "outputs": [
        {
          "output_type": "stream",
          "name": "stdout",
          "text": [
            "Training: 79.51388955116272, Testing: 77.08333134651184\n"
          ]
        }
      ],
      "source": [
        "# checking the model performance\n",
        "_, train_accuracy = model.evaluate(X_train, y_train, verbose=0)\n",
        "_, test_accuracy = model.evaluate(X_test, y_test, verbose=0)\n",
        "print('Training: {}, Testing: {}'.format(train_accuracy * 100, test_accuracy * 100))"
      ]
    },
    {
      "cell_type": "code",
      "source": [
        "# plotting confusion matrix\n",
        "print(confusion_matrix(\n",
        "    y_true = y_test,\n",
        "    y_pred = np.where(model.predict(X_test, verbose=0) > .5, 1, 0)\n",
        "    ))"
      ],
      "metadata": {
        "colab": {
          "base_uri": "https://localhost:8080/"
        },
        "id": "VJVpNjNzSkbL",
        "outputId": "7892f5d5-05b4-4736-ec5c-9a734398d8dc"
      },
      "execution_count": 18,
      "outputs": [
        {
          "output_type": "stream",
          "name": "stdout",
          "text": [
            "[[110  13]\n",
            " [ 31  38]]\n"
          ]
        }
      ]
    },
    {
      "cell_type": "code",
      "source": [
        "# plotting classification report\n",
        "print(classification_report(\n",
        "    y_true = y_test,\n",
        "    y_pred = np.where(model.predict(X_test, verbose=0) > .5, 1, 0)\n",
        "    ))"
      ],
      "metadata": {
        "colab": {
          "base_uri": "https://localhost:8080/"
        },
        "id": "bj8ZqS-jRoBr",
        "outputId": "4d9746fd-a969-4173-ab76-d039d3910a09"
      },
      "execution_count": 19,
      "outputs": [
        {
          "output_type": "stream",
          "name": "stdout",
          "text": [
            "              precision    recall  f1-score   support\n",
            "\n",
            "           0       0.78      0.89      0.83       123\n",
            "           1       0.75      0.55      0.63        69\n",
            "\n",
            "    accuracy                           0.77       192\n",
            "   macro avg       0.76      0.72      0.73       192\n",
            "weighted avg       0.77      0.77      0.76       192\n",
            "\n"
          ]
        }
      ]
    }
  ],
  "metadata": {
    "colab": {
      "provenance": []
    },
    "gpuClass": "standard",
    "kernelspec": {
      "display_name": "Python 3",
      "name": "python3"
    },
    "language_info": {
      "name": "python"
    }
  },
  "nbformat": 4,
  "nbformat_minor": 0
}