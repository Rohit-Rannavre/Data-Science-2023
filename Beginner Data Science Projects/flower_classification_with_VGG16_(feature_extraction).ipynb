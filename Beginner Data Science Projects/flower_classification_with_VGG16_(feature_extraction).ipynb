{
  "nbformat": 4,
  "nbformat_minor": 0,
  "metadata": {
    "colab": {
      "provenance": []
    },
    "kernelspec": {
      "name": "python3",
      "display_name": "Python 3"
    },
    "language_info": {
      "name": "python"
    },
    "accelerator": "GPU",
    "gpuClass": "standard",
    "widgets": {
      "application/vnd.jupyter.widget-state+json": {
        "f3d35773b0234da9953d4452a8a3afc1": {
          "model_module": "@jupyter-widgets/controls",
          "model_name": "HBoxModel",
          "model_module_version": "1.5.0",
          "state": {
            "_dom_classes": [],
            "_model_module": "@jupyter-widgets/controls",
            "_model_module_version": "1.5.0",
            "_model_name": "HBoxModel",
            "_view_count": null,
            "_view_module": "@jupyter-widgets/controls",
            "_view_module_version": "1.5.0",
            "_view_name": "HBoxView",
            "box_style": "",
            "children": [
              "IPY_MODEL_e19a10bda37c481ca8b7cc87a8472337",
              "IPY_MODEL_30d1b73e92f9444ba77aaf7559e2a63a",
              "IPY_MODEL_401a72633ab04d5ca0ab4bea8be3e01e"
            ],
            "layout": "IPY_MODEL_3520cc81abd745d59d86b2926ab759e2"
          }
        },
        "e19a10bda37c481ca8b7cc87a8472337": {
          "model_module": "@jupyter-widgets/controls",
          "model_name": "HTMLModel",
          "model_module_version": "1.5.0",
          "state": {
            "_dom_classes": [],
            "_model_module": "@jupyter-widgets/controls",
            "_model_module_version": "1.5.0",
            "_model_name": "HTMLModel",
            "_view_count": null,
            "_view_module": "@jupyter-widgets/controls",
            "_view_module_version": "1.5.0",
            "_view_name": "HTMLView",
            "description": "",
            "description_tooltip": null,
            "layout": "IPY_MODEL_e5b42aeebe764c08a6bad411b930ac33",
            "placeholder": "​",
            "style": "IPY_MODEL_ed0433a01e754c2593e39eb1ed450ff0",
            "value": "Dl Completed...: 100%"
          }
        },
        "30d1b73e92f9444ba77aaf7559e2a63a": {
          "model_module": "@jupyter-widgets/controls",
          "model_name": "FloatProgressModel",
          "model_module_version": "1.5.0",
          "state": {
            "_dom_classes": [],
            "_model_module": "@jupyter-widgets/controls",
            "_model_module_version": "1.5.0",
            "_model_name": "FloatProgressModel",
            "_view_count": null,
            "_view_module": "@jupyter-widgets/controls",
            "_view_module_version": "1.5.0",
            "_view_name": "ProgressView",
            "bar_style": "success",
            "description": "",
            "description_tooltip": null,
            "layout": "IPY_MODEL_b5bc57fc15034dada6e4608f42b51dee",
            "max": 5,
            "min": 0,
            "orientation": "horizontal",
            "style": "IPY_MODEL_9f57c5e8c28047fc95085d6cb1101005",
            "value": 5
          }
        },
        "401a72633ab04d5ca0ab4bea8be3e01e": {
          "model_module": "@jupyter-widgets/controls",
          "model_name": "HTMLModel",
          "model_module_version": "1.5.0",
          "state": {
            "_dom_classes": [],
            "_model_module": "@jupyter-widgets/controls",
            "_model_module_version": "1.5.0",
            "_model_name": "HTMLModel",
            "_view_count": null,
            "_view_module": "@jupyter-widgets/controls",
            "_view_module_version": "1.5.0",
            "_view_name": "HTMLView",
            "description": "",
            "description_tooltip": null,
            "layout": "IPY_MODEL_ce069438dcca4ac19eaedca4af63e904",
            "placeholder": "​",
            "style": "IPY_MODEL_75d39184292b4e44be21678a0e2d011b",
            "value": " 5/5 [00:21&lt;00:00,  4.53s/ file]"
          }
        },
        "3520cc81abd745d59d86b2926ab759e2": {
          "model_module": "@jupyter-widgets/base",
          "model_name": "LayoutModel",
          "model_module_version": "1.2.0",
          "state": {
            "_model_module": "@jupyter-widgets/base",
            "_model_module_version": "1.2.0",
            "_model_name": "LayoutModel",
            "_view_count": null,
            "_view_module": "@jupyter-widgets/base",
            "_view_module_version": "1.2.0",
            "_view_name": "LayoutView",
            "align_content": null,
            "align_items": null,
            "align_self": null,
            "border": null,
            "bottom": null,
            "display": null,
            "flex": null,
            "flex_flow": null,
            "grid_area": null,
            "grid_auto_columns": null,
            "grid_auto_flow": null,
            "grid_auto_rows": null,
            "grid_column": null,
            "grid_gap": null,
            "grid_row": null,
            "grid_template_areas": null,
            "grid_template_columns": null,
            "grid_template_rows": null,
            "height": null,
            "justify_content": null,
            "justify_items": null,
            "left": null,
            "margin": null,
            "max_height": null,
            "max_width": null,
            "min_height": null,
            "min_width": null,
            "object_fit": null,
            "object_position": null,
            "order": null,
            "overflow": null,
            "overflow_x": null,
            "overflow_y": null,
            "padding": null,
            "right": null,
            "top": null,
            "visibility": null,
            "width": null
          }
        },
        "e5b42aeebe764c08a6bad411b930ac33": {
          "model_module": "@jupyter-widgets/base",
          "model_name": "LayoutModel",
          "model_module_version": "1.2.0",
          "state": {
            "_model_module": "@jupyter-widgets/base",
            "_model_module_version": "1.2.0",
            "_model_name": "LayoutModel",
            "_view_count": null,
            "_view_module": "@jupyter-widgets/base",
            "_view_module_version": "1.2.0",
            "_view_name": "LayoutView",
            "align_content": null,
            "align_items": null,
            "align_self": null,
            "border": null,
            "bottom": null,
            "display": null,
            "flex": null,
            "flex_flow": null,
            "grid_area": null,
            "grid_auto_columns": null,
            "grid_auto_flow": null,
            "grid_auto_rows": null,
            "grid_column": null,
            "grid_gap": null,
            "grid_row": null,
            "grid_template_areas": null,
            "grid_template_columns": null,
            "grid_template_rows": null,
            "height": null,
            "justify_content": null,
            "justify_items": null,
            "left": null,
            "margin": null,
            "max_height": null,
            "max_width": null,
            "min_height": null,
            "min_width": null,
            "object_fit": null,
            "object_position": null,
            "order": null,
            "overflow": null,
            "overflow_x": null,
            "overflow_y": null,
            "padding": null,
            "right": null,
            "top": null,
            "visibility": null,
            "width": null
          }
        },
        "ed0433a01e754c2593e39eb1ed450ff0": {
          "model_module": "@jupyter-widgets/controls",
          "model_name": "DescriptionStyleModel",
          "model_module_version": "1.5.0",
          "state": {
            "_model_module": "@jupyter-widgets/controls",
            "_model_module_version": "1.5.0",
            "_model_name": "DescriptionStyleModel",
            "_view_count": null,
            "_view_module": "@jupyter-widgets/base",
            "_view_module_version": "1.2.0",
            "_view_name": "StyleView",
            "description_width": ""
          }
        },
        "b5bc57fc15034dada6e4608f42b51dee": {
          "model_module": "@jupyter-widgets/base",
          "model_name": "LayoutModel",
          "model_module_version": "1.2.0",
          "state": {
            "_model_module": "@jupyter-widgets/base",
            "_model_module_version": "1.2.0",
            "_model_name": "LayoutModel",
            "_view_count": null,
            "_view_module": "@jupyter-widgets/base",
            "_view_module_version": "1.2.0",
            "_view_name": "LayoutView",
            "align_content": null,
            "align_items": null,
            "align_self": null,
            "border": null,
            "bottom": null,
            "display": null,
            "flex": null,
            "flex_flow": null,
            "grid_area": null,
            "grid_auto_columns": null,
            "grid_auto_flow": null,
            "grid_auto_rows": null,
            "grid_column": null,
            "grid_gap": null,
            "grid_row": null,
            "grid_template_areas": null,
            "grid_template_columns": null,
            "grid_template_rows": null,
            "height": null,
            "justify_content": null,
            "justify_items": null,
            "left": null,
            "margin": null,
            "max_height": null,
            "max_width": null,
            "min_height": null,
            "min_width": null,
            "object_fit": null,
            "object_position": null,
            "order": null,
            "overflow": null,
            "overflow_x": null,
            "overflow_y": null,
            "padding": null,
            "right": null,
            "top": null,
            "visibility": null,
            "width": null
          }
        },
        "9f57c5e8c28047fc95085d6cb1101005": {
          "model_module": "@jupyter-widgets/controls",
          "model_name": "ProgressStyleModel",
          "model_module_version": "1.5.0",
          "state": {
            "_model_module": "@jupyter-widgets/controls",
            "_model_module_version": "1.5.0",
            "_model_name": "ProgressStyleModel",
            "_view_count": null,
            "_view_module": "@jupyter-widgets/base",
            "_view_module_version": "1.2.0",
            "_view_name": "StyleView",
            "bar_color": null,
            "description_width": ""
          }
        },
        "ce069438dcca4ac19eaedca4af63e904": {
          "model_module": "@jupyter-widgets/base",
          "model_name": "LayoutModel",
          "model_module_version": "1.2.0",
          "state": {
            "_model_module": "@jupyter-widgets/base",
            "_model_module_version": "1.2.0",
            "_model_name": "LayoutModel",
            "_view_count": null,
            "_view_module": "@jupyter-widgets/base",
            "_view_module_version": "1.2.0",
            "_view_name": "LayoutView",
            "align_content": null,
            "align_items": null,
            "align_self": null,
            "border": null,
            "bottom": null,
            "display": null,
            "flex": null,
            "flex_flow": null,
            "grid_area": null,
            "grid_auto_columns": null,
            "grid_auto_flow": null,
            "grid_auto_rows": null,
            "grid_column": null,
            "grid_gap": null,
            "grid_row": null,
            "grid_template_areas": null,
            "grid_template_columns": null,
            "grid_template_rows": null,
            "height": null,
            "justify_content": null,
            "justify_items": null,
            "left": null,
            "margin": null,
            "max_height": null,
            "max_width": null,
            "min_height": null,
            "min_width": null,
            "object_fit": null,
            "object_position": null,
            "order": null,
            "overflow": null,
            "overflow_x": null,
            "overflow_y": null,
            "padding": null,
            "right": null,
            "top": null,
            "visibility": null,
            "width": null
          }
        },
        "75d39184292b4e44be21678a0e2d011b": {
          "model_module": "@jupyter-widgets/controls",
          "model_name": "DescriptionStyleModel",
          "model_module_version": "1.5.0",
          "state": {
            "_model_module": "@jupyter-widgets/controls",
            "_model_module_version": "1.5.0",
            "_model_name": "DescriptionStyleModel",
            "_view_count": null,
            "_view_module": "@jupyter-widgets/base",
            "_view_module_version": "1.2.0",
            "_view_name": "StyleView",
            "description_width": ""
          }
        }
      }
    }
  },
  "cells": [
    {
      "cell_type": "code",
      "execution_count": 1,
      "metadata": {
        "id": "eNr6l_HENFxQ"
      },
      "outputs": [],
      "source": [
        "# imports\n",
        "import pandas as pd\n",
        "import matplotlib.pyplot as plt\n",
        "import tensorflow as tf\n",
        "import tensorflow_datasets as tfds\n",
        "from tensorflow.keras.utils import to_categorical\n",
        "from tensorflow.keras.applications import VGG16\n",
        "from tensorflow.keras.applications.vgg16 import preprocess_input\n",
        "from tensorflow.keras import Sequential, Model\n",
        "from tensorflow.keras.layers import Flatten, Dense, BatchNormalization, Dropout\n",
        "from tensorflow.keras.optimizers import Adam\n",
        "from tensorflow.keras.utils import set_random_seed\n",
        "set_random_seed(42)"
      ]
    },
    {
      "cell_type": "code",
      "source": [
        "# loading data\n",
        "(X_train, y_train), (X_test, y_test) = tfds.load(\n",
        "    \"tf_flowers\", split=[\"train[:75%]\", \"train[:25%]\"],\n",
        "    batch_size=-1, as_supervised=True)"
      ],
      "metadata": {
        "id": "XffYzbQdNZWR",
        "colab": {
          "base_uri": "https://localhost:8080/",
          "height": 104,
          "referenced_widgets": [
            "f3d35773b0234da9953d4452a8a3afc1",
            "e19a10bda37c481ca8b7cc87a8472337",
            "30d1b73e92f9444ba77aaf7559e2a63a",
            "401a72633ab04d5ca0ab4bea8be3e01e",
            "3520cc81abd745d59d86b2926ab759e2",
            "e5b42aeebe764c08a6bad411b930ac33",
            "ed0433a01e754c2593e39eb1ed450ff0",
            "b5bc57fc15034dada6e4608f42b51dee",
            "9f57c5e8c28047fc95085d6cb1101005",
            "ce069438dcca4ac19eaedca4af63e904",
            "75d39184292b4e44be21678a0e2d011b"
          ]
        },
        "outputId": "16e23585-121d-4463-87a0-22612ad31d34"
      },
      "execution_count": 2,
      "outputs": [
        {
          "output_type": "stream",
          "name": "stdout",
          "text": [
            "Downloading and preparing dataset Unknown size (download: Unknown size, generated: Unknown size, total: Unknown size) to /root/tensorflow_datasets/tf_flowers/3.0.1...\n"
          ]
        },
        {
          "output_type": "display_data",
          "data": {
            "text/plain": [
              "Dl Completed...:   0%|          | 0/5 [00:00<?, ? file/s]"
            ],
            "application/vnd.jupyter.widget-view+json": {
              "version_major": 2,
              "version_minor": 0,
              "model_id": "f3d35773b0234da9953d4452a8a3afc1"
            }
          },
          "metadata": {}
        },
        {
          "output_type": "stream",
          "name": "stdout",
          "text": [
            "Dataset tf_flowers downloaded and prepared to /root/tensorflow_datasets/tf_flowers/3.0.1. Subsequent calls will reuse this data.\n"
          ]
        }
      ]
    },
    {
      "cell_type": "code",
      "source": [
        "# resizing the data\n",
        "X_train = tf.image.resize(X_train, (224, 224))\n",
        "X_test = tf.image.resize(X_test, (224, 224))"
      ],
      "metadata": {
        "id": "yOyQyxOLOwK6"
      },
      "execution_count": 3,
      "outputs": []
    },
    {
      "cell_type": "code",
      "source": [
        "# preprocessing the input in the desired format\n",
        "X_train = preprocess_input(X_train) \n",
        "X_test = preprocess_input(X_test)"
      ],
      "metadata": {
        "id": "LUA5SmQK73IW"
      },
      "execution_count": 4,
      "outputs": []
    },
    {
      "cell_type": "code",
      "source": [
        "# OHE on target\n",
        "y_train = to_categorical(y_train, num_classes=5)\n",
        "y_test = to_categorical(y_test, num_classes=5)"
      ],
      "metadata": {
        "id": "-h6Tni4-PPW1"
      },
      "execution_count": 5,
      "outputs": []
    },
    {
      "cell_type": "code",
      "source": [
        "# getting the VGG16; freezing layers for only feature extraction\n",
        "ConvBase = VGG16(weights=\"imagenet\", include_top=False, input_shape=X_train[0].shape)\n",
        "ConvBase.trainable = False"
      ],
      "metadata": {
        "id": "Jq1u8T5WPmgu",
        "colab": {
          "base_uri": "https://localhost:8080/"
        },
        "outputId": "9af875b0-f1df-41b8-afe4-090769197a8b"
      },
      "execution_count": 6,
      "outputs": [
        {
          "output_type": "stream",
          "name": "stdout",
          "text": [
            "Downloading data from https://storage.googleapis.com/tensorflow/keras-applications/vgg16/vgg16_weights_tf_dim_ordering_tf_kernels_notop.h5\n",
            "58889256/58889256 [==============================] - 3s 0us/step\n"
          ]
        }
      ]
    },
    {
      "cell_type": "code",
      "source": [
        "# looking at the conf. of VGG16\n",
        "ConvBase.summary()"
      ],
      "metadata": {
        "colab": {
          "base_uri": "https://localhost:8080/"
        },
        "id": "gyqe9Crths-V",
        "outputId": "a90e872c-5b63-4768-ff53-f41154e158d1"
      },
      "execution_count": 7,
      "outputs": [
        {
          "output_type": "stream",
          "name": "stdout",
          "text": [
            "Model: \"vgg16\"\n",
            "_________________________________________________________________\n",
            " Layer (type)                Output Shape              Param #   \n",
            "=================================================================\n",
            " input_1 (InputLayer)        [(None, 224, 224, 3)]     0         \n",
            "                                                                 \n",
            " block1_conv1 (Conv2D)       (None, 224, 224, 64)      1792      \n",
            "                                                                 \n",
            " block1_conv2 (Conv2D)       (None, 224, 224, 64)      36928     \n",
            "                                                                 \n",
            " block1_pool (MaxPooling2D)  (None, 112, 112, 64)      0         \n",
            "                                                                 \n",
            " block2_conv1 (Conv2D)       (None, 112, 112, 128)     73856     \n",
            "                                                                 \n",
            " block2_conv2 (Conv2D)       (None, 112, 112, 128)     147584    \n",
            "                                                                 \n",
            " block2_pool (MaxPooling2D)  (None, 56, 56, 128)       0         \n",
            "                                                                 \n",
            " block3_conv1 (Conv2D)       (None, 56, 56, 256)       295168    \n",
            "                                                                 \n",
            " block3_conv2 (Conv2D)       (None, 56, 56, 256)       590080    \n",
            "                                                                 \n",
            " block3_conv3 (Conv2D)       (None, 56, 56, 256)       590080    \n",
            "                                                                 \n",
            " block3_pool (MaxPooling2D)  (None, 28, 28, 256)       0         \n",
            "                                                                 \n",
            " block4_conv1 (Conv2D)       (None, 28, 28, 512)       1180160   \n",
            "                                                                 \n",
            " block4_conv2 (Conv2D)       (None, 28, 28, 512)       2359808   \n",
            "                                                                 \n",
            " block4_conv3 (Conv2D)       (None, 28, 28, 512)       2359808   \n",
            "                                                                 \n",
            " block4_pool (MaxPooling2D)  (None, 14, 14, 512)       0         \n",
            "                                                                 \n",
            " block5_conv1 (Conv2D)       (None, 14, 14, 512)       2359808   \n",
            "                                                                 \n",
            " block5_conv2 (Conv2D)       (None, 14, 14, 512)       2359808   \n",
            "                                                                 \n",
            " block5_conv3 (Conv2D)       (None, 14, 14, 512)       2359808   \n",
            "                                                                 \n",
            " block5_pool (MaxPooling2D)  (None, 7, 7, 512)         0         \n",
            "                                                                 \n",
            "=================================================================\n",
            "Total params: 14,714,688\n",
            "Trainable params: 0\n",
            "Non-trainable params: 14,714,688\n",
            "_________________________________________________________________\n"
          ]
        }
      ]
    },
    {
      "cell_type": "code",
      "source": [
        "# model architecture with Sequential API\n",
        "model = Sequential([\n",
        "    ConvBase,\n",
        "    Flatten(),\n",
        "    Dense(40, activation='relu'),\n",
        "    BatchNormalization(),\n",
        "    Dropout(rate=.1),\n",
        "    Dense(20, activation='relu'),\n",
        "    Dense(5, activation='softmax')\n",
        "])"
      ],
      "metadata": {
        "id": "R01aTglxP_zD"
      },
      "execution_count": 8,
      "outputs": []
    },
    {
      "cell_type": "markdown",
      "source": [
        "### With Functional API:\n",
        "\n",
        "x = Flatten()(ConvBase.output)\n",
        "\n",
        "x = Dense(40, activation='relu')(x)\n",
        "\n",
        "x = BatchNormalization()(x)\n",
        "\n",
        "x = Dropout(rate=.1)(x)\n",
        "\n",
        "x = Dense(20, activation='relu')(x)\n",
        "\n",
        "output = Dense(5, activation='softmax')(x)\n",
        "\n",
        "model = Model(inputs=ConvBase.input, outputs=output)"
      ],
      "metadata": {
        "id": "q16y_KOgw8zw"
      }
    },
    {
      "cell_type": "code",
      "source": [
        "# getting a model summary\n",
        "model.summary()"
      ],
      "metadata": {
        "colab": {
          "base_uri": "https://localhost:8080/"
        },
        "id": "p53l_s5ARB5c",
        "outputId": "aec1977e-079a-4a4e-f58a-9c664c200941"
      },
      "execution_count": 9,
      "outputs": [
        {
          "output_type": "stream",
          "name": "stdout",
          "text": [
            "Model: \"sequential\"\n",
            "_________________________________________________________________\n",
            " Layer (type)                Output Shape              Param #   \n",
            "=================================================================\n",
            " vgg16 (Functional)          (None, 7, 7, 512)         14714688  \n",
            "                                                                 \n",
            " flatten (Flatten)           (None, 25088)             0         \n",
            "                                                                 \n",
            " dense (Dense)               (None, 40)                1003560   \n",
            "                                                                 \n",
            " batch_normalization (BatchN  (None, 40)               160       \n",
            " ormalization)                                                   \n",
            "                                                                 \n",
            " dropout (Dropout)           (None, 40)                0         \n",
            "                                                                 \n",
            " dense_1 (Dense)             (None, 20)                820       \n",
            "                                                                 \n",
            " dense_2 (Dense)             (None, 5)                 105       \n",
            "                                                                 \n",
            "=================================================================\n",
            "Total params: 15,719,333\n",
            "Trainable params: 1,004,565\n",
            "Non-trainable params: 14,714,768\n",
            "_________________________________________________________________\n"
          ]
        }
      ]
    },
    {
      "cell_type": "code",
      "source": [
        "# model compilation\n",
        "model.compile(optimizer=Adam(), loss='categorical_crossentropy', metrics=['accuracy'])"
      ],
      "metadata": {
        "id": "rEYAkb-lRFoY"
      },
      "execution_count": 10,
      "outputs": []
    },
    {
      "cell_type": "code",
      "source": [
        "# model training\n",
        "history = model.fit(X_train, y_train, epochs=10, batch_size=32, validation_data=(X_test, y_test), verbose=1)"
      ],
      "metadata": {
        "colab": {
          "base_uri": "https://localhost:8080/"
        },
        "id": "gx2JKP8oRebs",
        "outputId": "5bfd3616-6bf3-493c-c727-821738d1861f"
      },
      "execution_count": 11,
      "outputs": [
        {
          "output_type": "stream",
          "name": "stdout",
          "text": [
            "Epoch 1/10\n",
            "86/86 [==============================] - 34s 243ms/step - loss: 0.9583 - accuracy: 0.6548 - val_loss: 0.5044 - val_accuracy: 0.8115\n",
            "Epoch 2/10\n",
            "86/86 [==============================] - 15s 174ms/step - loss: 0.4703 - accuracy: 0.8503 - val_loss: 0.2441 - val_accuracy: 0.9194\n",
            "Epoch 3/10\n",
            "86/86 [==============================] - 13s 154ms/step - loss: 0.2725 - accuracy: 0.9186 - val_loss: 0.1407 - val_accuracy: 0.9641\n",
            "Epoch 4/10\n",
            "86/86 [==============================] - 13s 153ms/step - loss: 0.1732 - accuracy: 0.9477 - val_loss: 0.0901 - val_accuracy: 0.9869\n",
            "Epoch 5/10\n",
            "86/86 [==============================] - 15s 175ms/step - loss: 0.1196 - accuracy: 0.9648 - val_loss: 0.0616 - val_accuracy: 0.9847\n",
            "Epoch 6/10\n",
            "86/86 [==============================] - 13s 154ms/step - loss: 0.0830 - accuracy: 0.9746 - val_loss: 0.0531 - val_accuracy: 0.9913\n",
            "Epoch 7/10\n",
            "86/86 [==============================] - 15s 177ms/step - loss: 0.0652 - accuracy: 0.9822 - val_loss: 0.0310 - val_accuracy: 0.9913\n",
            "Epoch 8/10\n",
            "86/86 [==============================] - 15s 178ms/step - loss: 0.0588 - accuracy: 0.9847 - val_loss: 0.0259 - val_accuracy: 0.9956\n",
            "Epoch 9/10\n",
            "86/86 [==============================] - 15s 180ms/step - loss: 0.0433 - accuracy: 0.9887 - val_loss: 0.0140 - val_accuracy: 0.9989\n",
            "Epoch 10/10\n",
            "86/86 [==============================] - 14s 163ms/step - loss: 0.0366 - accuracy: 0.9920 - val_loss: 0.0303 - val_accuracy: 0.9902\n"
          ]
        }
      ]
    },
    {
      "cell_type": "code",
      "source": [
        "# model evaluation\n",
        "test_score = model.evaluate(X_test, y_test, verbose=0)\n",
        "print('Accuracy:', round(test_score[1] * 100, 2))"
      ],
      "metadata": {
        "id": "EJzVOMvzR44W",
        "colab": {
          "base_uri": "https://localhost:8080/"
        },
        "outputId": "a312094f-83b5-4f6f-992f-029b592e4490"
      },
      "execution_count": 12,
      "outputs": [
        {
          "output_type": "stream",
          "name": "stdout",
          "text": [
            "Accuracy: 99.02\n"
          ]
        }
      ]
    },
    {
      "cell_type": "code",
      "source": [
        "# plotting model performance\n",
        "pd.DataFrame(history.history).plot(marker='*')\n",
        "plt.xlabel('Epoch', size=12)\n",
        "plt.ylabel('Loss / Accuracy', size=12)\n",
        "plt.title('Model Evaluation', size=15);"
      ],
      "metadata": {
        "id": "9JVHd1Vyy2kR",
        "colab": {
          "base_uri": "https://localhost:8080/",
          "height": 300
        },
        "outputId": "eb5c4bc1-8373-46c8-b22c-e6f618d01c3b"
      },
      "execution_count": 13,
      "outputs": [
        {
          "output_type": "display_data",
          "data": {
            "text/plain": [
              "<Figure size 432x288 with 1 Axes>"
            ],
            "image/png": "[encoded data removed]"
          },
          "metadata": {
            "needs_background": "light"
          }
        }
      ]
    }
  ]
}