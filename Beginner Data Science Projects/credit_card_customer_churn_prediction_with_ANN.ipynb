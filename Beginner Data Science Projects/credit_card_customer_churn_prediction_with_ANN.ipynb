{
  "nbformat": 4,
  "nbformat_minor": 0,
  "metadata": {
    "colab": {
      "provenance": []
    },
    "kernelspec": {
      "name": "python3",
      "display_name": "Python 3"
    },
    "language_info": {
      "name": "python"
    },
    "accelerator": "TPU",
    "gpuClass": "standard"
  },
  "cells": [
    {
      "cell_type": "code",
      "execution_count": 1,
      "metadata": {
        "id": "Xrz7t-V_fWkJ"
      },
      "outputs": [],
      "source": [
        "# imports\n",
        "import pandas as pd\n",
        "import numpy as np\n",
        "import matplotlib.pyplot as plt\n",
        "from sklearn.model_selection import train_test_split\n",
        "from sklearn.preprocessing import StandardScaler\n",
        "from imblearn.over_sampling import ADASYN\n",
        "from collections import Counter\n",
        "from tensorflow.keras import Sequential \n",
        "from tensorflow.keras.layers import Dense, Dropout\n",
        "from sklearn.metrics import accuracy_score, confusion_matrix, classification_report\n",
        "from tensorflow.keras.utils import set_random_seed\n",
        "set_random_seed(42)"
      ]
    },
    {
      "cell_type": "code",
      "source": [
        "# loading the dataset\n",
        "df = pd.read_csv('/content/credit_card_customer_churn_dataset.csv')\n",
        "df.head()"
      ],
      "metadata": {
        "colab": {
          "base_uri": "https://localhost:8080/",
          "height": 206
        },
        "id": "0_-Y8XQ0f_ax",
        "outputId": "86d07d3c-4a75-4bf1-b641-dca0e69b94a4"
      },
      "execution_count": 2,
      "outputs": [
        {
          "output_type": "execute_result",
          "data": {
            "text/plain": [
              "   CreditScore Geography  Gender  Age  Tenure    Balance  NumOfProducts  \\\n",
              "0          619    France  Female   42       2       0.00              1   \n",
              "1          608     Spain  Female   41       1   83807.86              1   \n",
              "2          502    France  Female   42       8  159660.80              3   \n",
              "3          699    France  Female   39       1       0.00              2   \n",
              "4          850     Spain  Female   43       2  125510.82              1   \n",
              "\n",
              "   HasCrCard  IsActiveMember  EstimatedSalary  Exited  \n",
              "0          1               1        101348.88       1  \n",
              "1          0               1        112542.58       0  \n",
              "2          1               0        113931.57       1  \n",
              "3          0               0         93826.63       0  \n",
              "4          1               1         79084.10       0  "
            ],
            "text/html": [
              "\n",
              "  <div id=\"df-da94e424-8791-4149-8bd4-8617dc9717a5\">\n",
              "    <div class=\"colab-df-container\">\n",
              "      <div>\n",
              "<style scoped>\n",
              "    .dataframe tbody tr th:only-of-type {\n",
              "        vertical-align: middle;\n",
              "    }\n",
              "\n",
              "    .dataframe tbody tr th {\n",
              "        vertical-align: top;\n",
              "    }\n",
              "\n",
              "    .dataframe thead th {\n",
              "        text-align: right;\n",
              "    }\n",
              "</style>\n",
              "<table border=\"1\" class=\"dataframe\">\n",
              "  <thead>\n",
              "    <tr style=\"text-align: right;\">\n",
              "      <th></th>\n",
              "      <th>CreditScore</th>\n",
              "      <th>Geography</th>\n",
              "      <th>Gender</th>\n",
              "      <th>Age</th>\n",
              "      <th>Tenure</th>\n",
              "      <th>Balance</th>\n",
              "      <th>NumOfProducts</th>\n",
              "      <th>HasCrCard</th>\n",
              "      <th>IsActiveMember</th>\n",
              "      <th>EstimatedSalary</th>\n",
              "      <th>Exited</th>\n",
              "    </tr>\n",
              "  </thead>\n",
              "  <tbody>\n",
              "    <tr>\n",
              "      <th>0</th>\n",
              "      <td>619</td>\n",
              "      <td>France</td>\n",
              "      <td>Female</td>\n",
              "      <td>42</td>\n",
              "      <td>2</td>\n",
              "      <td>0.00</td>\n",
              "      <td>1</td>\n",
              "      <td>1</td>\n",
              "      <td>1</td>\n",
              "      <td>101348.88</td>\n",
              "      <td>1</td>\n",
              "    </tr>\n",
              "    <tr>\n",
              "      <th>1</th>\n",
              "      <td>608</td>\n",
              "      <td>Spain</td>\n",
              "      <td>Female</td>\n",
              "      <td>41</td>\n",
              "      <td>1</td>\n",
              "      <td>83807.86</td>\n",
              "      <td>1</td>\n",
              "      <td>0</td>\n",
              "      <td>1</td>\n",
              "      <td>112542.58</td>\n",
              "      <td>0</td>\n",
              "    </tr>\n",
              "    <tr>\n",
              "      <th>2</th>\n",
              "      <td>502</td>\n",
              "      <td>France</td>\n",
              "      <td>Female</td>\n",
              "      <td>42</td>\n",
              "      <td>8</td>\n",
              "      <td>159660.80</td>\n",
              "      <td>3</td>\n",
              "      <td>1</td>\n",
              "      <td>0</td>\n",
              "      <td>113931.57</td>\n",
              "      <td>1</td>\n",
              "    </tr>\n",
              "    <tr>\n",
              "      <th>3</th>\n",
              "      <td>699</td>\n",
              "      <td>France</td>\n",
              "      <td>Female</td>\n",
              "      <td>39</td>\n",
              "      <td>1</td>\n",
              "      <td>0.00</td>\n",
              "      <td>2</td>\n",
              "      <td>0</td>\n",
              "      <td>0</td>\n",
              "      <td>93826.63</td>\n",
              "      <td>0</td>\n",
              "    </tr>\n",
              "    <tr>\n",
              "      <th>4</th>\n",
              "      <td>850</td>\n",
              "      <td>Spain</td>\n",
              "      <td>Female</td>\n",
              "      <td>43</td>\n",
              "      <td>2</td>\n",
              "      <td>125510.82</td>\n",
              "      <td>1</td>\n",
              "      <td>1</td>\n",
              "      <td>1</td>\n",
              "      <td>79084.10</td>\n",
              "      <td>0</td>\n",
              "    </tr>\n",
              "  </tbody>\n",
              "</table>\n",
              "</div>\n",
              "      <button class=\"colab-df-convert\" onclick=\"convertToInteractive('df-da94e424-8791-4149-8bd4-8617dc9717a5')\"\n",
              "              title=\"Convert this dataframe to an interactive table.\"\n",
              "              style=\"display:none;\">\n",
              "        \n",
              "  <svg xmlns=\"http://www.w3.org/2000/svg\" height=\"24px\"viewBox=\"0 0 24 24\"\n",
              "       width=\"24px\">\n",
              "    <path d=\"M0 0h24v24H0V0z\" fill=\"none\"/>\n",
              "    <path d=\"M18.56 5.44l.94 2.06.94-2.06 2.06-.94-2.06-.94-.94-2.06-.94 2.06-2.06.94zm-11 1L8.5 8.5l.94-2.06 2.06-.94-2.06-.94L8.5 2.5l-.94 2.06-2.06.94zm10 10l.94 2.06.94-2.06 2.06-.94-2.06-.94-.94-2.06-.94 2.06-2.06.94z\"/><path d=\"M17.41 7.96l-1.37-1.37c-.4-.4-.92-.59-1.43-.59-.52 0-1.04.2-1.43.59L10.3 9.45l-7.72 7.72c-.78.78-.78 2.05 0 2.83L4 21.41c.39.39.9.59 1.41.59.51 0 1.02-.2 1.41-.59l7.78-7.78 2.81-2.81c.8-.78.8-2.07 0-2.86zM5.41 20L4 18.59l7.72-7.72 1.47 1.35L5.41 20z\"/>\n",
              "  </svg>\n",
              "      </button>\n",
              "      \n",
              "  <style>\n",
              "    .colab-df-container {\n",
              "      display:flex;\n",
              "      flex-wrap:wrap;\n",
              "      gap: 12px;\n",
              "    }\n",
              "\n",
              "    .colab-df-convert {\n",
              "      background-color: #E8F0FE;\n",
              "      border: none;\n",
              "      border-radius: 50%;\n",
              "      cursor: pointer;\n",
              "      display: none;\n",
              "      fill: #1967D2;\n",
              "      height: 32px;\n",
              "      padding: 0 0 0 0;\n",
              "      width: 32px;\n",
              "    }\n",
              "\n",
              "    .colab-df-convert:hover {\n",
              "      background-color: #E2EBFA;\n",
              "      box-shadow: 0px 1px 2px rgba(60, 64, 67, 0.3), 0px 1px 3px 1px rgba(60, 64, 67, 0.15);\n",
              "      fill: #174EA6;\n",
              "    }\n",
              "\n",
              "    [theme=dark] .colab-df-convert {\n",
              "      background-color: #3B4455;\n",
              "      fill: #D2E3FC;\n",
              "    }\n",
              "\n",
              "    [theme=dark] .colab-df-convert:hover {\n",
              "      background-color: #434B5C;\n",
              "      box-shadow: 0px 1px 3px 1px rgba(0, 0, 0, 0.15);\n",
              "      filter: drop-shadow(0px 1px 2px rgba(0, 0, 0, 0.3));\n",
              "      fill: #FFFFFF;\n",
              "    }\n",
              "  </style>\n",
              "\n",
              "      <script>\n",
              "        const buttonEl =\n",
              "          document.querySelector('#df-da94e424-8791-4149-8bd4-8617dc9717a5 button.colab-df-convert');\n",
              "        buttonEl.style.display =\n",
              "          google.colab.kernel.accessAllowed ? 'block' : 'none';\n",
              "\n",
              "        async function convertToInteractive(key) {\n",
              "          const element = document.querySelector('#df-da94e424-8791-4149-8bd4-8617dc9717a5');\n",
              "          const dataTable =\n",
              "            await google.colab.kernel.invokeFunction('convertToInteractive',\n",
              "                                                     [key], {});\n",
              "          if (!dataTable) return;\n",
              "\n",
              "          const docLinkHtml = 'Like what you see? Visit the ' +\n",
              "            '<a target=\"_blank\" href=https://colab.research.google.com/notebooks/data_table.ipynb>data table notebook</a>'\n",
              "            + ' to learn more about interactive tables.';\n",
              "          element.innerHTML = '';\n",
              "          dataTable['output_type'] = 'display_data';\n",
              "          await google.colab.output.renderOutput(dataTable, element);\n",
              "          const docLink = document.createElement('div');\n",
              "          docLink.innerHTML = docLinkHtml;\n",
              "          element.appendChild(docLink);\n",
              "        }\n",
              "      </script>\n",
              "    </div>\n",
              "  </div>\n",
              "  "
            ]
          },
          "metadata": {},
          "execution_count": 2
        }
      ]
    },
    {
      "cell_type": "code",
      "source": [
        "# getting the info. of dataset\n",
        "df.info()"
      ],
      "metadata": {
        "colab": {
          "base_uri": "https://localhost:8080/"
        },
        "id": "0LMYLzBZgEix",
        "outputId": "b93b541e-f698-40d2-c0f6-35513a2aafc8"
      },
      "execution_count": 3,
      "outputs": [
        {
          "output_type": "stream",
          "name": "stdout",
          "text": [
            "<class 'pandas.core.frame.DataFrame'>\n",
            "RangeIndex: 10000 entries, 0 to 9999\n",
            "Data columns (total 11 columns):\n",
            " #   Column           Non-Null Count  Dtype  \n",
            "---  ------           --------------  -----  \n",
            " 0   CreditScore      10000 non-null  int64  \n",
            " 1   Geography        10000 non-null  object \n",
            " 2   Gender           10000 non-null  object \n",
            " 3   Age              10000 non-null  int64  \n",
            " 4   Tenure           10000 non-null  int64  \n",
            " 5   Balance          10000 non-null  float64\n",
            " 6   NumOfProducts    10000 non-null  int64  \n",
            " 7   HasCrCard        10000 non-null  int64  \n",
            " 8   IsActiveMember   10000 non-null  int64  \n",
            " 9   EstimatedSalary  10000 non-null  float64\n",
            " 10  Exited           10000 non-null  int64  \n",
            "dtypes: float64(2), int64(7), object(2)\n",
            "memory usage: 859.5+ KB\n"
          ]
        }
      ]
    },
    {
      "cell_type": "code",
      "source": [
        "# checking duplicates\n",
        "df.duplicated().sum()"
      ],
      "metadata": {
        "colab": {
          "base_uri": "https://localhost:8080/"
        },
        "id": "BtpumBmNgKWf",
        "outputId": "5da265d7-7d8a-44aa-c2d0-490295abde7c"
      },
      "execution_count": 4,
      "outputs": [
        {
          "output_type": "execute_result",
          "data": {
            "text/plain": [
              "0"
            ]
          },
          "metadata": {},
          "execution_count": 4
        }
      ]
    },
    {
      "cell_type": "code",
      "source": [
        "# encoding the categorical features\n",
        "df = pd.get_dummies(data=df, columns=['Geography', 'Gender'], drop_first=True)"
      ],
      "metadata": {
        "id": "qozFOYvRgXFP"
      },
      "execution_count": 5,
      "outputs": []
    },
    {
      "cell_type": "code",
      "source": [
        "# getting the value count of target; data is imbalanced\n",
        "df['Exited'].value_counts()"
      ],
      "metadata": {
        "colab": {
          "base_uri": "https://localhost:8080/"
        },
        "id": "sMyIYYCMhSiu",
        "outputId": "bb5c4551-ed8b-483e-930b-4b7d36789748"
      },
      "execution_count": 6,
      "outputs": [
        {
          "output_type": "execute_result",
          "data": {
            "text/plain": [
              "0    7963\n",
              "1    2037\n",
              "Name: Exited, dtype: int64"
            ]
          },
          "metadata": {},
          "execution_count": 6
        }
      ]
    },
    {
      "cell_type": "code",
      "source": [
        "# creating X & y\n",
        "X = df.drop(['Exited'], axis=1)\n",
        "y = df['Exited']"
      ],
      "metadata": {
        "id": "uQFwGMMuhWjR"
      },
      "execution_count": 7,
      "outputs": []
    },
    {
      "cell_type": "code",
      "source": [
        "# splitting the data into training & testing sets\n",
        "X_train, X_test, y_train, y_test = train_test_split(X, y, test_size=0.2, random_state=20)"
      ],
      "metadata": {
        "id": "agZjD-CmiFWB"
      },
      "execution_count": 8,
      "outputs": []
    },
    {
      "cell_type": "code",
      "source": [
        "# handling the imbalance\n",
        "adas = ADASYN()\n",
        "X_train, y_train = adas.fit_resample(X_train, y_train)"
      ],
      "metadata": {
        "id": "HEKuTpyXoLJ6"
      },
      "execution_count": 9,
      "outputs": []
    },
    {
      "cell_type": "code",
      "source": [
        "# scaling the data\n",
        "scaler = StandardScaler()\n",
        "X_train = scaler.fit_transform(X_train)\n",
        "X_test = scaler.transform(X_test)"
      ],
      "metadata": {
        "id": "KQtAH9xYibDN"
      },
      "execution_count": 10,
      "outputs": []
    },
    {
      "cell_type": "code",
      "source": [
        "# defining an ANN architecture; shape (10000, 11)\n",
        "model = Sequential()\n",
        "model.add(Dense(11, activation='relu', input_dim=11))\n",
        "model.add(Dropout(rate=.2))\n",
        "model.add(Dense(11, activation='relu'))\n",
        "model.add(Dense(1, activation='sigmoid'))"
      ],
      "metadata": {
        "id": "vIFUnNAYi0jG"
      },
      "execution_count": 11,
      "outputs": []
    },
    {
      "cell_type": "code",
      "source": [
        "# getting an overall summary of the architecture\n",
        "model.summary()"
      ],
      "metadata": {
        "colab": {
          "base_uri": "https://localhost:8080/"
        },
        "id": "2vzMe8sVjgxT",
        "outputId": "73db3c32-5000-46cf-c8db-b5c4d69e0e79"
      },
      "execution_count": 12,
      "outputs": [
        {
          "output_type": "stream",
          "name": "stdout",
          "text": [
            "Model: \"sequential\"\n",
            "_________________________________________________________________\n",
            " Layer (type)                Output Shape              Param #   \n",
            "=================================================================\n",
            " dense (Dense)               (None, 11)                132       \n",
            "                                                                 \n",
            " dropout (Dropout)           (None, 11)                0         \n",
            "                                                                 \n",
            " dense_1 (Dense)             (None, 11)                132       \n",
            "                                                                 \n",
            " dense_2 (Dense)             (None, 1)                 12        \n",
            "                                                                 \n",
            "=================================================================\n",
            "Total params: 276\n",
            "Trainable params: 276\n",
            "Non-trainable params: 0\n",
            "_________________________________________________________________\n"
          ]
        }
      ]
    },
    {
      "cell_type": "code",
      "source": [
        "# compilation\n",
        "model.compile(loss='binary_crossentropy', optimizer='Adam', metrics=['accuracy'])"
      ],
      "metadata": {
        "id": "YfuUiNXYjlZB"
      },
      "execution_count": 13,
      "outputs": []
    },
    {
      "cell_type": "code",
      "source": [
        "# training\n",
        "history = model.fit(X_train, y_train, batch_size=50, epochs=100, validation_split=0.2, verbose=1)"
      ],
      "metadata": {
        "colab": {
          "base_uri": "https://localhost:8080/"
        },
        "id": "FZ8q3zTzjzmd",
        "outputId": "95791b0e-d76b-4f2f-8841-5a944cef1d69"
      },
      "execution_count": 14,
      "outputs": [
        {
          "output_type": "stream",
          "name": "stdout",
          "text": [
            "Epoch 1/100\n",
            "206/206 [==============================] - 5s 15ms/step - loss: 0.6081 - accuracy: 0.6492 - val_loss: 0.6982 - val_accuracy: 0.6219\n",
            "Epoch 2/100\n",
            "206/206 [==============================] - 2s 8ms/step - loss: 0.5468 - accuracy: 0.7285 - val_loss: 0.5717 - val_accuracy: 0.7534\n",
            "Epoch 3/100\n",
            "206/206 [==============================] - 1s 6ms/step - loss: 0.5133 - accuracy: 0.7557 - val_loss: 0.5026 - val_accuracy: 0.7924\n",
            "Epoch 4/100\n",
            "206/206 [==============================] - 1s 6ms/step - loss: 0.4956 - accuracy: 0.7679 - val_loss: 0.4589 - val_accuracy: 0.8100\n",
            "Epoch 5/100\n",
            "206/206 [==============================] - 1s 6ms/step - loss: 0.4854 - accuracy: 0.7764 - val_loss: 0.4394 - val_accuracy: 0.8131\n",
            "Epoch 6/100\n",
            "206/206 [==============================] - 2s 8ms/step - loss: 0.4748 - accuracy: 0.7793 - val_loss: 0.4269 - val_accuracy: 0.8127\n",
            "Epoch 7/100\n",
            "206/206 [==============================] - 1s 7ms/step - loss: 0.4700 - accuracy: 0.7797 - val_loss: 0.4438 - val_accuracy: 0.8002\n",
            "Epoch 8/100\n",
            "206/206 [==============================] - 1s 6ms/step - loss: 0.4640 - accuracy: 0.7849 - val_loss: 0.4103 - val_accuracy: 0.8291\n",
            "Epoch 9/100\n",
            "206/206 [==============================] - 1s 6ms/step - loss: 0.4556 - accuracy: 0.7920 - val_loss: 0.4171 - val_accuracy: 0.8209\n",
            "Epoch 10/100\n",
            "206/206 [==============================] - 2s 7ms/step - loss: 0.4509 - accuracy: 0.7933 - val_loss: 0.4061 - val_accuracy: 0.8240\n",
            "Epoch 11/100\n",
            "206/206 [==============================] - 3s 13ms/step - loss: 0.4433 - accuracy: 0.7940 - val_loss: 0.4135 - val_accuracy: 0.8135\n",
            "Epoch 12/100\n",
            "206/206 [==============================] - 3s 13ms/step - loss: 0.4387 - accuracy: 0.7973 - val_loss: 0.3969 - val_accuracy: 0.8201\n",
            "Epoch 13/100\n",
            "206/206 [==============================] - 2s 10ms/step - loss: 0.4375 - accuracy: 0.7994 - val_loss: 0.3846 - val_accuracy: 0.8260\n",
            "Epoch 14/100\n",
            "206/206 [==============================] - 1s 7ms/step - loss: 0.4326 - accuracy: 0.7979 - val_loss: 0.4065 - val_accuracy: 0.8123\n",
            "Epoch 15/100\n",
            "206/206 [==============================] - 1s 5ms/step - loss: 0.4296 - accuracy: 0.7998 - val_loss: 0.4067 - val_accuracy: 0.8092\n",
            "Epoch 16/100\n",
            "206/206 [==============================] - 1s 6ms/step - loss: 0.4242 - accuracy: 0.8058 - val_loss: 0.3906 - val_accuracy: 0.8186\n",
            "Epoch 17/100\n",
            "206/206 [==============================] - 1s 7ms/step - loss: 0.4268 - accuracy: 0.8024 - val_loss: 0.4087 - val_accuracy: 0.8092\n",
            "Epoch 18/100\n",
            "206/206 [==============================] - 1s 5ms/step - loss: 0.4255 - accuracy: 0.8056 - val_loss: 0.3629 - val_accuracy: 0.8322\n",
            "Epoch 19/100\n",
            "206/206 [==============================] - 1s 6ms/step - loss: 0.4243 - accuracy: 0.8020 - val_loss: 0.4125 - val_accuracy: 0.8053\n",
            "Epoch 20/100\n",
            "206/206 [==============================] - 1s 7ms/step - loss: 0.4258 - accuracy: 0.8058 - val_loss: 0.3943 - val_accuracy: 0.8182\n",
            "Epoch 21/100\n",
            "206/206 [==============================] - 2s 10ms/step - loss: 0.4177 - accuracy: 0.8083 - val_loss: 0.3814 - val_accuracy: 0.8299\n",
            "Epoch 22/100\n",
            "206/206 [==============================] - 2s 10ms/step - loss: 0.4173 - accuracy: 0.8068 - val_loss: 0.3731 - val_accuracy: 0.8318\n",
            "Epoch 23/100\n",
            "206/206 [==============================] - 2s 12ms/step - loss: 0.4189 - accuracy: 0.8060 - val_loss: 0.3944 - val_accuracy: 0.8182\n",
            "Epoch 24/100\n",
            "206/206 [==============================] - 1s 7ms/step - loss: 0.4136 - accuracy: 0.8115 - val_loss: 0.3976 - val_accuracy: 0.8186\n",
            "Epoch 25/100\n",
            "206/206 [==============================] - 1s 3ms/step - loss: 0.4169 - accuracy: 0.8094 - val_loss: 0.3834 - val_accuracy: 0.8256\n",
            "Epoch 26/100\n",
            "206/206 [==============================] - 1s 3ms/step - loss: 0.4125 - accuracy: 0.8085 - val_loss: 0.4083 - val_accuracy: 0.8104\n",
            "Epoch 27/100\n",
            "206/206 [==============================] - 1s 3ms/step - loss: 0.4169 - accuracy: 0.8103 - val_loss: 0.4128 - val_accuracy: 0.8080\n",
            "Epoch 28/100\n",
            "206/206 [==============================] - 1s 4ms/step - loss: 0.4159 - accuracy: 0.8110 - val_loss: 0.3867 - val_accuracy: 0.8213\n",
            "Epoch 29/100\n",
            "206/206 [==============================] - 1s 3ms/step - loss: 0.4128 - accuracy: 0.8126 - val_loss: 0.3945 - val_accuracy: 0.8166\n",
            "Epoch 30/100\n",
            "206/206 [==============================] - 1s 3ms/step - loss: 0.4158 - accuracy: 0.8122 - val_loss: 0.3634 - val_accuracy: 0.8381\n",
            "Epoch 31/100\n",
            "206/206 [==============================] - 1s 3ms/step - loss: 0.4143 - accuracy: 0.8099 - val_loss: 0.3949 - val_accuracy: 0.8170\n",
            "Epoch 32/100\n",
            "206/206 [==============================] - 1s 3ms/step - loss: 0.4117 - accuracy: 0.8099 - val_loss: 0.3778 - val_accuracy: 0.8272\n",
            "Epoch 33/100\n",
            "206/206 [==============================] - 1s 3ms/step - loss: 0.4119 - accuracy: 0.8179 - val_loss: 0.4076 - val_accuracy: 0.8076\n",
            "Epoch 34/100\n",
            "206/206 [==============================] - 1s 3ms/step - loss: 0.4137 - accuracy: 0.8119 - val_loss: 0.3906 - val_accuracy: 0.8205\n",
            "Epoch 35/100\n",
            "206/206 [==============================] - 1s 3ms/step - loss: 0.4137 - accuracy: 0.8109 - val_loss: 0.3721 - val_accuracy: 0.8303\n",
            "Epoch 36/100\n",
            "206/206 [==============================] - 1s 3ms/step - loss: 0.4094 - accuracy: 0.8128 - val_loss: 0.3950 - val_accuracy: 0.8158\n",
            "Epoch 37/100\n",
            "206/206 [==============================] - 1s 3ms/step - loss: 0.4157 - accuracy: 0.8103 - val_loss: 0.4202 - val_accuracy: 0.8030\n",
            "Epoch 38/100\n",
            "206/206 [==============================] - 1s 3ms/step - loss: 0.4094 - accuracy: 0.8155 - val_loss: 0.3863 - val_accuracy: 0.8213\n",
            "Epoch 39/100\n",
            "206/206 [==============================] - 1s 4ms/step - loss: 0.4147 - accuracy: 0.8109 - val_loss: 0.4011 - val_accuracy: 0.8127\n",
            "Epoch 40/100\n",
            "206/206 [==============================] - 1s 5ms/step - loss: 0.4086 - accuracy: 0.8120 - val_loss: 0.4085 - val_accuracy: 0.8092\n",
            "Epoch 41/100\n",
            "206/206 [==============================] - 1s 5ms/step - loss: 0.4106 - accuracy: 0.8131 - val_loss: 0.3777 - val_accuracy: 0.8225\n",
            "Epoch 42/100\n",
            "206/206 [==============================] - 1s 5ms/step - loss: 0.4104 - accuracy: 0.8120 - val_loss: 0.3735 - val_accuracy: 0.8268\n",
            "Epoch 43/100\n",
            "206/206 [==============================] - 1s 5ms/step - loss: 0.4104 - accuracy: 0.8138 - val_loss: 0.3896 - val_accuracy: 0.8201\n",
            "Epoch 44/100\n",
            "206/206 [==============================] - 1s 5ms/step - loss: 0.4075 - accuracy: 0.8165 - val_loss: 0.3836 - val_accuracy: 0.8205\n",
            "Epoch 45/100\n",
            "206/206 [==============================] - 1s 5ms/step - loss: 0.4059 - accuracy: 0.8162 - val_loss: 0.4072 - val_accuracy: 0.8088\n",
            "Epoch 46/100\n",
            "206/206 [==============================] - 1s 3ms/step - loss: 0.4079 - accuracy: 0.8143 - val_loss: 0.3652 - val_accuracy: 0.8326\n",
            "Epoch 47/100\n",
            "206/206 [==============================] - 1s 3ms/step - loss: 0.4092 - accuracy: 0.8151 - val_loss: 0.4177 - val_accuracy: 0.8030\n",
            "Epoch 48/100\n",
            "206/206 [==============================] - 1s 3ms/step - loss: 0.4085 - accuracy: 0.8136 - val_loss: 0.3630 - val_accuracy: 0.8322\n",
            "Epoch 49/100\n",
            "206/206 [==============================] - 1s 3ms/step - loss: 0.4063 - accuracy: 0.8164 - val_loss: 0.4136 - val_accuracy: 0.8030\n",
            "Epoch 50/100\n",
            "206/206 [==============================] - 1s 3ms/step - loss: 0.4057 - accuracy: 0.8173 - val_loss: 0.4256 - val_accuracy: 0.7959\n",
            "Epoch 51/100\n",
            "206/206 [==============================] - 1s 3ms/step - loss: 0.4065 - accuracy: 0.8161 - val_loss: 0.3676 - val_accuracy: 0.8303\n",
            "Epoch 52/100\n",
            "206/206 [==============================] - 1s 3ms/step - loss: 0.4066 - accuracy: 0.8166 - val_loss: 0.3982 - val_accuracy: 0.8123\n",
            "Epoch 53/100\n",
            "206/206 [==============================] - 1s 3ms/step - loss: 0.4047 - accuracy: 0.8154 - val_loss: 0.3802 - val_accuracy: 0.8213\n",
            "Epoch 54/100\n",
            "206/206 [==============================] - 1s 3ms/step - loss: 0.4050 - accuracy: 0.8150 - val_loss: 0.3813 - val_accuracy: 0.8233\n",
            "Epoch 55/100\n",
            "206/206 [==============================] - 1s 3ms/step - loss: 0.4047 - accuracy: 0.8166 - val_loss: 0.3907 - val_accuracy: 0.8158\n",
            "Epoch 56/100\n",
            "206/206 [==============================] - 1s 3ms/step - loss: 0.4034 - accuracy: 0.8174 - val_loss: 0.3941 - val_accuracy: 0.8123\n",
            "Epoch 57/100\n",
            "206/206 [==============================] - 1s 3ms/step - loss: 0.4062 - accuracy: 0.8186 - val_loss: 0.3800 - val_accuracy: 0.8233\n",
            "Epoch 58/100\n",
            "206/206 [==============================] - 1s 3ms/step - loss: 0.4064 - accuracy: 0.8201 - val_loss: 0.3681 - val_accuracy: 0.8291\n",
            "Epoch 59/100\n",
            "206/206 [==============================] - 1s 3ms/step - loss: 0.4052 - accuracy: 0.8182 - val_loss: 0.3969 - val_accuracy: 0.8104\n",
            "Epoch 60/100\n",
            "206/206 [==============================] - 1s 3ms/step - loss: 0.4029 - accuracy: 0.8200 - val_loss: 0.3902 - val_accuracy: 0.8119\n",
            "Epoch 61/100\n",
            "206/206 [==============================] - 1s 4ms/step - loss: 0.4028 - accuracy: 0.8187 - val_loss: 0.3653 - val_accuracy: 0.8318\n",
            "Epoch 62/100\n",
            "206/206 [==============================] - 1s 5ms/step - loss: 0.4039 - accuracy: 0.8177 - val_loss: 0.4121 - val_accuracy: 0.8014\n",
            "Epoch 63/100\n",
            "206/206 [==============================] - 1s 5ms/step - loss: 0.4040 - accuracy: 0.8154 - val_loss: 0.3897 - val_accuracy: 0.8158\n",
            "Epoch 64/100\n",
            "206/206 [==============================] - 1s 4ms/step - loss: 0.4034 - accuracy: 0.8193 - val_loss: 0.3967 - val_accuracy: 0.8115\n",
            "Epoch 65/100\n",
            "206/206 [==============================] - 1s 5ms/step - loss: 0.4047 - accuracy: 0.8160 - val_loss: 0.4032 - val_accuracy: 0.8073\n",
            "Epoch 66/100\n",
            "206/206 [==============================] - 1s 5ms/step - loss: 0.4034 - accuracy: 0.8162 - val_loss: 0.3896 - val_accuracy: 0.8166\n",
            "Epoch 67/100\n",
            "206/206 [==============================] - 1s 4ms/step - loss: 0.3998 - accuracy: 0.8208 - val_loss: 0.3953 - val_accuracy: 0.8147\n",
            "Epoch 68/100\n",
            "206/206 [==============================] - 1s 3ms/step - loss: 0.4027 - accuracy: 0.8181 - val_loss: 0.4011 - val_accuracy: 0.8119\n",
            "Epoch 69/100\n",
            "206/206 [==============================] - 1s 3ms/step - loss: 0.4017 - accuracy: 0.8162 - val_loss: 0.4027 - val_accuracy: 0.8084\n",
            "Epoch 70/100\n",
            "206/206 [==============================] - 1s 3ms/step - loss: 0.4008 - accuracy: 0.8206 - val_loss: 0.3962 - val_accuracy: 0.8162\n",
            "Epoch 71/100\n",
            "206/206 [==============================] - 1s 3ms/step - loss: 0.4024 - accuracy: 0.8185 - val_loss: 0.4035 - val_accuracy: 0.8108\n",
            "Epoch 72/100\n",
            "206/206 [==============================] - 1s 3ms/step - loss: 0.4014 - accuracy: 0.8187 - val_loss: 0.4080 - val_accuracy: 0.8112\n",
            "Epoch 73/100\n",
            "206/206 [==============================] - 1s 3ms/step - loss: 0.3979 - accuracy: 0.8207 - val_loss: 0.3999 - val_accuracy: 0.8112\n",
            "Epoch 74/100\n",
            "206/206 [==============================] - 1s 3ms/step - loss: 0.3981 - accuracy: 0.8218 - val_loss: 0.4061 - val_accuracy: 0.8061\n",
            "Epoch 75/100\n",
            "206/206 [==============================] - 1s 3ms/step - loss: 0.3992 - accuracy: 0.8221 - val_loss: 0.3667 - val_accuracy: 0.8330\n",
            "Epoch 76/100\n",
            "206/206 [==============================] - 1s 3ms/step - loss: 0.4002 - accuracy: 0.8191 - val_loss: 0.4220 - val_accuracy: 0.7948\n",
            "Epoch 77/100\n",
            "206/206 [==============================] - 1s 3ms/step - loss: 0.4002 - accuracy: 0.8205 - val_loss: 0.3875 - val_accuracy: 0.8182\n",
            "Epoch 78/100\n",
            "206/206 [==============================] - 1s 3ms/step - loss: 0.4010 - accuracy: 0.8191 - val_loss: 0.3891 - val_accuracy: 0.8170\n",
            "Epoch 79/100\n",
            "206/206 [==============================] - 1s 3ms/step - loss: 0.4019 - accuracy: 0.8187 - val_loss: 0.3760 - val_accuracy: 0.8260\n",
            "Epoch 80/100\n",
            "206/206 [==============================] - 1s 3ms/step - loss: 0.3984 - accuracy: 0.8205 - val_loss: 0.4022 - val_accuracy: 0.8155\n",
            "Epoch 81/100\n",
            "206/206 [==============================] - 1s 3ms/step - loss: 0.4011 - accuracy: 0.8179 - val_loss: 0.4077 - val_accuracy: 0.8061\n",
            "Epoch 82/100\n",
            "206/206 [==============================] - 1s 3ms/step - loss: 0.3987 - accuracy: 0.8223 - val_loss: 0.4057 - val_accuracy: 0.8065\n",
            "Epoch 83/100\n",
            "206/206 [==============================] - 1s 5ms/step - loss: 0.3986 - accuracy: 0.8199 - val_loss: 0.3677 - val_accuracy: 0.8322\n",
            "Epoch 84/100\n",
            "206/206 [==============================] - 1s 5ms/step - loss: 0.3994 - accuracy: 0.8216 - val_loss: 0.4024 - val_accuracy: 0.8080\n",
            "Epoch 85/100\n",
            "206/206 [==============================] - 1s 5ms/step - loss: 0.4005 - accuracy: 0.8200 - val_loss: 0.3553 - val_accuracy: 0.8393\n",
            "Epoch 86/100\n",
            "206/206 [==============================] - 1s 4ms/step - loss: 0.3982 - accuracy: 0.8214 - val_loss: 0.4033 - val_accuracy: 0.8096\n",
            "Epoch 87/100\n",
            "206/206 [==============================] - 1s 5ms/step - loss: 0.4015 - accuracy: 0.8196 - val_loss: 0.4146 - val_accuracy: 0.8002\n",
            "Epoch 88/100\n",
            "206/206 [==============================] - 1s 5ms/step - loss: 0.4003 - accuracy: 0.8191 - val_loss: 0.3881 - val_accuracy: 0.8233\n",
            "Epoch 89/100\n",
            "206/206 [==============================] - 1s 3ms/step - loss: 0.3995 - accuracy: 0.8209 - val_loss: 0.4076 - val_accuracy: 0.8088\n",
            "Epoch 90/100\n",
            "206/206 [==============================] - 1s 3ms/step - loss: 0.3995 - accuracy: 0.8218 - val_loss: 0.3917 - val_accuracy: 0.8213\n",
            "Epoch 91/100\n",
            "206/206 [==============================] - 1s 3ms/step - loss: 0.3992 - accuracy: 0.8199 - val_loss: 0.4273 - val_accuracy: 0.7917\n",
            "Epoch 92/100\n",
            "206/206 [==============================] - 1s 3ms/step - loss: 0.3990 - accuracy: 0.8194 - val_loss: 0.3846 - val_accuracy: 0.8264\n",
            "Epoch 93/100\n",
            "206/206 [==============================] - 1s 3ms/step - loss: 0.4027 - accuracy: 0.8172 - val_loss: 0.3853 - val_accuracy: 0.8217\n",
            "Epoch 94/100\n",
            "206/206 [==============================] - 1s 3ms/step - loss: 0.3962 - accuracy: 0.8215 - val_loss: 0.3882 - val_accuracy: 0.8186\n",
            "Epoch 95/100\n",
            "206/206 [==============================] - 1s 3ms/step - loss: 0.3981 - accuracy: 0.8202 - val_loss: 0.3875 - val_accuracy: 0.8221\n",
            "Epoch 96/100\n",
            "206/206 [==============================] - 1s 3ms/step - loss: 0.3974 - accuracy: 0.8194 - val_loss: 0.4118 - val_accuracy: 0.8049\n",
            "Epoch 97/100\n",
            "206/206 [==============================] - 1s 3ms/step - loss: 0.4013 - accuracy: 0.8189 - val_loss: 0.4192 - val_accuracy: 0.7963\n",
            "Epoch 98/100\n",
            "206/206 [==============================] - 1s 3ms/step - loss: 0.3993 - accuracy: 0.8205 - val_loss: 0.3871 - val_accuracy: 0.8209\n",
            "Epoch 99/100\n",
            "206/206 [==============================] - 1s 3ms/step - loss: 0.3998 - accuracy: 0.8191 - val_loss: 0.3970 - val_accuracy: 0.8162\n",
            "Epoch 100/100\n",
            "206/206 [==============================] - 1s 3ms/step - loss: 0.3990 - accuracy: 0.8203 - val_loss: 0.3888 - val_accuracy: 0.8178\n"
          ]
        }
      ]
    },
    {
      "cell_type": "code",
      "source": [
        "# checking the accuracy\n",
        "y_log = model.predict(X_test)\n",
        "y_pred = np.where(y_log > 0.5, 1, 0)\n",
        "print('Accuracy: ', accuracy_score(y_test, y_pred) * 100)"
      ],
      "metadata": {
        "colab": {
          "base_uri": "https://localhost:8080/"
        },
        "id": "srPdC_8fj98G",
        "outputId": "01ee93c5-f0e4-4486-8a3d-1086d27fccec"
      },
      "execution_count": 15,
      "outputs": [
        {
          "output_type": "stream",
          "name": "stdout",
          "text": [
            "63/63 [==============================] - 0s 1ms/step\n",
            "Accuracy:  82.5\n"
          ]
        }
      ]
    },
    {
      "cell_type": "code",
      "source": [
        "# getting a CM\n",
        "confusion_matrix(y_test, y_pred)"
      ],
      "metadata": {
        "colab": {
          "base_uri": "https://localhost:8080/"
        },
        "id": "0bKDhtzYkeEu",
        "outputId": "5090cb54-54f7-42dc-b8fd-c940b085010d"
      },
      "execution_count": 16,
      "outputs": [
        {
          "output_type": "execute_result",
          "data": {
            "text/plain": [
              "array([[1428,  195],\n",
              "       [ 155,  222]])"
            ]
          },
          "metadata": {},
          "execution_count": 16
        }
      ]
    },
    {
      "cell_type": "code",
      "source": [
        "# printing a clf report\n",
        "print(classification_report(y_test, y_pred))"
      ],
      "metadata": {
        "colab": {
          "base_uri": "https://localhost:8080/"
        },
        "id": "u0FGmZDuxLJP",
        "outputId": "06b838ca-7858-4d4a-c5f0-b6d342ef2164"
      },
      "execution_count": 17,
      "outputs": [
        {
          "output_type": "stream",
          "name": "stdout",
          "text": [
            "              precision    recall  f1-score   support\n",
            "\n",
            "           0       0.90      0.88      0.89      1623\n",
            "           1       0.53      0.59      0.56       377\n",
            "\n",
            "    accuracy                           0.82      2000\n",
            "   macro avg       0.72      0.73      0.73      2000\n",
            "weighted avg       0.83      0.82      0.83      2000\n",
            "\n"
          ]
        }
      ]
    },
    {
      "cell_type": "code",
      "source": [
        "# plotting the loss\n",
        "plt.plot(history.history['loss'], label='Training')\n",
        "plt.plot(history.history['val_loss'], label='Validation')\n",
        "plt.xlabel('Epochs')\n",
        "plt.ylabel('Loss')\n",
        "plt.title('Loss Evaluation', size=12)\n",
        "plt.legend();"
      ],
      "metadata": {
        "colab": {
          "base_uri": "https://localhost:8080/",
          "height": 295
        },
        "id": "bsF_iLQO12J5",
        "outputId": "39acf617-a21b-4e6c-ba19-71b6abb2e5a4"
      },
      "execution_count": 18,
      "outputs": [
        {
          "output_type": "display_data",
          "data": {
            "text/plain": [
              "<Figure size 432x288 with 1 Axes>"
            ],
            "image/png": "[encoded data removed]"
          },
          "metadata": {
            "needs_background": "light"
          }
        }
      ]
    },
    {
      "cell_type": "code",
      "source": [
        "# plotting the accuracy\n",
        "plt.plot(history.history['accuracy'], label='Training')\n",
        "plt.plot(history.history['val_accuracy'], label='Validation')\n",
        "plt.xlabel('Epochs')\n",
        "plt.ylabel('Accuracy')\n",
        "plt.title('Accuracy Evaluation', size=12)\n",
        "plt.legend();"
      ],
      "metadata": {
        "colab": {
          "base_uri": "https://localhost:8080/",
          "height": 295
        },
        "id": "TL8KSMpN13Jk",
        "outputId": "4ba2c1bf-b92d-4778-c200-75a0b6437ffb"
      },
      "execution_count": 19,
      "outputs": [
        {
          "output_type": "display_data",
          "data": {
            "text/plain": [
              "<Figure size 432x288 with 1 Axes>"
            ],
            "image/png": "[encoded data removed]"
          },
          "metadata": {
            "needs_background": "light"
          }
        }
      ]
    }
  ]
}