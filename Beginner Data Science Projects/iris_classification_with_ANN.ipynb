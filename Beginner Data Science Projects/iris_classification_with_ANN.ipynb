{
  "nbformat": 4,
  "nbformat_minor": 0,
  "metadata": {
    "colab": {
      "provenance": []
    },
    "kernelspec": {
      "name": "python3",
      "display_name": "Python 3"
    },
    "language_info": {
      "name": "python"
    },
    "accelerator": "GPU",
    "gpuClass": "standard"
  },
  "cells": [
    {
      "cell_type": "code",
      "execution_count": 1,
      "metadata": {
        "id": "83vBQRdiornd"
      },
      "outputs": [],
      "source": [
        "# imports\n",
        "import numpy as np\n",
        "np.random.seed(42)\n",
        "from tensorflow.keras.utils import set_random_seed\n",
        "set_random_seed(42)\n",
        "import pandas as pd\n",
        "import seaborn as sns\n",
        "from tensorflow.keras.utils import to_categorical\n",
        "from sklearn.model_selection import train_test_split\n",
        "from sklearn.preprocessing import MinMaxScaler\n",
        "from tensorflow.keras import Sequential \n",
        "from tensorflow.keras.layers import Dense, BatchNormalization\n",
        "from sklearn.metrics import confusion_matrix, classification_report\n",
        "import warnings\n",
        "warnings.filterwarnings('ignore')"
      ]
    },
    {
      "cell_type": "code",
      "source": [
        "# loading dataset\n",
        "df = sns.load_dataset('iris')\n",
        "df.head()"
      ],
      "metadata": {
        "colab": {
          "base_uri": "https://localhost:8080/",
          "height": 206
        },
        "id": "P95KBfrvo1Fa",
        "outputId": "1d0de118-18d9-48c9-de05-903f6374fa5d"
      },
      "execution_count": 2,
      "outputs": [
        {
          "output_type": "execute_result",
          "data": {
            "text/plain": [
              "   sepal_length  sepal_width  petal_length  petal_width species\n",
              "0           5.1          3.5           1.4          0.2  setosa\n",
              "1           4.9          3.0           1.4          0.2  setosa\n",
              "2           4.7          3.2           1.3          0.2  setosa\n",
              "3           4.6          3.1           1.5          0.2  setosa\n",
              "4           5.0          3.6           1.4          0.2  setosa"
            ],
            "text/html": [
              "\n",
              "  <div id=\"df-794a472e-004f-475e-9261-3d626202ed4e\">\n",
              "    <div class=\"colab-df-container\">\n",
              "      <div>\n",
              "<style scoped>\n",
              "    .dataframe tbody tr th:only-of-type {\n",
              "        vertical-align: middle;\n",
              "    }\n",
              "\n",
              "    .dataframe tbody tr th {\n",
              "        vertical-align: top;\n",
              "    }\n",
              "\n",
              "    .dataframe thead th {\n",
              "        text-align: right;\n",
              "    }\n",
              "</style>\n",
              "<table border=\"1\" class=\"dataframe\">\n",
              "  <thead>\n",
              "    <tr style=\"text-align: right;\">\n",
              "      <th></th>\n",
              "      <th>sepal_length</th>\n",
              "      <th>sepal_width</th>\n",
              "      <th>petal_length</th>\n",
              "      <th>petal_width</th>\n",
              "      <th>species</th>\n",
              "    </tr>\n",
              "  </thead>\n",
              "  <tbody>\n",
              "    <tr>\n",
              "      <th>0</th>\n",
              "      <td>5.1</td>\n",
              "      <td>3.5</td>\n",
              "      <td>1.4</td>\n",
              "      <td>0.2</td>\n",
              "      <td>setosa</td>\n",
              "    </tr>\n",
              "    <tr>\n",
              "      <th>1</th>\n",
              "      <td>4.9</td>\n",
              "      <td>3.0</td>\n",
              "      <td>1.4</td>\n",
              "      <td>0.2</td>\n",
              "      <td>setosa</td>\n",
              "    </tr>\n",
              "    <tr>\n",
              "      <th>2</th>\n",
              "      <td>4.7</td>\n",
              "      <td>3.2</td>\n",
              "      <td>1.3</td>\n",
              "      <td>0.2</td>\n",
              "      <td>setosa</td>\n",
              "    </tr>\n",
              "    <tr>\n",
              "      <th>3</th>\n",
              "      <td>4.6</td>\n",
              "      <td>3.1</td>\n",
              "      <td>1.5</td>\n",
              "      <td>0.2</td>\n",
              "      <td>setosa</td>\n",
              "    </tr>\n",
              "    <tr>\n",
              "      <th>4</th>\n",
              "      <td>5.0</td>\n",
              "      <td>3.6</td>\n",
              "      <td>1.4</td>\n",
              "      <td>0.2</td>\n",
              "      <td>setosa</td>\n",
              "    </tr>\n",
              "  </tbody>\n",
              "</table>\n",
              "</div>\n",
              "      <button class=\"colab-df-convert\" onclick=\"convertToInteractive('df-794a472e-004f-475e-9261-3d626202ed4e')\"\n",
              "              title=\"Convert this dataframe to an interactive table.\"\n",
              "              style=\"display:none;\">\n",
              "        \n",
              "  <svg xmlns=\"http://www.w3.org/2000/svg\" height=\"24px\"viewBox=\"0 0 24 24\"\n",
              "       width=\"24px\">\n",
              "    <path d=\"M0 0h24v24H0V0z\" fill=\"none\"/>\n",
              "    <path d=\"M18.56 5.44l.94 2.06.94-2.06 2.06-.94-2.06-.94-.94-2.06-.94 2.06-2.06.94zm-11 1L8.5 8.5l.94-2.06 2.06-.94-2.06-.94L8.5 2.5l-.94 2.06-2.06.94zm10 10l.94 2.06.94-2.06 2.06-.94-2.06-.94-.94-2.06-.94 2.06-2.06.94z\"/><path d=\"M17.41 7.96l-1.37-1.37c-.4-.4-.92-.59-1.43-.59-.52 0-1.04.2-1.43.59L10.3 9.45l-7.72 7.72c-.78.78-.78 2.05 0 2.83L4 21.41c.39.39.9.59 1.41.59.51 0 1.02-.2 1.41-.59l7.78-7.78 2.81-2.81c.8-.78.8-2.07 0-2.86zM5.41 20L4 18.59l7.72-7.72 1.47 1.35L5.41 20z\"/>\n",
              "  </svg>\n",
              "      </button>\n",
              "      \n",
              "  <style>\n",
              "    .colab-df-container {\n",
              "      display:flex;\n",
              "      flex-wrap:wrap;\n",
              "      gap: 12px;\n",
              "    }\n",
              "\n",
              "    .colab-df-convert {\n",
              "      background-color: #E8F0FE;\n",
              "      border: none;\n",
              "      border-radius: 50%;\n",
              "      cursor: pointer;\n",
              "      display: none;\n",
              "      fill: #1967D2;\n",
              "      height: 32px;\n",
              "      padding: 0 0 0 0;\n",
              "      width: 32px;\n",
              "    }\n",
              "\n",
              "    .colab-df-convert:hover {\n",
              "      background-color: #E2EBFA;\n",
              "      box-shadow: 0px 1px 2px rgba(60, 64, 67, 0.3), 0px 1px 3px 1px rgba(60, 64, 67, 0.15);\n",
              "      fill: #174EA6;\n",
              "    }\n",
              "\n",
              "    [theme=dark] .colab-df-convert {\n",
              "      background-color: #3B4455;\n",
              "      fill: #D2E3FC;\n",
              "    }\n",
              "\n",
              "    [theme=dark] .colab-df-convert:hover {\n",
              "      background-color: #434B5C;\n",
              "      box-shadow: 0px 1px 3px 1px rgba(0, 0, 0, 0.15);\n",
              "      filter: drop-shadow(0px 1px 2px rgba(0, 0, 0, 0.3));\n",
              "      fill: #FFFFFF;\n",
              "    }\n",
              "  </style>\n",
              "\n",
              "      <script>\n",
              "        const buttonEl =\n",
              "          document.querySelector('#df-794a472e-004f-475e-9261-3d626202ed4e button.colab-df-convert');\n",
              "        buttonEl.style.display =\n",
              "          google.colab.kernel.accessAllowed ? 'block' : 'none';\n",
              "\n",
              "        async function convertToInteractive(key) {\n",
              "          const element = document.querySelector('#df-794a472e-004f-475e-9261-3d626202ed4e');\n",
              "          const dataTable =\n",
              "            await google.colab.kernel.invokeFunction('convertToInteractive',\n",
              "                                                     [key], {});\n",
              "          if (!dataTable) return;\n",
              "\n",
              "          const docLinkHtml = 'Like what you see? Visit the ' +\n",
              "            '<a target=\"_blank\" href=https://colab.research.google.com/notebooks/data_table.ipynb>data table notebook</a>'\n",
              "            + ' to learn more about interactive tables.';\n",
              "          element.innerHTML = '';\n",
              "          dataTable['output_type'] = 'display_data';\n",
              "          await google.colab.output.renderOutput(dataTable, element);\n",
              "          const docLink = document.createElement('div');\n",
              "          docLink.innerHTML = docLinkHtml;\n",
              "          element.appendChild(docLink);\n",
              "        }\n",
              "      </script>\n",
              "    </div>\n",
              "  </div>\n",
              "  "
            ]
          },
          "metadata": {},
          "execution_count": 2
        }
      ]
    },
    {
      "cell_type": "code",
      "source": [
        "# converting the categorical target feature into a numerical one\n",
        "df['species'] = df['species'].map({'setosa':0, 'versicolor':1, 'virginica':2})"
      ],
      "metadata": {
        "id": "YZmlitSao_s-"
      },
      "execution_count": 3,
      "outputs": []
    },
    {
      "cell_type": "code",
      "source": [
        "# creating X & y; converting a vector of integers (y) into a one-hot-encoded vector\n",
        "X = df.drop(['species'], axis=1)\n",
        "y = to_categorical(y=df['species'], num_classes=3)"
      ],
      "metadata": {
        "id": "r-2RsdYMpPZB"
      },
      "execution_count": 4,
      "outputs": []
    },
    {
      "cell_type": "code",
      "source": [
        "# splitting the data into training & testing sets\n",
        "X_train, X_test, y_train, y_test = train_test_split(X, y, test_size=0.2)"
      ],
      "metadata": {
        "id": "qgWpOFV8psLa"
      },
      "execution_count": 5,
      "outputs": []
    },
    {
      "cell_type": "code",
      "source": [
        "# scaling the data\n",
        "scaler = MinMaxScaler()\n",
        "X_train = scaler.fit_transform(X_train)\n",
        "X_test = scaler.transform(X_test)"
      ],
      "metadata": {
        "id": "9-Ve-c7apyuK"
      },
      "execution_count": 6,
      "outputs": []
    },
    {
      "cell_type": "code",
      "source": [
        "# defining an MLP architecture\n",
        "model = Sequential()\n",
        "model.add(Dense(8, activation='relu', input_dim=4))\n",
        "model.add(BatchNormalization())\n",
        "model.add(Dense(4, activation='relu'))\n",
        "model.add(BatchNormalization())\n",
        "model.add(Dense(3, activation='softmax'))"
      ],
      "metadata": {
        "id": "4RmmtT96p1tG"
      },
      "execution_count": 7,
      "outputs": []
    },
    {
      "cell_type": "code",
      "source": [
        "# model compilation\n",
        "model.compile(loss='categorical_crossentropy', optimizer='adam', metrics=['accuracy'])"
      ],
      "metadata": {
        "id": "j5g777awp_xL"
      },
      "execution_count": 8,
      "outputs": []
    },
    {
      "cell_type": "code",
      "source": [
        "# model training\n",
        "history = model.fit(X_train, y_train, batch_size=50, epochs=500, validation_data=(X_test, y_test), verbose=0)"
      ],
      "metadata": {
        "id": "2WGgErzpqHU2"
      },
      "execution_count": 9,
      "outputs": []
    },
    {
      "cell_type": "code",
      "source": [
        "# model evaluation\n",
        "score = model.evaluate(X_test, y_test, verbose=0)\n",
        "print('Loss:', round((score[0] * 100), 2))\n",
        "print('Accuracy:', round((score[1] * 100), 2))"
      ],
      "metadata": {
        "id": "Rm95T3UIqNOa",
        "colab": {
          "base_uri": "https://localhost:8080/"
        },
        "outputId": "bab04fea-c21e-4eb3-96c6-638ab65915e7"
      },
      "execution_count": 10,
      "outputs": [
        {
          "output_type": "stream",
          "name": "stdout",
          "text": [
            "Loss: 3.79\n",
            "Accuracy: 100.0\n"
          ]
        }
      ]
    },
    {
      "cell_type": "markdown",
      "source": [
        "## confusion matrix"
      ],
      "metadata": {
        "id": "DzLDDuYsIXqn"
      }
    },
    {
      "cell_type": "code",
      "source": [
        "# plotting confusion matrix\n",
        "print(confusion_matrix(\n",
        "    y_true = np.argmax(y_test, axis=1),\n",
        "    y_pred = np.argmax(model.predict(X_test, verbose=0), axis=1)\n",
        "    ))"
      ],
      "metadata": {
        "colab": {
          "base_uri": "https://localhost:8080/"
        },
        "id": "dnK37fOsCU9O",
        "outputId": "ff331a5d-9c66-4330-fd52-d5d728db430b"
      },
      "execution_count": 11,
      "outputs": [
        {
          "output_type": "stream",
          "name": "stdout",
          "text": [
            "[[10  0  0]\n",
            " [ 0  9  0]\n",
            " [ 0  0 11]]\n"
          ]
        }
      ]
    },
    {
      "cell_type": "markdown",
      "source": [
        "## classification report"
      ],
      "metadata": {
        "id": "TB2qQ5UlIfwE"
      }
    },
    {
      "cell_type": "code",
      "source": [
        "# getting the argmax of true values\n",
        "y_test = np.argmax(y_test, axis=1)\n",
        "print(y_test)\n",
        "print(y_test.shape)"
      ],
      "metadata": {
        "colab": {
          "base_uri": "https://localhost:8080/"
        },
        "id": "gUzRDfJMwUSy",
        "outputId": "f9ff9b7e-f93a-43b9-d583-cef90e6dd147"
      },
      "execution_count": 12,
      "outputs": [
        {
          "output_type": "stream",
          "name": "stdout",
          "text": [
            "[1 0 2 1 1 0 1 2 1 1 2 0 0 0 0 1 2 1 1 2 0 2 0 2 2 2 2 2 0 0]\n",
            "(30,)\n"
          ]
        }
      ]
    },
    {
      "cell_type": "code",
      "source": [
        "# making predictions\n",
        "y_pred = model.predict(X_test, verbose=0)\n",
        "print(y_pred)\n",
        "print(y_pred.shape)"
      ],
      "metadata": {
        "id": "5btm3-UPiZcY",
        "colab": {
          "base_uri": "https://localhost:8080/"
        },
        "outputId": "afd9a115-c3a1-42c8-94ab-c7b6254ce0bd"
      },
      "execution_count": 13,
      "outputs": [
        {
          "output_type": "stream",
          "name": "stdout",
          "text": [
            "[[1.46292220e-03 7.47362554e-01 2.51174539e-01]\n",
            " [9.95336354e-01 3.80969234e-03 8.53979087e-04]\n",
            " [1.55674388e-06 2.88254432e-05 9.99969602e-01]\n",
            " [6.61468250e-04 9.95102167e-01 4.23638942e-03]\n",
            " [6.71521062e-03 9.64803100e-01 2.84817312e-02]\n",
            " [9.95017469e-01 4.07857914e-03 9.03929467e-04]\n",
            " [4.38200004e-05 9.99942899e-01 1.32893711e-05]\n",
            " [2.18495773e-03 2.95701018e-03 9.94858027e-01]\n",
            " [2.15295167e-03 9.84773874e-01 1.30731473e-02]\n",
            " [3.10490606e-04 9.99518871e-01 1.70679225e-04]\n",
            " [2.42167688e-03 4.10330184e-02 9.56545353e-01]\n",
            " [9.96932626e-01 2.47188914e-03 5.95434161e-04]\n",
            " [9.97937202e-01 1.63995172e-03 4.22901270e-04]\n",
            " [9.96326745e-01 2.97788065e-03 6.95448951e-04]\n",
            " [9.98677671e-01 1.03430974e-03 2.87929375e-04]\n",
            " [7.77796493e-04 9.96596038e-01 2.62610381e-03]\n",
            " [3.75873897e-05 5.39241126e-04 9.99423146e-01]\n",
            " [6.51720329e-04 9.98877704e-01 4.70608880e-04]\n",
            " [7.27662467e-04 9.91641760e-01 7.63058057e-03]\n",
            " [1.51957502e-05 2.25089272e-04 9.99759734e-01]\n",
            " [9.96530235e-01 2.80763023e-03 6.62139559e-04]\n",
            " [6.53516455e-03 4.78200346e-01 5.15264452e-01]\n",
            " [9.95912969e-01 3.32474569e-03 7.62353768e-04]\n",
            " [4.47977363e-05 6.60350197e-04 9.99294877e-01]\n",
            " [3.43354209e-03 2.08868049e-02 9.75679696e-01]\n",
            " [1.55958987e-04 4.95012093e-04 9.99349058e-01]\n",
            " [1.77262518e-05 8.09452264e-04 9.99172747e-01]\n",
            " [1.11904665e-05 1.39884782e-04 9.99848843e-01]\n",
            " [9.96117115e-01 3.15341540e-03 7.29460735e-04]\n",
            " [9.95163679e-01 3.95516492e-03 8.81073938e-04]]\n",
            "(30, 3)\n"
          ]
        }
      ]
    },
    {
      "cell_type": "code",
      "source": [
        "# getting the argmax of predictions\n",
        "rounded_pred = np.argmax(y_pred, axis=-1)\n",
        "print(rounded_pred)\n",
        "print(rounded_pred.shape)"
      ],
      "metadata": {
        "colab": {
          "base_uri": "https://localhost:8080/"
        },
        "id": "MwD9ODmVpXyn",
        "outputId": "e44875f8-16b4-4902-a1bf-1220bb28a71d"
      },
      "execution_count": 14,
      "outputs": [
        {
          "output_type": "stream",
          "name": "stdout",
          "text": [
            "[1 0 2 1 1 0 1 2 1 1 2 0 0 0 0 1 2 1 1 2 0 2 0 2 2 2 2 2 0 0]\n",
            "(30,)\n"
          ]
        }
      ]
    },
    {
      "cell_type": "code",
      "source": [
        "# plotting the classification report\n",
        "print(classification_report(y_test, rounded_pred))"
      ],
      "metadata": {
        "colab": {
          "base_uri": "https://localhost:8080/"
        },
        "id": "9ScPdF4rvsJO",
        "outputId": "b7b2576e-bc50-42cb-f5d0-45aa165e70a3"
      },
      "execution_count": 15,
      "outputs": [
        {
          "output_type": "stream",
          "name": "stdout",
          "text": [
            "              precision    recall  f1-score   support\n",
            "\n",
            "           0       1.00      1.00      1.00        10\n",
            "           1       1.00      1.00      1.00         9\n",
            "           2       1.00      1.00      1.00        11\n",
            "\n",
            "    accuracy                           1.00        30\n",
            "   macro avg       1.00      1.00      1.00        30\n",
            "weighted avg       1.00      1.00      1.00        30\n",
            "\n"
          ]
        }
      ]
    },
    {
      "cell_type": "markdown",
      "source": [
        "## easy way of plotting a classification report\n",
        "    \n",
        "    print(classification_report(\n",
        "      y_true = np.argmax(y_test, axis=1), \n",
        "      y_pred = np.argmax(model.predict(X_test, verbose=0), axis=1)))"
      ],
      "metadata": {
        "id": "eCVb9H_03BaG"
      }
    }
  ]
}