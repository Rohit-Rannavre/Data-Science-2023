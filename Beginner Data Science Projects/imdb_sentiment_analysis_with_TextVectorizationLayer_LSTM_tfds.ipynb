{
  "nbformat": 4,
  "nbformat_minor": 0,
  "metadata": {
    "colab": {
      "provenance": []
    },
    "kernelspec": {
      "name": "python3",
      "display_name": "Python 3"
    },
    "language_info": {
      "name": "python"
    }
  },
  "cells": [
    {
      "cell_type": "code",
      "execution_count": 1,
      "metadata": {
        "id": "C_PBICZjJWLR"
      },
      "outputs": [],
      "source": [
        "# imports\n",
        "import tensorflow as tf\n",
        "import tensorflow_datasets as tfds\n",
        "from tensorflow.keras import Sequential\n",
        "from tensorflow.keras import layers\n",
        "from tensorflow.keras import callbacks\n",
        "from tensorflow.keras import utils\n",
        "utils.set_random_seed(27)"
      ]
    },
    {
      "cell_type": "code",
      "source": [
        "# loading data\n",
        "(train_ds, test_ds), info = tfds.load(name='imdb_reviews', split=['train', 'test'], \n",
        "                                      with_info=True, as_supervised=True, shuffle_files=True)"
      ],
      "metadata": {
        "id": "k8p5Np1G2KBW"
      },
      "execution_count": 2,
      "outputs": []
    },
    {
      "cell_type": "code",
      "source": [
        "# looking at data\n",
        "for i in train_ds.take(5).as_numpy_iterator():\n",
        "  print('Text:', i[0], '\\n', 'Label:', i[1], '\\n')"
      ],
      "metadata": {
        "colab": {
          "base_uri": "https://localhost:8080/"
        },
        "id": "K3-vhvs4cPsV",
        "outputId": "d357f0f7-381d-4f6f-cb18-6aec8b279438"
      },
      "execution_count": 3,
      "outputs": [
        {
          "output_type": "stream",
          "name": "stdout",
          "text": [
            "Text: b\"This was an absolutely terrible movie. Don't be lured in by Christopher Walken or Michael Ironside. Both are great actors, but this must simply be their worst role in history. Even their great acting could not redeem this movie's ridiculous storyline. This movie is an early nineties US propaganda piece. The most pathetic scenes were those when the Columbian rebels were making their cases for revolutions. Maria Conchita Alonso appeared phony, and her pseudo-love affair with Walken was nothing but a pathetic emotional plug in a movie that was devoid of any real meaning. I am disappointed that there are movies like this, ruining actor's like Christopher Walken's good name. I could barely sit through it.\" \n",
            " Label: 0 \n",
            "\n",
            "Text: b'I have been known to fall asleep during films, but this is usually due to a combination of things including, really tired, being warm and comfortable on the sette and having just eaten a lot. However on this occasion I fell asleep because the film was rubbish. The plot development was constant. Constantly slow and boring. Things seemed to happen, but with no explanation of what was causing them or why. I admit, I may have missed part of the film, but i watched the majority of it and everything just seemed to happen of its own accord without any real concern for anything else. I cant recommend this film at all.' \n",
            " Label: 0 \n",
            "\n",
            "Text: b'Mann photographs the Alberta Rocky Mountains in a superb fashion, and Jimmy Stewart and Walter Brennan give enjoyable performances as they always seem to do. <br /><br />But come on Hollywood - a Mountie telling the people of Dawson City, Yukon to elect themselves a marshal (yes a marshal!) and to enforce the law themselves, then gunfighters battling it out on the streets for control of the town? <br /><br />Nothing even remotely resembling that happened on the Canadian side of the border during the Klondike gold rush. Mr. Mann and company appear to have mistaken Dawson City for Deadwood, the Canadian North for the American Wild West.<br /><br />Canadian viewers be prepared for a Reefer Madness type of enjoyable howl with this ludicrous plot, or, to shake your head in disgust.' \n",
            " Label: 0 \n",
            "\n",
            "Text: b'This is the kind of film for a snowy Sunday afternoon when the rest of the world can go ahead with its own business as you descend into a big arm-chair and mellow for a couple of hours. Wonderful performances from Cher and Nicolas Cage (as always) gently row the plot along. There are no rapids to cross, no dangerous waters, just a warm and witty paddle through New York life at its best. A family film in every sense and one that deserves the praise it received.' \n",
            " Label: 1 \n",
            "\n",
            "Text: b'As others have mentioned, all the women that go nude in this film are mostly absolutely gorgeous. The plot very ably shows the hypocrisy of the female libido. When men are around they want to be pursued, but when no \"men\" are around, they become the pursuers of a 14 year old boy. And the boy becomes a man really fast (we should all be so lucky at this age!). He then gets up the courage to pursue his true love.' \n",
            " Label: 1 \n",
            "\n"
          ]
        }
      ]
    },
    {
      "cell_type": "code",
      "source": [
        "# getting size of train, test sets\n",
        "print('Train set size:', info.splits['train'].num_examples)\n",
        "print('Test set size:', info.splits['test'].num_examples)"
      ],
      "metadata": {
        "colab": {
          "base_uri": "https://localhost:8080/"
        },
        "id": "C60b147E7Z-n",
        "outputId": "d066face-da2a-4b6f-ab8d-0f686e669fa7"
      },
      "execution_count": 4,
      "outputs": [
        {
          "output_type": "stream",
          "name": "stdout",
          "text": [
            "Train set size: 25000\n",
            "Test set size: 25000\n"
          ]
        }
      ]
    },
    {
      "cell_type": "code",
      "source": [
        "# getting dtype of train, test sets\n",
        "print('Text', info.features['text'].tf_dtype)\n",
        "print('Label', info.features['label'].tf_dtype)"
      ],
      "metadata": {
        "colab": {
          "base_uri": "https://localhost:8080/"
        },
        "id": "llqMbBks7euD",
        "outputId": "f686fb25-9ed4-44bc-834a-8298cfcaceb0"
      },
      "execution_count": 5,
      "outputs": [
        {
          "output_type": "stream",
          "name": "stdout",
          "text": [
            "Text <dtype: 'string'>\n",
            "Label <dtype: 'int64'>\n"
          ]
        }
      ]
    },
    {
      "cell_type": "code",
      "source": [
        "# getting info of target feature\n",
        "print('Number of classes:', info.features['label'].num_classes)\n",
        "print('Class names:', info.features['label'].names)"
      ],
      "metadata": {
        "colab": {
          "base_uri": "https://localhost:8080/"
        },
        "id": "wMS77a4j7nOs",
        "outputId": "9822d167-7d4b-4421-a327-3267b580216f"
      },
      "execution_count": 6,
      "outputs": [
        {
          "output_type": "stream",
          "name": "stdout",
          "text": [
            "Number of classes: 2\n",
            "Class names: ['neg', 'pos']\n"
          ]
        }
      ]
    },
    {
      "cell_type": "code",
      "source": [
        "# text vetorization\n",
        "Vectorizer = layers.TextVectorization(max_tokens=1000+2, pad_to_max_tokens=True, standardize='lower_and_strip_punctuation', \n",
        "                                      split='whitespace', output_mode='int', output_sequence_length=100)\n",
        "reviews = train_ds.map(lambda text, label: text)\n",
        "Vectorizer.adapt(reviews)\n",
        "Vectorizer(reviews.take(1).get_single_element())"
      ],
      "metadata": {
        "colab": {
          "base_uri": "https://localhost:8080/"
        },
        "id": "RP1nZsWh74VI",
        "outputId": "107ea963-ca3b-4c2d-b2e1-a7feb3c10709"
      },
      "execution_count": 7,
      "outputs": [
        {
          "output_type": "execute_result",
          "data": {
            "text/plain": [
              "<tf.Tensor: shape=(100,), dtype=int64, numpy=\n",
              "array([ 11,  14,  34, 412, 384,  18,  90,  28,   1,   8,  33,   1,   1,\n",
              "        42, 487,   1, 191,  24,  85, 152,  19,  11, 217, 316,  28,  65,\n",
              "       240, 214,   8, 489,  54,  65,  85, 112,  96,  22,   1,  11,  93,\n",
              "       642, 743,  11,  18,   7,  34, 394,   1, 170,   1, 408,   2,  88,\n",
              "         1, 137,  66, 144,  51,   2,   1,   1,  66, 245,  65,   1,  16,\n",
              "         1,   1,   1,   1,   1,   1,   3,  40,   1,   1,  17,   1,  14,\n",
              "       158,  19,   4,   1, 891,   1,   8,   4,  18,  12,  14,   1,   5,\n",
              "        99, 146,   1,  10, 237, 704,  12,  48,  24])>"
            ]
          },
          "metadata": {},
          "execution_count": 7
        }
      ]
    },
    {
      "cell_type": "code",
      "source": [
        "# building input pipeline\n",
        "train_ds = train_ds.shuffle(len(train_ds)).batch(32).cache().prefetch(tf.data.AUTOTUNE)\n",
        "test_ds = test_ds.batch(32).prefetch(tf.data.AUTOTUNE)"
      ],
      "metadata": {
        "id": "9Lu6TRhxTzZ-"
      },
      "execution_count": 8,
      "outputs": []
    },
    {
      "cell_type": "code",
      "source": [
        "# model building\n",
        "model = Sequential()\n",
        "model.add(layers.Input(shape=(1,), dtype=tf.string))\n",
        "model.add(Vectorizer)\n",
        "model.add(layers.Embedding(input_dim=Vectorizer.vocabulary_size(), output_dim=2, input_length=(100)))\n",
        "model.add(layers.LSTM(units=32, activation='tanh', return_sequences=True, dropout=0.4, input_shape=(32, 100, 1)))\n",
        "model.add(layers.BatchNormalization())\n",
        "model.add(layers.LSTM(units=16, activation='tanh', dropout=0.4))\n",
        "model.add(layers.BatchNormalization())\n",
        "model.add(layers.Dense(units=8, activation='relu'))\n",
        "model.add(layers.Dense(units=1, activation='sigmoid'))"
      ],
      "metadata": {
        "id": "zr5ONPcwMZEH"
      },
      "execution_count": 9,
      "outputs": []
    },
    {
      "cell_type": "code",
      "source": [
        "# model summary\n",
        "model.summary()"
      ],
      "metadata": {
        "colab": {
          "base_uri": "https://localhost:8080/"
        },
        "id": "wA-dFIBZkFlH",
        "outputId": "47c2df96-f2f6-4254-834f-76f6f4e812a0"
      },
      "execution_count": 10,
      "outputs": [
        {
          "output_type": "stream",
          "name": "stdout",
          "text": [
            "Model: \"sequential\"\n",
            "_________________________________________________________________\n",
            " Layer (type)                Output Shape              Param #   \n",
            "=================================================================\n",
            " text_vectorization (TextVec  (None, 100)              0         \n",
            " torization)                                                     \n",
            "                                                                 \n",
            " embedding (Embedding)       (None, 100, 2)            2004      \n",
            "                                                                 \n",
            " lstm (LSTM)                 (None, 100, 32)           4480      \n",
            "                                                                 \n",
            " batch_normalization (BatchN  (None, 100, 32)          128       \n",
            " ormalization)                                                   \n",
            "                                                                 \n",
            " lstm_1 (LSTM)               (None, 16)                3136      \n",
            "                                                                 \n",
            " batch_normalization_1 (Batc  (None, 16)               64        \n",
            " hNormalization)                                                 \n",
            "                                                                 \n",
            " dense (Dense)               (None, 8)                 136       \n",
            "                                                                 \n",
            " dense_1 (Dense)             (None, 1)                 9         \n",
            "                                                                 \n",
            "=================================================================\n",
            "Total params: 9,957\n",
            "Trainable params: 9,861\n",
            "Non-trainable params: 96\n",
            "_________________________________________________________________\n"
          ]
        }
      ]
    },
    {
      "cell_type": "code",
      "source": [
        "# model config\n",
        "model.compile(loss='binary_crossentropy', optimizer='adam', metrics=['accuracy'])"
      ],
      "metadata": {
        "id": "-g8k8b8kQAH7"
      },
      "execution_count": 11,
      "outputs": []
    },
    {
      "cell_type": "code",
      "source": [
        "# model training\n",
        "history = model.fit(train_ds, verbose=1)"
      ],
      "metadata": {
        "colab": {
          "base_uri": "https://localhost:8080/"
        },
        "id": "Zkkpb7ZXVqV1",
        "outputId": "89b014a5-3647-438f-f4cb-8966ae9c9ae3"
      },
      "execution_count": 12,
      "outputs": [
        {
          "output_type": "stream",
          "name": "stdout",
          "text": [
            "782/782 [==============================] - 96s 114ms/step - loss: 0.6382 - accuracy: 0.6136\n"
          ]
        }
      ]
    },
    {
      "cell_type": "code",
      "source": [
        "# model evaluation\n",
        "scores = model.evaluate(test_ds, verbose=0)\n",
        "print('Accuracy:', round(scores[1] * 100, 2))"
      ],
      "metadata": {
        "colab": {
          "base_uri": "https://localhost:8080/"
        },
        "id": "9-8-L_kjV12S",
        "outputId": "0169b6a2-afb8-4cfe-daa6-f3ad3839a987"
      },
      "execution_count": 13,
      "outputs": [
        {
          "output_type": "stream",
          "name": "stdout",
          "text": [
            "Accuracy: 69.7\n"
          ]
        }
      ]
    }
  ]
}